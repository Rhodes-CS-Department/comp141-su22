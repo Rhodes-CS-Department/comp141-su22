{
 "cells": [
  {
   "cell_type": "markdown",
   "metadata": {},
   "source": [
    "## Midterm 1 Information\n",
    "* Thursday, May 26th - opens at 10am. It will close at midnight. \n",
    "* It will be in the form of a Quiz on Canvas. \n",
    "* Once you start it, you will have 2 hours to complete it. It is a timed exam, but I'm giving you much longer to complete it than I expect it to take. \n",
    "\n",
    "__Exam Directions__\n",
    "* You may NOT use any course materials in completing this exam. It is a closed book, closed note exam.\n",
    "\n",
    "* You may use a calculator on the exam if you think it will be helpful. \n",
    "\n",
    "* The work you turn in must be your own. You may not ask other students for help with the exam, and you may not help other students with the exam. \n",
    "\n",
    "* If you have questions during the exam, feel free to email me and I will get back to you as quickly as possible.\n"
   ]
  },
  {
   "cell_type": "code",
   "execution_count": null,
   "metadata": {},
   "outputs": [],
   "source": [
    "# Quiz-like Question 1\n",
    "def main():\n",
    "    x = 3\n",
    "    y = 0\n",
    "    while x < 9:\n",
    "        y += x\n",
    "        x += 2        \n",
    "    print(x, y)\n",
    "main()"
   ]
  },
  {
   "cell_type": "code",
   "execution_count": null,
   "metadata": {},
   "outputs": [],
   "source": [
    "# Quiz-like Question 2\n",
    "counter = 1\n",
    "while counter < 11:\n",
    "    counter += 1\n",
    "print(counter)"
   ]
  },
  {
   "cell_type": "code",
   "execution_count": null,
   "metadata": {},
   "outputs": [],
   "source": [
    "# Quiz-like Question 3\n",
    "cat = 0\n",
    "while cat > 5:\n",
    "    cat = cat + 1\n",
    "    print(cat, end=\"\")\n",
    "print(\"Meow\")"
   ]
  },
  {
   "cell_type": "code",
   "execution_count": null,
   "metadata": {},
   "outputs": [],
   "source": [
    "#Quiz-like Question 4\n",
    "apples = 1\n",
    "bananas = 4\n",
    "count = 0\n",
    "while apples < bananas:\n",
    "    apples = apples * 2\n",
    "    bananas = bananas + 2\n",
    "    count += 1\n",
    "print(count)"
   ]
  },
  {
   "cell_type": "markdown",
   "metadata": {},
   "source": [
    "## Practice From Last Time"
   ]
  },
  {
   "cell_type": "markdown",
   "metadata": {},
   "source": [
    "Using the pseudocode below, write a \"Guess that Number\" game\n",
    "\n",
    "__Pseudocode for Guess the Number Game__\n",
    "```\n",
    "number = generate a random number between 1 and 100\n",
    "guess = ask user to guess a number between 1 and 100\n",
    "if number does not equal guess, then keep going\n",
    "if guess is greater than number, tell user this\n",
    "else if guess is less than number, tell user this\n",
    "guess = ask user to guess a number between 0 and 100\n",
    "if number does not equal guess, then keep going\n",
    "if guess is greater than number, tell user this\n",
    "else if guess is less than number, tell user this\n",
    "guess = ask user to guess a number between 0 and 100\n",
    "if number does not equal guess, then keep going\n",
    "if guess is greater than number, tell user this\n",
    "else if guess is less than number, tell user this\n",
    ". . .\n",
    "When user guesses correct number, tell them so\n",
    "```\n",
    "\n",
    "Here's a Sample Output for the Program:\n",
    "```\n",
    "Guess a number between 1 and 100: 50\n",
    "Your guess was too high.\n",
    "Please try again: 40\n",
    "Your guess was to high.\n",
    "Please try again: 30\n",
    "Your guess was too low.\n",
    "Please try again: 35\n",
    "You guessed correctly! Great work!\n",
    "```"
   ]
  },
  {
   "cell_type": "code",
   "execution_count": null,
   "metadata": {},
   "outputs": [],
   "source": [
    "#Guess that Number Game \n",
    "import random  #you'll need this to be able to generate a random number\n",
    "\n",
    "def main():\n",
    "    number = random.randint(1, 100)\n",
    "    guess = int(input(\"Guess a number between 1 and 100: \"))\n",
    "    while guess != number:\n",
    "        if guess > number:\n",
    "            print(\"Your guess was too high.\")\n",
    "        else:\n",
    "            print(\"Your guess was too low.\")\n",
    "        \n",
    "        \n",
    "        guess = int(input(\"Guess again: \"))\n",
    "        \n",
    "    print(\"You guessed correctly! Great work!\")\n",
    "    \n",
    "main()"
   ]
  },
  {
   "cell_type": "markdown",
   "metadata": {},
   "source": [
    "## More Practice from Last Time\n",
    "\n",
    "Write a program that asks the user to type in two integers, over and over again. Print the sum of the two integers. Make the loop stop when the second integer is less than zero (and don’t print the sum in this case).\n",
    "\n",
    "a. Change the loop so the sum is printed when the second integer is less than zero.\n",
    "\n",
    "b. Make the loop stop when the sum of the two integers is odd. (try it both with printing the sum and not printing).\n",
    "\n",
    "c. Make the loop stop when the first integer is less than zero (and then don’t ask for the second one)."
   ]
  },
  {
   "cell_type": "code",
   "execution_count": null,
   "metadata": {},
   "outputs": [],
   "source": [
    "# Write a program that asks the user to type in two integers, over and over again. \n",
    "# Print the sum of the two integers. Make the loop stop when the second integer is \n",
    "# less than zero (and don’t print the sum in this case).\n",
    "\n",
    "num1 = int(input(\"Integer 1: \"))\n",
    "num2 = int(input(\"Integer 2: \"))\n",
    "while num2 >= 0:\n",
    "    print(\"Sum is:\", num1 + num2)\n",
    "    num1 = int(input(\"Integer 1: \"))\n",
    "    num2 = int(input(\"Integer 2: \"))"
   ]
  },
  {
   "cell_type": "code",
   "execution_count": null,
   "metadata": {},
   "outputs": [],
   "source": [
    "#Change the loop so the sum is printed when the second integer is less than zero.\n",
    "num2 = 0\n",
    "while num2 >= 0:\n",
    "    num1 = int(input(\"Integer 1: \"))\n",
    "    num2 = int(input(\"Integer 2: \"))\n",
    "    print(\"Sum is:\", num1 + num2)"
   ]
  },
  {
   "cell_type": "code",
   "execution_count": null,
   "metadata": {},
   "outputs": [],
   "source": [
    "#Make the loop stop when the sum of the two integers is odd. (with printing the sum).\n",
    "num1 = 0\n",
    "num2 = 0\n",
    "while (num1 + num2) % 2 == 0:\n",
    "    num1 = int(input(\"Integer 1: \"))\n",
    "    num2 = int(input(\"Integer 2: \"))\n",
    "    print(\"Sum is:\", num1 + num2)"
   ]
  },
  {
   "cell_type": "code",
   "execution_count": null,
   "metadata": {},
   "outputs": [],
   "source": [
    "#Make the loop stop when the first integer is less than zero (and then don’t ask for the second one).\n"
   ]
  },
  {
   "cell_type": "markdown",
   "metadata": {},
   "source": [
    "# Day 8: Loops that Count and Count-Controlled Loops"
   ]
  },
  {
   "cell_type": "markdown",
   "metadata": {},
   "source": [
    "For each of the following cells, follow the instructions in the cell and write a loop that does as specifies. The first one is done for you.\n",
    "\n",
    "You don't need to write any functions for these, just the loop code is fine."
   ]
  },
  {
   "cell_type": "code",
   "execution_count": null,
   "metadata": {},
   "outputs": [],
   "source": [
    "# Write a loop to print the multiples of 3 (between 3 and 60, inclusive).\n",
    "cnt = 3\n",
    "while cnt <= 60:\n",
    "    print(cnt)\n",
    "    cnt += 3"
   ]
  },
  {
   "cell_type": "code",
   "execution_count": null,
   "metadata": {},
   "outputs": [],
   "source": [
    "# Write a loop to print the multiples of 5 (between 5 and 60, inclusive).\n"
   ]
  },
  {
   "cell_type": "code",
   "execution_count": null,
   "metadata": {},
   "outputs": [],
   "source": [
    "# Write a loop to print the multiples of 3 and/or 5 (between 3 and 60, inclusive).\n",
    "# (This should be one single increasing list of numbers.)\n",
    "# Hint: a value is a multiple of 3 if value % 3 == 0:\n"
   ]
  },
  {
   "cell_type": "code",
   "execution_count": null,
   "metadata": {},
   "outputs": [],
   "source": [
    "#  Write a loop to print the numbers from 1 to 30, each labeled with the word\n",
    "# \"even\" or \"odd\" depending on the number.\n"
   ]
  },
  {
   "cell_type": "code",
   "execution_count": null,
   "metadata": {},
   "outputs": [],
   "source": [
    "# Write a loop to print the numbers from 1 to 30, each labeled with whether the number is \n",
    "# divisible by 3, by 5, by both 3 and 5, or neither 3 nor 5.\n"
   ]
  },
  {
   "cell_type": "markdown",
   "metadata": {},
   "source": [
    "## Greatest Common Divisor\n",
    "\n",
    "Finding the greatest common divisor of 2 numbers is a common problem that mathematicians need to solve. It is especially useful for reducing fractions to be in lowest terms. \n",
    "\n",
    "The greatest common divisor (gcd) of two or more integers, which are not all zero, is the largest positive integer that divides each of the integers. For example, the gcd of 8 and 12 is 4.\n",
    "\n",
    "Let's write code to find the gcd of any 2 numbers.\n",
    "\n",
    "1. Start by writing a loop that prints all divisors of 30. Your code should print out the following: 1, 2, 3, 5, 6, 10, 15, 30\n",
    "2. Next, modify this loop to print out all common divisors of 30 AND 50. Your code should print out 1, 2, 5, 10.\n",
    "3. Now let the user select any 2 integers and print out the common divisors of these 2 integers\n",
    "4. Finally, modify your code so it only prints out the largest of the common divisors of these 2 numbers"
   ]
  },
  {
   "cell_type": "code",
   "execution_count": null,
   "metadata": {},
   "outputs": [],
   "source": [
    "#Solution to Step 1"
   ]
  },
  {
   "cell_type": "code",
   "execution_count": null,
   "metadata": {},
   "outputs": [],
   "source": [
    "#Solution to Step 2"
   ]
  },
  {
   "cell_type": "code",
   "execution_count": null,
   "metadata": {},
   "outputs": [],
   "source": [
    "#Solution to Step 3"
   ]
  },
  {
   "cell_type": "code",
   "execution_count": null,
   "metadata": {},
   "outputs": [],
   "source": [
    "#Solution to Step 4"
   ]
  },
  {
   "cell_type": "markdown",
   "metadata": {},
   "source": [
    "## Accumulating a String\n",
    "In addition to accumulating number values inside a loop, you can also accumulate a string using string concatenation.  One way to do this is to initialize an empty string and then accumulate the value inside the loop.\n",
    "\n",
    "` s = ''`\n",
    "\n",
    "` s = s + '*'  #the order of the additions here matters sometimes`"
   ]
  },
  {
   "cell_type": "code",
   "execution_count": null,
   "metadata": {},
   "outputs": [],
   "source": [
    "# Quiz-like Question\n",
    "output = \"\"\n",
    "x = -5\n",
    "while x < 0:\n",
    "    x = x + 1\n",
    "    output = output + str(x) + \" \"\n",
    "print(output)"
   ]
  },
  {
   "cell_type": "markdown",
   "metadata": {},
   "source": [
    "### Practice\n",
    "Now you try.   Create a snippet of code that asks the user for the length of a fence.  The posts will be the '|' character and the beams will be the '-' character.   When the user gives the value 5, the fence that will be printed will look like:  '|-|-|-|-|-|'  (it has 6 posts and 5 beams).   For this problem, I want you to use a loop to solve it.  There is a shorter way to do it."
   ]
  },
  {
   "cell_type": "code",
   "execution_count": null,
   "metadata": {},
   "outputs": [],
   "source": [
    "def main():\n",
    "    x = int(input(\"Length of fence: \"))\n",
    "    #ADD the rest of your code here\n",
    "\n",
    "main()"
   ]
  },
  {
   "cell_type": "markdown",
   "metadata": {},
   "source": [
    "## Running Totals\n",
    "\n",
    "Often loops are used to compute running totals. The general syntax for this is as follows:\n",
    "```\n",
    "#must initialize total to something before the loop, 0 ensures that it won't affect the overall sum that you compute\n",
    "total = 0  \n",
    "while __test__:\n",
    "    total += some_value\n",
    "    some_value gets updated\n",
    "```"
   ]
  },
  {
   "cell_type": "code",
   "execution_count": null,
   "metadata": {},
   "outputs": [],
   "source": [
    "# Example with Running Total\n",
    "total = 0\n",
    "\n",
    "cnt = 1\n",
    "while cnt <= 10:\n",
    "    total += cnt\n",
    "    cnt += 1\n",
    "\n",
    "print(\"The total of the first 10 counting numbers is: \", total)"
   ]
  },
  {
   "cell_type": "markdown",
   "metadata": {},
   "source": [
    "When writing loops, you should be careful not to make any 1 variable do too many things. It's okay to use 1 variable to control the loop, another to keep track of total, and a 3rd variable to handle some other functionality. Here's an example of a loop we can write that is easiest to write with a few different variables.\n",
    "\n",
    "Write a while loop that will compute the sum of the first $n$ positive odd numbers.  For example, if $n$ is 5, you should compute 1 + 3 + 5 + 7 + 9."
   ]
  },
  {
   "cell_type": "code",
   "execution_count": null,
   "metadata": {},
   "outputs": [],
   "source": [
    "n = int(input(\"N: \")) #assume we get n from the user"
   ]
  },
  {
   "cell_type": "markdown",
   "metadata": {},
   "source": [
    "## For-Loops\n",
    "\n",
    "__Count-Controlled loop:__ iterates a specific number of times\n",
    "* Use a for statement to write count-controlled loop \n",
    "* Designed to work with sequence of data items\n",
    "* Iterates once for each item in the sequence\n",
    "* General Format: \n",
    "```\n",
    "for variable in [val1, val2, etc]:\n",
    "\tstatements\n",
    "```\n",
    "* In the format above, variable is a new variable that gets created as part of this for statement - you can use this variable anywhere inside the loop body or after the loop is done iterating\n"
   ]
  },
  {
   "cell_type": "code",
   "execution_count": null,
   "metadata": {},
   "outputs": [],
   "source": [
    "for num in [1, 2, 3, 4, 5]:\n",
    "    print(num)"
   ]
  },
  {
   "cell_type": "markdown",
   "metadata": {},
   "source": [
    "## Using the range function\n",
    "\n",
    "* The range function simplifies the process of writing a for loop\n",
    "* range returns an iterable object\n",
    "* __Iterable:__ contains a sequence of values that can be iterated over\n",
    "\n",
    "__range characteristics:__\n",
    "* One argument: used as ending limit \n",
    "* Two arguments: starting value and ending limit\n",
    "* Three arguments: third argument is step value\n",
    "\n",
    "`range(start=0, end, step=1)` shows that range can take in up to 3 arguments, and if not specified the default value for start is 0, and the default value for step is 1"
   ]
  },
  {
   "cell_type": "code",
   "execution_count": null,
   "metadata": {},
   "outputs": [],
   "source": [
    "# When you using a single argument, it describes the end value\n",
    "#The default value for start is used (0), and the default value for step is used (1)\n",
    "\n",
    "#equivalent while loop to the below for loop\n",
    "i = 0\n",
    "while i < 5:\n",
    "    print(i)\n",
    "    i += 1\n",
    "\n",
    "print(\"here's the for loop: \")\n",
    "for i in range(5):\n",
    "    print(i)"
   ]
  },
  {
   "cell_type": "code",
   "execution_count": null,
   "metadata": {},
   "outputs": [],
   "source": [
    "# When using range with 2 arguments, they describe the start and end values\n",
    "#The default value for step is used (1)\n",
    "for i in range(2, 10):\n",
    "    print(i)"
   ]
  },
  {
   "cell_type": "code",
   "execution_count": null,
   "metadata": {},
   "outputs": [],
   "source": [
    "# While loop equivalent for the above for loop\n",
    "i = 2\n",
    "while i < 10:\n",
    "    print(i)\n",
    "    i += 1"
   ]
  },
  {
   "cell_type": "code",
   "execution_count": null,
   "metadata": {},
   "outputs": [],
   "source": [
    "# When using range with 3 arguments, all values are specified\n",
    "# Including the step value, allows you to count by 2s, or 3s, or any integer value you'd like\n",
    "\n",
    "for i in range(2, 16, 3):\n",
    "    print(i)\n",
    "\n",
    "print(i)"
   ]
  },
  {
   "cell_type": "code",
   "execution_count": null,
   "metadata": {},
   "outputs": [],
   "source": [
    "# While loop equivalent of the above for loop\n",
    "\n",
    "i = 2\n",
    "while i < 16:\n",
    "    print(i)\n",
    "    i += 3"
   ]
  },
  {
   "cell_type": "markdown",
   "metadata": {},
   "source": [
    "The range function can be used to generate a sequence with numbers in descending order\n",
    "* Make sure starting number is larger than end limit, and step value is negative\n"
   ]
  },
  {
   "cell_type": "code",
   "execution_count": null,
   "metadata": {},
   "outputs": [],
   "source": [
    "for i in range(10, 0, -1):\n",
    "    print(i)"
   ]
  },
  {
   "cell_type": "code",
   "execution_count": null,
   "metadata": {},
   "outputs": [],
   "source": [
    "#While loop equivalent of the above for loop\n",
    "i = 10\n",
    "while i > 0:\n",
    "    print(i)\n",
    "    i -= 1"
   ]
  },
  {
   "cell_type": "markdown",
   "metadata": {},
   "source": [
    "## Trace that code\n",
    "Let's trace through the following programs to see what they output\n"
   ]
  },
  {
   "cell_type": "code",
   "execution_count": null,
   "metadata": {},
   "outputs": [],
   "source": [
    "for num in range(1, 11, 1):\n",
    "    square = num * num\n",
    "    if square % 3 != 0:\n",
    "        print(\"The square of\", num, \"is\", square)"
   ]
  },
  {
   "cell_type": "code",
   "execution_count": null,
   "metadata": {},
   "outputs": [],
   "source": [
    "total = 0\n",
    "for num in range(2, 11, 2):\n",
    "    total += num\n",
    "print(total)"
   ]
  },
  {
   "cell_type": "code",
   "execution_count": null,
   "metadata": {},
   "outputs": [],
   "source": [
    "def f_to_c(degrees_f):\n",
    "    c = (degrees_f - 32)  * 5/9\n",
    "    return c\n",
    "\n",
    "def main():\n",
    "    fmin = int(input(\"Min temp: \"))\n",
    "    fmax = int(input(\"Max temp: \"))\n",
    "  \n",
    "    for fah_temp in range(fmin, fmax+1, 10):\n",
    "        cel_temp = f_to_c(fah_temp)\n",
    "        print(fah_temp, cel_temp)\n",
    "    \n",
    "main()"
   ]
  },
  {
   "cell_type": "markdown",
   "metadata": {},
   "source": [
    "## Practice\n",
    "\n",
    "\n",
    "1. Re-write the GCD program from before with a for loop instead of a while loop."
   ]
  },
  {
   "cell_type": "code",
   "execution_count": null,
   "metadata": {},
   "outputs": [],
   "source": [
    "#This is the GCD program using a while loop - modify it to use a for loop instead\n",
    "def main():\n",
    "    \n",
    "    cnt = 1\n",
    "    #Initialize gcd to 1 here, so it always has a value after the loop\n",
    "    gcd = 1\n",
    "    num1 = int(input(\"Integer 1: \"))\n",
    "    num2 = int(input(\"Integer 2: \"))\n",
    "      \n",
    "    while cnt <= num1 and cnt <= num2:\n",
    "        if num1 % cnt == 0 and num2 % cnt == 0:\n",
    "            gcd = cnt\n",
    "      \n",
    "        cnt += 1\n",
    "\n",
    "    print(\"GCD is: \", gcd)\n",
    "main()"
   ]
  },
  {
   "cell_type": "markdown",
   "metadata": {},
   "source": [
    "2. Compute the sum of the first $n$ odd positive integers using a __for__ loop\n",
    "\n",
    "Example: if $n$ is 5, you should compute 1 + 3 + 5 + 7 + 9."
   ]
  },
  {
   "cell_type": "code",
   "execution_count": null,
   "metadata": {},
   "outputs": [],
   "source": []
  },
  {
   "cell_type": "markdown",
   "metadata": {},
   "source": [
    "3. Using a for loop, draw a diagonal line that looks as follows: \n",
    "\n",
    "```\n",
    "\\\n",
    " \\\n",
    "  \\\n",
    "   \\\n",
    "    \\\n",
    "```\n",
    "Remember that `\\` is a special escape character, so to get it to display, you'll have to `print(\"\\\\\")`\n",
    "\n",
    "Once you have that working, allow the user to enter an integer representing the size of the line, and draw a diagonal line of the appropriate size."
   ]
  },
  {
   "cell_type": "code",
   "execution_count": null,
   "metadata": {},
   "outputs": [],
   "source": []
  },
  {
   "cell_type": "markdown",
   "metadata": {},
   "source": [
    "Please do the following:\n",
    "1. Zybooks Assignment 7 due by 10am Friday (It will help you study for the test, so I'd recommend doing it today).\n",
    "2. Finish Project 3 (due by 11:59pm tonight)\n",
    "3. Study for your exam. "
   ]
  },
  {
   "cell_type": "code",
   "execution_count": null,
   "metadata": {},
   "outputs": [],
   "source": []
  }
 ],
 "metadata": {
  "kernelspec": {
   "display_name": "Python 3 (ipykernel)",
   "language": "python",
   "name": "python3"
  },
  "language_info": {
   "codemirror_mode": {
    "name": "ipython",
    "version": 3
   },
   "file_extension": ".py",
   "mimetype": "text/x-python",
   "name": "python",
   "nbconvert_exporter": "python",
   "pygments_lexer": "ipython3",
   "version": "3.9.10"
  },
  "varInspector": {
   "cols": {
    "lenName": 16,
    "lenType": 16,
    "lenVar": 40
   },
   "kernels_config": {
    "python": {
     "delete_cmd_postfix": "",
     "delete_cmd_prefix": "del ",
     "library": "var_list.py",
     "varRefreshCmd": "print(var_dic_list())"
    },
    "r": {
     "delete_cmd_postfix": ") ",
     "delete_cmd_prefix": "rm(",
     "library": "var_list.r",
     "varRefreshCmd": "cat(var_dic_list()) "
    }
   },
   "types_to_exclude": [
    "module",
    "function",
    "builtin_function_or_method",
    "instance",
    "_Feature"
   ],
   "window_display": false
  }
 },
 "nbformat": 4,
 "nbformat_minor": 2
}
