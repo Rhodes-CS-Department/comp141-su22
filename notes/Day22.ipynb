{
 "cells": [
  {
   "cell_type": "markdown",
   "metadata": {},
   "source": [
    "# Day 22: Dictionaries\n",
    "\n",
    "__Dictionary:__ object that stores a collection of data\n",
    "* Each element consists of a key and a value\n",
    "* Often referred to as mapping of key to value\n",
    "* Key must be an immutable object (cannot be changed!)\n",
    "* To retrieve a specific value, use the key associated with it\n",
    "* General Syntax: `dictionary = {key1:val1, key2:val2}`\n",
    "\n",
    "* Keys must be immutable objects, but associated values can be any type of object\n",
    "* One dictionary can include keys of several different immutable types\n",
    "* Values stored in a single dictionary can be of different types\n"
   ]
  },
  {
   "cell_type": "markdown",
   "metadata": {},
   "source": [
    "## Retrieving a Value from a Dictionary\n",
    "* Elements in dictionary are unsorted\n",
    "* General format for retrieving value from dictionary: `dictionary[key]`\n",
    "* If key in the dictionary, associated value is returned, otherwise, KeyError exception is raised\n",
    "* Test whether a key is in a dictionary using the in and not in operators (helps prevent KeyError exceptions)"
   ]
  },
  {
   "cell_type": "code",
   "execution_count": null,
   "metadata": {},
   "outputs": [],
   "source": [
    "# Retrieving a Value from a Dictionary Example\n",
    "def main():\n",
    "  \n",
    "    phonebook = {'Chris': '555-1111', 'Katie': '555-2222', 'JoAnne': '555-3333'}\n",
    "  \n",
    "    print(phonebook)\n",
    "    print(\"Katie's phone number is: \", phonebook['Katie'])\n",
    "\n",
    "main()"
   ]
  },
  {
   "cell_type": "markdown",
   "metadata": {},
   "source": [
    "## Adding Elements to an Existing Dictionary\n",
    "\n",
    "* Dictionaries are mutable objects\n",
    "* To add a new key-value pair: `dictionary[key] = value`\n",
    "* If key exists in the dictionary, the value associated with it will be changed"
   ]
  },
  {
   "cell_type": "code",
   "execution_count": null,
   "metadata": {},
   "outputs": [],
   "source": [
    "# Adding Elements to an Existing Dictionary Example\n",
    "def main():\n",
    "  \n",
    "    phonebook = {'Chris': '555-1111', 'Katie': '555-2222', 'JoAnne': '555-3333'}\n",
    "  \n",
    "    print(\"Before Add: \", phonebook)\n",
    "  \n",
    "    phonebook['Andy'] = '555-1234'\n",
    "  \n",
    "    print(\"After Add: \", phonebook)\n",
    "\n",
    "main()"
   ]
  },
  {
   "cell_type": "markdown",
   "metadata": {},
   "source": [
    "## Deleting Elements From an Existing Dictionary\n",
    "* To delete a key-value pair: `del dictionary[key]`\n",
    "* If key is not in the dictionary, KeyError exception is raised"
   ]
  },
  {
   "cell_type": "code",
   "execution_count": null,
   "metadata": {},
   "outputs": [],
   "source": [
    "# Deleting Elements From an Existing Dictionary Example\n",
    "def main():\n",
    "  \n",
    "    phonebook = {'Chris': '555-1111', 'Katie': '555-2222', 'JoAnne': '555-3333'}\n",
    "  \n",
    "    print(\"Before Delete: \", phonebook)\n",
    "  \n",
    "    del phonebook['JoAnne']\n",
    "  \n",
    "    print(\"After Delete: \", phonebook)\n",
    "\n",
    "main()"
   ]
  },
  {
   "cell_type": "markdown",
   "metadata": {},
   "source": [
    "## Good Uses for Dictionaries\n",
    "\n",
    "Dictionaries map one value to another\n",
    "\n",
    "We could map numbers to color names instead of names to phone #s, or we could map numbers to images.\n",
    "\n",
    "Example:\n",
    "```\n",
    "colors = {0: 'white', 1: 'black', 2: 'pink', 3: 'purple', 4: 'red', 5: 'blue', 6: 'green', 7: 'orange', 8: 'yellow'}\n",
    "images = {0: 'blank.gif', 1: 'a.gif', 2: 'b.gif', 3: 'c.gif', 4: 'd.gif', 5: 'e.gif', 6: 'f.gif'}\n",
    "```\n",
    "\n",
    "Dictionaries are often used to generate histograms, or counts of occurrences of something."
   ]
  },
  {
   "cell_type": "markdown",
   "metadata": {},
   "source": [
    "## Creating an Empty Dictionary and Using for Loop to Iterate Over a Dictionary\n",
    "* To create an empty dictionary, use {} or use built-in function dict()\n",
    "* Elements can be added to the dictionary as program executes\n",
    "* Use a for loop to iterate over a dictionary\n",
    "* General syntax: `for key in dictionary:`\n",
    "\n",
    "## Dictionary Methods\n",
    "Assume `D` is a dictionary; `k` and `v` are variables, either a number or a string.\n",
    "* `len(D)`: returns the number of key-value pairs in D\n",
    "* `k in D`: returns True if k is a key in dictionary D, False otherwise.\n",
    "* `k not in D`: returns True if k is not a key in dictionary D, False otherwise\n",
    "* `D[k] = v`: adds a new key-value pair to dictionary D, where k is the key and v is the value.\n",
    "__Note:__ If k is already a key in D, then the previous value associated with k is overwritten with v.\n",
    "\n",
    "* `D.get(k, default)`: returns the value associated with specified key (k) from the dictionary. If k is not in\n",
    "the dictionary, it returns the default value (this is an alternative to using the [] operator, and it cannot raise KeyError exception)\n",
    "* `D.keys()`: returns all the dictionaries keys as a sequence\n",
    "* `D.values()`: returns all the dictionaries values as a sequence\n",
    "* `del D[k]`: removes the key-value pair from dictionary D associated with key k."
   ]
  },
  {
   "cell_type": "code",
   "execution_count": null,
   "metadata": {},
   "outputs": [],
   "source": [
    "wordDictionary = {'the': 16, 'a': 7, 'whose': 1, 'its': 3}\n",
    "\n",
    "keys = wordDictionary.keys()\n",
    "print(keys)\n",
    "\n",
    "for key in keys:\n",
    "    print(key)"
   ]
  },
  {
   "cell_type": "code",
   "execution_count": null,
   "metadata": {},
   "outputs": [],
   "source": [
    "wordDictionary = {'the': 16, 'a': 7, 'whose': 1, 'its': 3}\n",
    "\n",
    "print(wordDictionary.get('the', 0))\n",
    "print(wordDictionary.get('later', 0))"
   ]
  },
  {
   "cell_type": "code",
   "execution_count": null,
   "metadata": {},
   "outputs": [],
   "source": [
    "wordDictionary = {'the': 16, 'a': 7, 'whose': 1, 'its': 3}\n",
    "\n",
    "values = wordDictionary.values()\n",
    "print(values)\n",
    "\n",
    "for value in values:\n",
    "    print(value)"
   ]
  },
  {
   "cell_type": "code",
   "execution_count": null,
   "metadata": {},
   "outputs": [],
   "source": [
    "wordDictionary = {'the': 16, 'a': 7, 'whose': 1, 'its': 3}\n",
    "\n",
    "for key in wordDictionary:\n",
    "    print(key, wordDictionary[key])"
   ]
  },
  {
   "cell_type": "code",
   "execution_count": null,
   "metadata": {},
   "outputs": [],
   "source": [
    "# Creating the word dictionary\n",
    "sentence = \"This is a test, this is only a test.\"\n",
    "\n",
    "#Start with an empty dictionary\n",
    "wordDictionary = {}\n",
    "\n",
    "#modify the sentence to lowercase it all and remove any punctuation\n",
    "sentence = sentence.lower()\n",
    "sentence = sentence.replace(\",\", \"\")\n",
    "sentence = sentence.replace(\".\", \"\")\n",
    "\n",
    "#split the sentence up into a list of words\n",
    "words = sentence.split()\n",
    "\n",
    "for i in range(0, len(words)):\n",
    "    word = words[i]\n",
    "  \n",
    "    #first check to see if word is already in the dictionary, if it is, add 1 to the count of how many times you've seen it\n",
    "    #if it's not in the dictionary, add it and set the count to 1, since it's the first occurrence of that word\n",
    "    if word in wordDictionary:\n",
    "        wordDictionary[word] += 1\n",
    "    else:\n",
    "        wordDictionary[word] = 1\n",
    "\n",
    "#Output the words and their counts\n",
    "for key in wordDictionary:\n",
    "    print(key, wordDictionary[key])"
   ]
  },
  {
   "cell_type": "markdown",
   "metadata": {},
   "source": [
    "Please do the following:\n",
    "* Lab 10 - due by 11:59pm tonight - last lab of the semester!\n",
    "* Start working on Project 8 - due Friday"
   ]
  },
  {
   "cell_type": "code",
   "execution_count": null,
   "metadata": {},
   "outputs": [],
   "source": []
  }
 ],
 "metadata": {
  "kernelspec": {
   "display_name": "Python 3 (ipykernel)",
   "language": "python",
   "name": "python3"
  },
  "language_info": {
   "codemirror_mode": {
    "name": "ipython",
    "version": 3
   },
   "file_extension": ".py",
   "mimetype": "text/x-python",
   "name": "python",
   "nbconvert_exporter": "python",
   "pygments_lexer": "ipython3",
   "version": "3.9.10"
  },
  "varInspector": {
   "cols": {
    "lenName": 16,
    "lenType": 16,
    "lenVar": 40
   },
   "kernels_config": {
    "python": {
     "delete_cmd_postfix": "",
     "delete_cmd_prefix": "del ",
     "library": "var_list.py",
     "varRefreshCmd": "print(var_dic_list())"
    },
    "r": {
     "delete_cmd_postfix": ") ",
     "delete_cmd_prefix": "rm(",
     "library": "var_list.r",
     "varRefreshCmd": "cat(var_dic_list()) "
    }
   },
   "types_to_exclude": [
    "module",
    "function",
    "builtin_function_or_method",
    "instance",
    "_Feature"
   ],
   "window_display": false
  }
 },
 "nbformat": 4,
 "nbformat_minor": 2
}
