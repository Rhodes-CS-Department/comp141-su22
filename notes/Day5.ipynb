{
 "cells": [
  {
   "cell_type": "markdown",
   "metadata": {},
   "source": [
    "## Questions from Program 1\n",
    "* Parenthesis - most common struggle - make sure you have a close for every open - start by counting # of each\n",
    "* Formatting Numbers - many ways to do this in Python as some of you have noticed - pick your favorite. I personally find the format function the easiest to remember\n",
    "<ul>\n",
    "    <li>'f' in formatting refers to floating-point number</li>\n",
    "    <li>'d' refers to integers</li>\n",
    "    <li>'.2f' means output floating point number to exactly 2 decimal places - the function will round properly for you</li>\n",
    "    <li> Review String Formatting section from Day 2 notebook for more details</li>\n",
    "</ul>"
   ]
  },
  {
   "cell_type": "markdown",
   "metadata": {},
   "source": [
    "## Quiz-like Questions\n",
    "Without running the cell, write down what the output of each of these programs will be. Then run the cell to check your work."
   ]
  },
  {
   "cell_type": "code",
   "execution_count": null,
   "metadata": {},
   "outputs": [],
   "source": [
    "#Question 1\n",
    "if 5 > 10:\n",
    "    print(\"lions\")\n",
    "elif 8 != 9:\n",
    "    print(\"tigers\")\n",
    "else:\n",
    "    print(\"bears\")"
   ]
  },
  {
   "cell_type": "code",
   "execution_count": null,
   "metadata": {},
   "outputs": [],
   "source": [
    "#Question 2\n",
    "x = 0\n",
    "a = 7\n",
    "b = -5\n",
    "if a > 0:\n",
    "    if b < 0: \n",
    "        x = x + 5 \n",
    "    elif a > 5:\n",
    "        x = x + 4\n",
    "    else:\n",
    "        x = x + 3\n",
    "else:\n",
    "    x = x + 2\n",
    "print(x)"
   ]
  },
  {
   "cell_type": "code",
   "execution_count": null,
   "metadata": {},
   "outputs": [],
   "source": [
    "#Question 3\n",
    "def mystery(a, c, b):\n",
    "    wacky(c, b+a)\n",
    "\n",
    "def wacky(a, b):\n",
    "    print(b * a + a)\n",
    "\n",
    "def main():\n",
    "    x = 1\n",
    "    y = 2 \n",
    "    z = 3\n",
    "    mystery(z+1, y-1, x*2)\n",
    "main()"
   ]
  },
  {
   "cell_type": "code",
   "execution_count": null,
   "metadata": {},
   "outputs": [],
   "source": [
    "#Question 4\n",
    "def print_info(name, salary):\n",
    "    print(\"Name:\",name,\"Salary:\",salary, end=\" \")\n",
    "    salary = salary * 5\n",
    "\n",
    "def main():\n",
    "    name = \"Bear\"\n",
    "    salary = 100\n",
    "    print_info(name, salary)\n",
    "    print(\"After call:\",salary)\n",
    "main()"
   ]
  },
  {
   "cell_type": "code",
   "execution_count": null,
   "metadata": {},
   "outputs": [],
   "source": [
    "#Question 5\n",
    "def colors(x):\n",
    "    x = x + 1\n",
    "    if x > 5: \n",
    "        print(\"red\", end=' ')\n",
    "    if x < 0:\n",
    "        print(\"green\", end=' ')\n",
    "    elif x > 12:\n",
    "        print(\"blue\", end=' ')\n",
    "    else:\n",
    "        print(\"purple\", end=' ')\n",
    "        \n",
    "def main():\n",
    "    y = 10\n",
    "    colors(y)\n",
    "\n",
    "main()"
   ]
  },
  {
   "attachments": {
    "canvas.png": {
     "image/png": "[encoded data removed]"
    }
   },
   "cell_type": "markdown",
   "metadata": {},
   "source": [
    "# Day 5: Graphics\n",
    "\n",
    "* Many programming languages include a library for computer graphics \n",
    "* A __library__ is a pre-written collection of functions usually centered around a theme (graphics, networking, math, sound, etc.)\n",
    "* Python provides many libraries: https://docs.python.org/3/library/\n",
    "* Using libraries (rather than starting from scratch) enables you to write programs faster\n",
    "* Libraries are centered around functions because we know functions are abstractions of algorithms.\n",
    "\n",
    "## The Canvas\n",
    "* All graphics in Python are drawn in a separate window called the canvas.\n",
    "* The canvas is laid out similarly to the Cartesian plane, but with a flipped y-axis.\n",
    "![canvas.png](attachment:canvas.png)\n",
    "\n",
    "\n",
    "## Graphics and Colors\n",
    "* Everything represented by a computer is fundamentally comprised of discrete numeric values… Including things like music, images, sounds, etc.\n",
    "* A color, for example, is represented by three values (between 0 and 255).\n",
    "* These values dictate how much Red, Green, and Blue comprise the color. What are these colors? \n",
    "```\n",
    "0, 0, 0 #black\n",
    "255, 255, 255 #white\n",
    "255, 0, 0 #red\n",
    "0, 255, 0 #green\n",
    "0, 0, 255 #blue\n",
    "255, 0, 255 #purple\n",
    "```\n",
    "\n",
    "## Your first Graphics program\n",
    "\n",
    "For more information about the functions included in our cs1.graphics library, please see the reference link on the course website: http://cs.rhodes.edu/welshc/CS141/Summer20/graphics.html\n"
   ]
  },
  {
   "cell_type": "code",
   "execution_count": null,
   "metadata": {},
   "outputs": [],
   "source": [
    "from cs1.graphics import *\n",
    "\n",
    "def main():\n",
    "    open_canvas(500, 200)\n",
    "    #set_color_rgb(255,0,255)\n",
    "    set_color(\"purple\")\n",
    "    draw_line(100, 100, 400, 400)\n",
    "    draw_circle(250, 100, 50)\n",
    "    set_color('red')\n",
    "    draw_filled_rect(240, 90, 20, 40)\n",
    "\n",
    "main()"
   ]
  },
  {
   "cell_type": "markdown",
   "metadata": {},
   "source": [
    "## Practice\n",
    "\n",
    "In the cell below, use the cs1.graphics library to draw whatever you'd like! Experiment with as many of the functions as possible. Here are some ideas for drawing inspiration!\n",
    "* a landscape (mountains, trees, houses, a cityscape, or something like that)\n",
    "* a self-portrait\n",
    "* A depiction of the solar system\n",
    "* the Mona Lisa\n",
    "* something else of your choice "
   ]
  },
  {
   "cell_type": "code",
   "execution_count": null,
   "metadata": {},
   "outputs": [],
   "source": [
    "from cs1.graphics import *\n",
    "\n",
    "def main():\n",
    "    open_canvas(500, 200)\n",
    "    #Your code goes here\n",
    "  \n",
    "  \n",
    "main()"
   ]
  },
  {
   "cell_type": "markdown",
   "metadata": {},
   "source": [
    "## Lab 02 - Graphics & Functions\n",
    "* Due by Sunday at 11:59pm\n",
    "* Partner lab - you'll be assigned a partner randomly today via Breakout Rooms on Zoom\n",
    "* Only turn in 1 copy of the lab for you and your partner - be sure to put your partner's name at the top of it\n",
    "* In breakout rooms, decide who will be the driver and share their screen\n",
    "\n",
    "\n",
    "__Other To-Do Tasks__:\n",
    "* Project 2 has been assigned - due on Monday by 11:59pm."
   ]
  },
  {
   "cell_type": "code",
   "execution_count": null,
   "metadata": {},
   "outputs": [],
   "source": []
  }
 ],
 "metadata": {
  "kernelspec": {
   "display_name": "Python 3 (ipykernel)",
   "language": "python",
   "name": "python3"
  },
  "language_info": {
   "codemirror_mode": {
    "name": "ipython",
    "version": 3
   },
   "file_extension": ".py",
   "mimetype": "text/x-python",
   "name": "python",
   "nbconvert_exporter": "python",
   "pygments_lexer": "ipython3",
   "version": "3.9.10"
  },
  "varInspector": {
   "cols": {
    "lenName": 16,
    "lenType": 16,
    "lenVar": 40
   },
   "kernels_config": {
    "python": {
     "delete_cmd_postfix": "",
     "delete_cmd_prefix": "del ",
     "library": "var_list.py",
     "varRefreshCmd": "print(var_dic_list())"
    },
    "r": {
     "delete_cmd_postfix": ") ",
     "delete_cmd_prefix": "rm(",
     "library": "var_list.r",
     "varRefreshCmd": "cat(var_dic_list()) "
    }
   },
   "types_to_exclude": [
    "module",
    "function",
    "builtin_function_or_method",
    "instance",
    "_Feature"
   ],
   "window_display": false
  }
 },
 "nbformat": 4,
 "nbformat_minor": 2
}
