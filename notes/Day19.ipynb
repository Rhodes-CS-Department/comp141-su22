{
 "cells": [
  {
   "attachments": {
    "copyingLists.png": {
     "image/png": "[encoded data removed]"
    }
   },
   "cell_type": "markdown",
   "metadata": {},
   "source": [
    "# Day 19: More on Lists\n",
    "We'll cover a few more topics on 1-D lists today and then move on to 2-D lists on Monday.\n",
    "\n",
    "## Copying Lists\n",
    "Because lists are large, mutable, collections of objects, you may observe some undesirable behavior when using assignment statements with lists. In particular, unless you explicitly tell Python to copy a list element by element, it will assume that you want to refer to the same list that already exists in memory. \n",
    "\n",
    "![copyingLists.png](attachment:copyingLists.png)\n",
    "\n",
    "__To make a copy of a list you must copy each element of the list__. There are 2 common methods for doing this.\n",
    "1. Create a new empty list and use a for loop to add a copy of each element from the original list to the new list\n",
    "2. Creating a new empty list and concatenating the old list to the new empty list\n"
   ]
  },
  {
   "cell_type": "code",
   "execution_count": null,
   "metadata": {},
   "outputs": [],
   "source": [
    "#Example of what happens when you use an assignment operator to copy one list into another\n",
    "\n",
    "list1 = [1,2,3,4]\n",
    "list2 = list1\n",
    "print(\"List 1:\", list1)\n",
    "print(\"List 2:\", list2)\n",
    "list1[0] = 99\n",
    "print(\"List 1:\", list1)\n",
    "print(\"List 2:\", list2)"
   ]
  },
  {
   "cell_type": "code",
   "execution_count": null,
   "metadata": {},
   "outputs": [],
   "source": [
    "#Example 1 of how to properly create a separate copy of a list\n",
    "\n",
    "list1 = [1,2,3,4]\n",
    "list2 = []\n",
    "for i in range(len(list1)):\n",
    "    list2.append(list1[i])\n",
    "\n",
    "print(\"List 1:\", list1)\n",
    "print(\"List 2:\", list2)\n",
    "list1[0] = 99\n",
    "print(\"List 1:\", list1)\n",
    "print(\"List 2:\", list2)"
   ]
  },
  {
   "cell_type": "code",
   "execution_count": null,
   "metadata": {},
   "outputs": [],
   "source": [
    "#Example 2 of how to properly create a separate copy of a list\n",
    "\n",
    "list1 = [1,2,3,4]\n",
    "list2 = []\n",
    "list2 += list1\n",
    "  \n",
    "print(\"List 1:\", list1)\n",
    "print(\"List 2:\", list2)\n",
    "list1[0] = 99\n",
    "print(\"List 1:\", list1)\n",
    "print(\"List 2:\", list2)"
   ]
  },
  {
   "cell_type": "markdown",
   "metadata": {},
   "source": [
    "## Savings lists to files\n",
    "Despite the fact that you could simply typecast a list into a string and write it out to a file object, you should avoid doing this. Recall that we always want our files to be nicely formatted so they are easy for a program to parse. If you simply typecast a list to string, the string will look as follows:\n"
   ]
  },
  {
   "cell_type": "code",
   "execution_count": null,
   "metadata": {},
   "outputs": [],
   "source": [
    "#Example of what not to do\n",
    "\n",
    "lst = ['a', 'b', 'c', 'd']\n",
    "print(str(lst))"
   ]
  },
  {
   "cell_type": "markdown",
   "metadata": {},
   "source": [
    "Instead, when you are writing a list out to a file, use a for loop to write each element and '\\n'\n"
   ]
  },
  {
   "cell_type": "code",
   "execution_count": null,
   "metadata": {},
   "outputs": [],
   "source": [
    "#Example of properly writing a list out to a file.\n",
    "def main():\n",
    "  \n",
    "    file = open(\"cities.txt\", 'w')\n",
    "    cities = ['New York', 'Boston', 'Atlanta', 'Chicago', 'Dallas']\n",
    "    for i in range(len(cities)):\n",
    "        file.write(cities[i] + '\\n')  \n",
    "  \n",
    "    file.close()\n",
    "\n",
    "main()"
   ]
  },
  {
   "cell_type": "markdown",
   "metadata": {},
   "source": [
    "## Reading Files into Lists\n",
    "Don’t read a file into a list more than once per program.\n",
    "* This is the true power of lists – you only need to create them once and then you can use them over and over.\n"
   ]
  },
  {
   "cell_type": "code",
   "execution_count": null,
   "metadata": {},
   "outputs": [],
   "source": [
    "#Example of reading a file into a list \n",
    "def main():\n",
    "  \n",
    "    file = open(\"cities.txt\", 'r')\n",
    "    cities = []\n",
    "    for line in file:\n",
    "        line = line.rstrip()\n",
    "        cities.append(line)\n",
    "  \n",
    "    file.close()\n",
    "    print(cities)\n",
    "  \n",
    "    #Now we can easily sort the cities in alphabetical order using the sort function\n",
    "    cities.sort()\n",
    "    print(cities)\n",
    "\n",
    "main()"
   ]
  },
  {
   "cell_type": "markdown",
   "metadata": {},
   "source": [
    "## Parallel Lists\n",
    "Parallel lists are two or more lists of the same length, where there is a relationship between `list1[p]` and `list2[p]`  (for any index/position p.)\n",
    "\n",
    "\n",
    "<table>\n",
    "    <tr>\n",
    "        <td></td>\n",
    "        <td>0</td>\n",
    "        <td>1</td>\n",
    "        <td>2</td>\n",
    "    </tr>\n",
    "    <tr>\n",
    "        <td>list1</td>\n",
    "        <td>\"hello\"</td>\n",
    "        <td>\"my\"</td>\n",
    "        <td>\"friend\"</td>\n",
    "    </tr>\n",
    "    <tr>\n",
    "        <td>list2</td>\n",
    "        <td>\"ahoy\"</td>\n",
    "        <td>\"me\"</td>\n",
    "        <td>\"matey\"</td>\n",
    "    </tr>\n",
    "</table>"
   ]
  },
  {
   "cell_type": "code",
   "execution_count": null,
   "metadata": {},
   "outputs": [],
   "source": [
    "# Using Parallel Lists Example\n",
    "\n",
    "def main():\n",
    "    students = []\n",
    "    grades = []\n",
    "    keep_going = 'y'\n",
    "    while keep_going == 'y':\n",
    "        student = input(\"Enter student's name: \")\n",
    "        grade = int(input(\"Enter the student's grade: \"))\n",
    "        students.append(student)\n",
    "        grades.append(grade)\n",
    "    \n",
    "        keep_going = input(\"Would you like to enter another student/grade? (y for yes) \")\n",
    "\n",
    "    print(students)\n",
    "    print(grades)\n",
    "\n",
    "main()"
   ]
  },
  {
   "cell_type": "code",
   "execution_count": null,
   "metadata": {},
   "outputs": [],
   "source": [
    "# Using Parallel Lists with Files Example\n",
    "\n",
    "def main():\n",
    "    file = open(\"songs.txt\", 'r')\n",
    "  \n",
    "    titles = []\n",
    "    artists = []\n",
    "    prev = []\n",
    "    num_weeks = []\n",
    "  \n",
    "    for line in file:\n",
    "        line = line.rstrip()\n",
    "        title, artist, prev_pos, weeks = line.split(';')\n",
    "    \n",
    "        titles.append(title)\n",
    "        artists.append(artist)\n",
    "        prev.append(int(prev_pos))\n",
    "        num_weeks.append(int(weeks))\n",
    "  \n",
    "    file.close()\n",
    "  \n",
    "    #Find the title/artist of the song that has been on the charts for the longest number of weeks\n",
    "    longest = max(num_weeks)\n",
    "    indLongest = num_weeks.index(longest)\n",
    "  \n",
    "    print(\"Artist: \", artists[indLongest], \"\\nTitle: \", titles[indLongest])\n",
    "\n",
    "main()"
   ]
  },
  {
   "cell_type": "markdown",
   "metadata": {},
   "source": [
    "Please do the following:\n",
    "* Lab 7 - due by 11:59pm on Sunday\n",
    "* Finish Project 6 - due by 11:59pm tonight\n",
    "* Start working on Project 7 - due by 11:59pm on Tuesday"
   ]
  },
  {
   "cell_type": "code",
   "execution_count": null,
   "metadata": {},
   "outputs": [],
   "source": []
  }
 ],
 "metadata": {
  "kernelspec": {
   "display_name": "Python 3 (ipykernel)",
   "language": "python",
   "name": "python3"
  },
  "language_info": {
   "codemirror_mode": {
    "name": "ipython",
    "version": 3
   },
   "file_extension": ".py",
   "mimetype": "text/x-python",
   "name": "python",
   "nbconvert_exporter": "python",
   "pygments_lexer": "ipython3",
   "version": "3.9.10"
  },
  "varInspector": {
   "cols": {
    "lenName": 16,
    "lenType": 16,
    "lenVar": 40
   },
   "kernels_config": {
    "python": {
     "delete_cmd_postfix": "",
     "delete_cmd_prefix": "del ",
     "library": "var_list.py",
     "varRefreshCmd": "print(var_dic_list())"
    },
    "r": {
     "delete_cmd_postfix": ") ",
     "delete_cmd_prefix": "rm(",
     "library": "var_list.r",
     "varRefreshCmd": "cat(var_dic_list()) "
    }
   },
   "types_to_exclude": [
    "module",
    "function",
    "builtin_function_or_method",
    "instance",
    "_Feature"
   ],
   "window_display": false
  }
 },
 "nbformat": 4,
 "nbformat_minor": 2
}
