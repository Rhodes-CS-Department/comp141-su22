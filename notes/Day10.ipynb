{
 "cells": [
  {
   "cell_type": "markdown",
   "metadata": {},
   "source": [
    "# Day 10: More on Loops\n",
    "\n",
    "\n",
    "## Warm-up\n",
    "\n",
    "Using a for loop, write a function that computes the factorial of a number. Reminder:\n",
    "factorial is $n!$ or $(1*2*3…*n)$. Get $n$ as input from the user and assume it is a positive integer. \n",
    "\n",
    "__Examples:__  \n",
    "* `factorial(5)` returns 120 #$(1*2*3*4*5)$\n",
    "* `factorial(8)` returns 40320 #$(1*2*3*4*5*6*7*8)$\n"
   ]
  },
  {
   "cell_type": "code",
   "execution_count": null,
   "metadata": {},
   "outputs": [],
   "source": [
    "# Write factorial function here"
   ]
  },
  {
   "cell_type": "markdown",
   "metadata": {},
   "source": [
    "## break and continue\n",
    "\n",
    "* __break__: immediately terminate a loop (breaks out of loop)\n",
    "* __continue__: ends the current iteration and goes to the end of the loop body (breaks out of iteration) (Typically used with while loops, but can be used in a for loop as well.)\n",
    "\n",
    "* Do not overuse! Can make code difficult to read and debug!"
   ]
  },
  {
   "cell_type": "code",
   "execution_count": null,
   "metadata": {},
   "outputs": [],
   "source": [
    "# Example Using break\n",
    "\n",
    "total = 0\n",
    "number = 0\n",
    "\n",
    "while number < 20:\n",
    "    number += 1\n",
    "    total += number\n",
    "    if total >= 100:\n",
    "        break\n",
    "\n",
    "print(\"The number is:\", number)\n",
    "print(\"The total is:\", total)"
   ]
  },
  {
   "cell_type": "code",
   "execution_count": null,
   "metadata": {},
   "outputs": [],
   "source": [
    "# Example using continue\n",
    "\n",
    "total = 0\n",
    "number = 0\n",
    "\n",
    "while number < 20:\n",
    "    number += 1\n",
    "    if number == 10 or number == 11:\n",
    "        continue\n",
    "    total += number\n",
    "\n",
    "print(\"The number is:\", number)\n",
    "print(\"The total is:\", total)"
   ]
  },
  {
   "cell_type": "markdown",
   "metadata": {},
   "source": [
    "## Using boolean variables in loops\n",
    "\n",
    "* Given a positive integer $n$, assign True to `prime` if $n$ has no factors other than 1 and itself. \n",
    "* If at any time during the loop, you find a factor of $n$ other than 1 or $n$, set value of `prime` to False and `break` out of the loop\n",
    "* Remember, $m$ is a factor of $n$ if $m$ divides $n$ evenly."
   ]
  },
  {
   "cell_type": "code",
   "execution_count": null,
   "metadata": {},
   "outputs": [],
   "source": [
    "# Using boolean variables in loops example\n",
    "def main():\n",
    "    n = int(input(\"N: \"))\n",
    "    prime = True\n",
    "  \n",
    "    for i in range(2, n):\n",
    "        if n % i == 0:\n",
    "            prime = False\n",
    "            break\n",
    "\n",
    "    print(i, \"after the loop\")\n",
    "    if prime:\n",
    "        print(n, \"is prime\")\n",
    "    else:\n",
    "        print(n, \"is not prime\")\n",
    "main()"
   ]
  },
  {
   "cell_type": "markdown",
   "metadata": {},
   "source": [
    "Recall that a while condition can be any condition that evaluates to True or False. Some programmers abuse this idea by writing \n",
    "`while True:` loops, that have a break statement inside of them. While I don't recommend this technique, you need to be able to read it. Here's an example."
   ]
  },
  {
   "cell_type": "code",
   "execution_count": null,
   "metadata": {},
   "outputs": [],
   "source": [
    "total_scores = 0\n",
    "while True:\n",
    "    score = int(input(\"Score? \"))\n",
    "    if score == 0:\n",
    "        break\n",
    "\n",
    "    total_scores += score\n",
    "\n",
    "print(\"The total is\", total_scores)"
   ]
  },
  {
   "cell_type": "code",
   "execution_count": null,
   "metadata": {},
   "outputs": [],
   "source": [
    "#This code is equivalent to the code above - but does not require a break statement\n",
    "total_scores = 0\n",
    "score = int(input(\"Score? \"))\n",
    "while score != 0:\n",
    "    total_scores += score\n",
    "    score = int(input(\"Score? \"))\n",
    "\n",
    "print(\"The total is\", total_scores)"
   ]
  },
  {
   "cell_type": "markdown",
   "metadata": {},
   "source": [
    "## Sentinels\n",
    "\n",
    "__Sentinel:__ special value that marks the end of a sequence of items\n",
    "* When program reaches a sentinel, it knows that the end of the sequence of items was reached, and the loop terminates\n",
    "* Must be distinctive enough so as not to be mistaken for a regular value in the sequence\n",
    "* Example: in the example above, a score of 0 is a sentinel\n",
    "\n",
    "(You have been using these since the first day we introduced while loops. We're just giving them a name now.)"
   ]
  },
  {
   "attachments": {
    "inputValidation.png": {
     "image/png": "[encoded data removed]"
    }
   },
   "cell_type": "markdown",
   "metadata": {},
   "source": [
    "## Input Validation Loops\n",
    "\n",
    "A computer cannot tell the difference between good data and bad data\n",
    "* If user provides bad input, program will produce bad output\n",
    "* __GIGO__: garbage in, garbage out\n",
    "* It is important to design your program such that bad input is never accepted\n",
    "\n",
    "__Input validation:__ inspecting input before it is processed by the program\n",
    "* If input is invalid, prompt user to enter correct data\n",
    "* Commonly accomplished using a while loop which repeats as long as the input is bad\n",
    "<ul>\n",
    "    <li> If input is bad, display error message and receive another set of data </li>\n",
    "    <li> If input is good, continue to process the input </li>\n",
    "</ul>\n",
    "\n",
    "Input validation loops are commonly referred to as an error trap or an error handler. It is always a good idea to put input validation into your program since user error is a very common issue.\n",
    "\n",
    "![inputValidation.png](attachment:inputValidation.png)\n"
   ]
  },
  {
   "cell_type": "code",
   "execution_count": null,
   "metadata": {},
   "outputs": [],
   "source": [
    "# Input Validation Example 1\n",
    "# The following code will ask for a test score and check to see if it’s a valid score. \n",
    "# If not, it will re-prompt the user to enter the score.\n",
    "\n",
    "score = int(input(\"What is your score? \"))\n",
    "while score < 0 or score > 100: #scores must be between 0 and 100\n",
    "    print(\"Not a valid score\")\n",
    "    score = int(input(\"What is your score? \"))"
   ]
  },
  {
   "cell_type": "code",
   "execution_count": null,
   "metadata": {},
   "outputs": [],
   "source": [
    "# Input Validation Example 2\n",
    "# You can also do input validation with string inputs. \n",
    "\n",
    "shape = input(\"Which shape do you want to compute the area of? (circle or square?) \")\n",
    "while shape != \"circle\" and shape != \"square\":\n",
    "    print(\"Please enter a valid shape.\")\n",
    "    shape = input(\"Which shape do you want to compute the area of? (circle or square?) \")\n",
    "\n",
    "print(\"We have a valid shape: \", shape)"
   ]
  },
  {
   "cell_type": "markdown",
   "metadata": {},
   "source": [
    "## Example: Code with Me\n",
    "\n",
    "__Running Total with Input Validation__\n",
    "* Write a loop that adds up user inputted numbers. \n",
    "* Assume the user will enter a 0 to signal they are done entering numbers.\n",
    "* Calculate the average of the numbers.\n",
    "* Add input validation so that user can only enter numbers between 0 and 100."
   ]
  },
  {
   "cell_type": "code",
   "execution_count": null,
   "metadata": {},
   "outputs": [],
   "source": []
  },
  {
   "cell_type": "markdown",
   "metadata": {},
   "source": [
    "## More Practice\n",
    "\n",
    "* Write a program that starts off asking the user how much money they have in their bank account. \n",
    "* Next, add a menu (print statement describing options to the user) to let the user add money, subtract money, or quit the ATM program. \n",
    "* Let the user keep using the ATM as long as they want (until they choose to quit). \n",
    "* Prevent the user from withdrawing more money than they have in their account. \n",
    "* Use input validation to prevent the user from typing in a negative amount of money."
   ]
  },
  {
   "cell_type": "code",
   "execution_count": null,
   "metadata": {},
   "outputs": [],
   "source": []
  },
  {
   "cell_type": "markdown",
   "metadata": {},
   "source": [
    "## Sliding Window Technique\n",
    "\n",
    "Sometimes when writing a program, you may need to hold onto a previous input for a calculation later in a loop. This technique is typically used with lists (arrays) in computer science, but before we learn those, we'll need to have a way to hold onto previous values.\n",
    "\n",
    "Imagine a scenario where you want to compare the value the user just entered with the one they entered previously. We don't want the user to have to re-enter their previous value each time. Instead we'll do the following:\n"
   ]
  },
  {
   "cell_type": "code",
   "execution_count": null,
   "metadata": {},
   "outputs": [],
   "source": [
    "previous = int(input(\"Number? \"))\n",
    "current = int(input(\"Number? \"))\n",
    "diff = current - previous\n",
    "while diff != 0:\n",
    "    print(\"Difference: \", diff)\n",
    "    #save the current value into previous before getting a new current value\n",
    "    previous = current  \n",
    "    current = int(input(\"Number? \")) #get a new current value\n",
    "    diff = current - previous\n",
    "print(\"Done\")"
   ]
  },
  {
   "cell_type": "markdown",
   "metadata": {},
   "source": [
    "Please do the following:\n",
    "* Zybooks Assignment 8 - due by 10am Tuesday\n",
    "* Start working on Project 4 - due by 11:59pm on Wed, June 1st."
   ]
  },
  {
   "cell_type": "code",
   "execution_count": null,
   "metadata": {},
   "outputs": [],
   "source": []
  }
 ],
 "metadata": {
  "kernelspec": {
   "display_name": "Python 3 (ipykernel)",
   "language": "python",
   "name": "python3"
  },
  "language_info": {
   "codemirror_mode": {
    "name": "ipython",
    "version": 3
   },
   "file_extension": ".py",
   "mimetype": "text/x-python",
   "name": "python",
   "nbconvert_exporter": "python",
   "pygments_lexer": "ipython3",
   "version": "3.9.10"
  },
  "varInspector": {
   "cols": {
    "lenName": 16,
    "lenType": 16,
    "lenVar": 40
   },
   "kernels_config": {
    "python": {
     "delete_cmd_postfix": "",
     "delete_cmd_prefix": "del ",
     "library": "var_list.py",
     "varRefreshCmd": "print(var_dic_list())"
    },
    "r": {
     "delete_cmd_postfix": ") ",
     "delete_cmd_prefix": "rm(",
     "library": "var_list.r",
     "varRefreshCmd": "cat(var_dic_list()) "
    }
   },
   "types_to_exclude": [
    "module",
    "function",
    "builtin_function_or_method",
    "instance",
    "_Feature"
   ],
   "window_display": false
  }
 },
 "nbformat": 4,
 "nbformat_minor": 2
}
