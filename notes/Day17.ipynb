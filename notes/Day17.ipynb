{
 "cells": [
  {
   "cell_type": "code",
   "execution_count": null,
   "metadata": {},
   "outputs": [],
   "source": [
    "#Lab 6: Problem 2 in Counting (and related) problems\n",
    "#This is using the generic counting function idea \n",
    "#You can write a much longer if condition, but this is the easiest way to write it.\n",
    "\n",
    "def count_vowels(s):\n",
    "    cnt = 0\n",
    "    for i in range(0, len(s)):\n",
    "        if s[i] in 'aeiou':\n",
    "            cnt += 1\n",
    "    return cnt\n",
    "\n",
    "# Test cases:\n",
    "print(count_vowels(\"computer\"))"
   ]
  },
  {
   "cell_type": "code",
   "execution_count": null,
   "metadata": {},
   "outputs": [],
   "source": [
    "#Lab 6: Problem 5 in Counting (and related) problems\n",
    "#This is using the generic counting function idea \n",
    "#the if statement is based on the idea that we want to see if a particular character has been seen in s already or not\n",
    "def count_unique(s):\n",
    "    cnt = 0\n",
    "    for i in range(len(s)):\n",
    "        ch = s[i]\n",
    "        #if ch is not in the string before its index\n",
    "        if ch not in s[:i]:\n",
    "            cnt += 1\n",
    "    return cnt\n",
    "  \n",
    "count_unique(\"abracadabra\")"
   ]
  },
  {
   "cell_type": "code",
   "execution_count": null,
   "metadata": {},
   "outputs": [],
   "source": [
    "# Lab 6: Problem 2 in Problems involving building new strings\n",
    "# This is using a generic string filtering idea\n",
    "# This function returns the string s with capital letters removed.\n",
    "def remove_capitals(s):\n",
    "    newS = ''\n",
    "    for i in range(0, len(s), 1):\n",
    "        ch = s[i]\n",
    "        if not ch.isupper():\n",
    "            newS += ch\n",
    "      \n",
    "    return newS\n",
    "  \n",
    "remove_capitals(\"AbCDeFGhi9\")"
   ]
  },
  {
   "cell_type": "code",
   "execution_count": null,
   "metadata": {},
   "outputs": [],
   "source": [
    "#Lab 6: Problem 3 in Problems involving building new strings\n",
    "#This is using the generic string filtering idea with a twist\n",
    "\n",
    "def change_nums(s):\n",
    "    newS = ''\n",
    "    for i in range(0, len(s), 1):\n",
    "        ch = s[i]\n",
    "        if ch.isdigit():\n",
    "            ch = int(ch) + 1\n",
    "            newS += str(ch)\n",
    "        else:\n",
    "            newS += ch\n",
    "    return newS\n",
    "\n",
    "change_nums(\"a1b2\")"
   ]
  },
  {
   "cell_type": "code",
   "execution_count": null,
   "metadata": {},
   "outputs": [],
   "source": [
    "#Lab 6: Problem 4 in Problems involving building new strings\n",
    "#This function takes in a string s and returns a copy of the string in reverse order\n",
    "\n",
    "def reverse(s):\n",
    "    rev = ''\n",
    "    for i in range(len(s)-1, -1, -1):\n",
    "        ch = s[i]\n",
    "        rev += ch\n",
    "    return rev\n",
    "\n",
    "#Another way to solve this same problem is the following shortcut\n",
    "def reverse2(s):\n",
    "    return s[::-1]\n",
    "\n",
    "reverse(\"abcdef\")\n",
    "#reverse2(\"abcdef\")"
   ]
  },
  {
   "cell_type": "code",
   "execution_count": null,
   "metadata": {},
   "outputs": [],
   "source": [
    "# Lab 6: Problem 5 in Problems involving building new strings\n",
    "def encode(s):\n",
    "    s = s.lower()\n",
    "    letters = \"abcdefghijklmnopqrstuvwxyz\"\n",
    "    \n",
    "    newS = ''\n",
    "    for i in range(0, len(s)):\n",
    "        ch = s[i]\n",
    "        #since letters is 0-based, and we want a=1, add 1 to the find return value\n",
    "        ind = letters.find(ch) + 1\n",
    "        #typecast the integer into a string and add it to your new string\n",
    "        newS += str(ind) + \"-\"\n",
    "    \n",
    "    #Removing the last dash\n",
    "    if len(newS) > 1:\n",
    "        newS = newS[:-1]\n",
    "    return newS\n",
    "\n",
    "encode(\"abc\")"
   ]
  },
  {
   "cell_type": "code",
   "execution_count": null,
   "metadata": {},
   "outputs": [],
   "source": [
    "# Lab 6: (Challenge) decode function\n",
    "def decode(s):\n",
    "    letters = \"abcdefghijklmnopqrstuvwxyz\"\n",
    "    newS = ''\n",
    "    #If we don't know how many values the split function will return\n",
    "    # we can put it into a single variable, which is now a list\n",
    "    numbers = s.split(\"-\")\n",
    "    \n",
    "    for i in range(0, len(numbers), 1):\n",
    "        ind = int(numbers[i])-1\n",
    "        newS += letters[ind]\n",
    "    return newS\n",
    "\n",
    "\n",
    "decode(\"1-2-3-24-19-11\")"
   ]
  },
  {
   "cell_type": "markdown",
   "metadata": {},
   "source": [
    "## Building a pig-latin translator\n",
    "\n",
    "[Pig Latin](https://en.wikipedia.org/wiki/Pig_Latin) is a language game played by children that lets them communicate in a simple \"code.\"  English words\n",
    "are altered as follows:\n",
    "\n",
    "- If a word begins with one or more consonants, the initial consonants are moved to the end of the word, and the suffix \"ay\" is attached.  For example, the word \"computer\" in Pig Latin becomes \"computercay\" and the word \"paper\" becomes \"aperpay.\"  The word \"professor\" (beginning with two consonants) becomes \"ofessorpray\" and the word \"string\" (three initial consonants) becomes \"ingstray.\"\n",
    "\n",
    "\n",
    "- If a word begins with a vowel, the suffix \"way\" is attached (but no letters change positions).  For example,\n",
    "the word \"apple\" becomes \"appleway\" and the word \"igloo\" becomes \"iglooway.\"\n",
    "\n",
    "1. Write a simplified Pig Latin function that assumes the word starts with just one consonant or just one vowel.  \n",
    "This function should test whether the initial character is a consonant or vowel, move the initial consonant to the\n",
    "end if necessary, and attach the appropriate suffix.  \n",
    "\n",
    "    Hint: This can be done with an `if` statement and then creating a new string using string slicing and string concatenation.\n",
    "    \n",
    "    You may assume the string has only lowercase letters."
   ]
  },
  {
   "cell_type": "code",
   "execution_count": 2,
   "metadata": {},
   "outputs": [
    {
     "name": "stdout",
     "output_type": "stream",
     "text": [
      "omputercay\n",
      "aperpay\n",
      "appleway\n",
      "iglooway\n"
     ]
    }
   ],
   "source": [
    "# First attempt at pig latin translator.  This will not handle words that begin with \n",
    "# multiple consonants in a row.\n",
    "\n",
    "def pig_latin(word):\n",
    "    initial = word[0]\n",
    "    if initial in 'aeiou':\n",
    "        return word + 'way'\n",
    "    else:\n",
    "        return word[1:] + initial + 'ay'\n",
    "    \n",
    "# Test cases\n",
    "print(pig_latin(\"computer\"))\n",
    "print(pig_latin(\"paper\"))\n",
    "print(pig_latin(\"apple\"))\n",
    "print(pig_latin(\"igloo\"))"
   ]
  },
  {
   "cell_type": "markdown",
   "metadata": {},
   "source": [
    "2. In order to handle words beginning with multiple consonants, we will write a function to detect\n",
    "the first vowel in a word.\n",
    "\n",
    "    Write a function called `first_vowel` that returns the **index** of the first vowel in a string.\n",
    "    \n",
    "    Guide:  Make a standard `for` loop over the word, examining\n",
    " every character.  Stop the loop when you find the\n",
    " first character that is a vowel.  Return the position\n",
    " of that character."
   ]
  },
  {
   "cell_type": "code",
   "execution_count": 3,
   "metadata": {},
   "outputs": [
    {
     "name": "stdout",
     "output_type": "stream",
     "text": [
      "1\n",
      "1\n",
      "2\n",
      "3\n",
      "0\n",
      "0\n"
     ]
    }
   ],
   "source": [
    "def first_vowel(word):\n",
    "    for i in range(0, len(word)):\n",
    "        if word[i] in 'aeiou':\n",
    "            return i\n",
    "    return -1 #shouldn't get here, but just in case no vowels\n",
    "    \n",
    "# Test cases\n",
    "print(first_vowel(\"computer\"))  # should return 1\n",
    "print(first_vowel(\"paper\"))     # should return 1\n",
    "print(first_vowel(\"professor\")) # should return 2\n",
    "print(first_vowel(\"string\"))    # should return 3\n",
    "print(first_vowel(\"apple\"))     # should return 0\n",
    "print(first_vowel(\"igloo\"))     # should return 0"
   ]
  },
  {
   "cell_type": "markdown",
   "metadata": {},
   "source": [
    "3. Now write a better Pig Latin function that handles words that begin with multiple consonants.\n",
    "\n",
    "    Hint: Start with your initial pig latin function from earlier, but modify the consonant section to \n",
    "    call your `first_vowel` function and capture the return value.  Use the return value variable as\n",
    "    part of  two string slices to divide the string into the initial consonant section and everything after.\n",
    "    Then use string concatenation to attach the slices together in the right order, and attach the \"ay\" suffix."
   ]
  },
  {
   "cell_type": "code",
   "execution_count": 4,
   "metadata": {},
   "outputs": [
    {
     "name": "stdout",
     "output_type": "stream",
     "text": [
      "omputercay\n",
      "aperpay\n",
      "appleway\n",
      "iglooway\n",
      "ofessorpray\n",
      "ingstray\n"
     ]
    }
   ],
   "source": [
    "# Second attempt at pig latin translator.  This should handle words that begin with \n",
    "# multiple consonants in a row.\n",
    "\n",
    "def pig_latin(word):\n",
    "    initial = word[0]\n",
    "    if initial in 'aeiou':\n",
    "        return word + 'way'\n",
    "    else:\n",
    "        vowelInd = first_vowel(word)\n",
    "        return word[vowelInd:] + word[:vowelInd] + 'ay'\n",
    "    \n",
    "    \n",
    "# Test cases\n",
    "print(pig_latin(\"computer\"))\n",
    "print(pig_latin(\"paper\"))\n",
    "print(pig_latin(\"apple\"))\n",
    "print(pig_latin(\"igloo\"))\n",
    "print(pig_latin(\"professor\"))\n",
    "print(pig_latin(\"string\"))"
   ]
  },
  {
   "cell_type": "code",
   "execution_count": 5,
   "metadata": {},
   "outputs": [
    {
     "name": "stdout",
     "output_type": "stream",
     "text": [
      "itway asway ethay estbay ofway imestay itway asway ethay orstway ofway imestay \n",
      "allcay emay ishmaelway \n",
      "itway asway away ightbray oldcay ayday inway aprilway andway ethay ocksclay ereway ikingstray irteenthay \n",
      "asway egorgray amsasay awokeway oneway orningmay omfray uneasyway eamsdray ehay oundfay imselfhay ansformedtray inway ishay edbay intoway away iganticgay insectway \n"
     ]
    }
   ],
   "source": [
    "def piglatin_sentence(sentence):\n",
    "    words = sentence.split(\" \")\n",
    "    new_sentence = \"\"\n",
    "    for idx in range(0, len(words)):\n",
    "        word = words[idx]\n",
    "        pigword = pig_latin(word)\n",
    "        new_sentence += pigword\n",
    "        new_sentence += \" \"\n",
    "    return new_sentence\n",
    "\n",
    "# Test cases\n",
    "print(piglatin_sentence(\"it was the best of times it was the worst of times\"))\n",
    "print(piglatin_sentence(\"call me ishmael\"))\n",
    "print(piglatin_sentence(\"it was a bright cold day in april and the clocks were striking thirteen\"))\n",
    "print(piglatin_sentence(\"as gregor samsa awoke one morning from uneasy dreams he found himself transformed in his bed into a gigantic insect\"))"
   ]
  },
  {
   "cell_type": "markdown",
   "metadata": {},
   "source": [
    "# Day 17: Lists\n",
    "\n",
    "__List:__ an object that contains multiple data items\n",
    "* __Element:__ An item in a list\n",
    "* Format: `list = [item1, item2, etc.]`\n",
    "* Can hold items of different types\n",
    "* `print` function can be used to display an entire list\n",
    "* `list()` function can convert certain types of objects to lists"
   ]
  },
  {
   "cell_type": "code",
   "execution_count": null,
   "metadata": {},
   "outputs": [],
   "source": [
    "#A list of integers\n",
    "even_numbers = [2, 4, 6, 8, 10]\n",
    "\n",
    "#A list of strings:\n",
    "names = [\"Molly\", \"Steven\", \"Will\", \"Alicia\"] \n",
    "\n",
    "#A list holding different types:\n",
    "info = [\"Alicia\", 27, 1550.87]\n"
   ]
  },
  {
   "cell_type": "code",
   "execution_count": null,
   "metadata": {},
   "outputs": [],
   "source": [
    "# Example code using lists\n",
    "\n",
    "def main():\n",
    "    #Create a list with some items\n",
    "    food = ['Pizza', 'Burgers', 'Chips']\n",
    "  \n",
    "    #Display the list\n",
    "    print(\"Here are the items in the food list: \")\n",
    "    print(food)\n",
    "\n",
    "main()"
   ]
  },
  {
   "attachments": {
    "stringVsList.png": {
     "image/png": "[encoded data removed]"
    }
   },
   "cell_type": "markdown",
   "metadata": {},
   "source": [
    "## Why Use Lists?\n",
    "* Lists exist so programmers can store multiple related variables together.\n",
    "* Useful when we don't know ahead of time how many items we are going to store.\n",
    "* A single list can hold from zero to practically any number of items in it. \n",
    "\n",
    "\n",
    "## More about Lists\n",
    "* Lists are created using square brackets around items separated by commas\n",
    "* Lists are accessed using indices/positions just like strings.\n",
    "* Most (but not all) string functions also exist for lists.\n",
    "\n",
    "![stringVsList.png](attachment:stringVsList.png)"
   ]
  },
  {
   "cell_type": "markdown",
   "metadata": {},
   "source": [
    "## One very important difference between strings and lists\n",
    "\n",
    "Strings are __immutable__: you can't change a string without making a copy of it. \n",
    "```\n",
    "    s = \"abc\" \n",
    "\ts[0] = \"A\" \t # illegal! \n",
    "\ts = \"A\" + s[1:] # legal\n",
    "```\n",
    "\n",
    "Lists are mutable: can be changed \"in-place\" (without explicit copying) \n",
    "```\n",
    "    L = [2, 4, 6, 8, 10] \n",
    "\tL[0] = 15 \t\t# legal \n",
    "\tL.append(26) \t# legal\n",
    "```\n",
    "\n",
    "Let's compare mutable to unmuttable.\n",
    "* How can we switch the first and last letter in a string?\n",
    "* How can we switch the first and last items in a list?\n"
   ]
  },
  {
   "cell_type": "code",
   "execution_count": null,
   "metadata": {},
   "outputs": [],
   "source": [
    "# Switching the first and last letter in a string\n",
    "s = \"ABCDE\"\n",
    "s = s[-1] + s[1:-1] + s[0]\n",
    "print(s)"
   ]
  },
  {
   "cell_type": "code",
   "execution_count": null,
   "metadata": {},
   "outputs": [],
   "source": [
    "# Switching the first and last item in a list\n",
    "\n",
    "l = ['A', 'B','C', 'D', 'E']\n",
    "temp = l[0]\n",
    "l[0] = l[-1]\n",
    "l[-1] = temp\n",
    "print(l)"
   ]
  },
  {
   "cell_type": "markdown",
   "metadata": {},
   "source": [
    "## Three common ways to make a list\n",
    "\n",
    "1. Make a list that already has stuff in it:\n",
    "```\n",
    "lst = [4, 7, 3, 8]\n",
    "```\n",
    "2. Make a list of a certain length that has the same element in all positions:\n",
    "```\n",
    "lst = [0] * 4 \t#makes the list [0,0,0,0]\n",
    "```\n",
    "<ul>\n",
    "    <li>Common when you need a list of a certain length ahead of time.) </li>\n",
    "    <li>Uses the repetition operator, similarly to strings</li>\n",
    "</ul>\n",
    "\n",
    "3. Make an empty list: \n",
    "```\n",
    "lst = [] \n",
    "```\n",
    "<ul>\n",
    "    <li>Common when you're going to put things in the list coming from the user or a file.</li>\n",
    "</ul>\n",
    "\n",
    "## Simple list problem\n",
    "How would we write a function to convert a number from 1-12 into the corresponding month of the year as a string? \n",
    "\n",
    "Ex: getmonth(2) should return \"February\""
   ]
  },
  {
   "cell_type": "code",
   "execution_count": null,
   "metadata": {},
   "outputs": [],
   "source": [
    "def getmonth(month):\n",
    "    months = ['January', 'February', 'March', 'April', 'May', 'June', 'July', \\\n",
    "            'August', 'September', 'October', 'November', 'December']\n",
    "  \n",
    "    return months[month-1]\n",
    "\n",
    "getmonth(2)  "
   ]
  },
  {
   "cell_type": "markdown",
   "metadata": {},
   "source": [
    "## List Concatenation\n",
    "Just like with 2 strings, you can \"add\" 2 lists together. It creates a new 1-D list with all the items from both lists in it.\n"
   ]
  },
  {
   "cell_type": "code",
   "execution_count": null,
   "metadata": {},
   "outputs": [],
   "source": [
    "a = [1,2,3]\n",
    "b = [4,5,6]\n",
    "c = a + b\n",
    "print(c)# prints [1, 2, 3, 4, 5, 6]\n",
    "\n",
    "mylist = ['a','b','c']\n",
    "other = ['d','e','f']\n",
    "print(mylist + other)  #['a', 'b', 'c', 'd', 'e', 'f']\n"
   ]
  },
  {
   "cell_type": "code",
   "execution_count": null,
   "metadata": {},
   "outputs": [],
   "source": [
    "#What will this code output?\n",
    "\n",
    "lst = [2] * 3\n",
    "lst2 = [4] * 2\n",
    "lst3 = lst + lst2\n",
    "for x in range(0, len(lst3), 2):\n",
    "    lst3[x] = -1\n",
    "\n",
    "print(lst3)"
   ]
  },
  {
   "cell_type": "code",
   "execution_count": null,
   "metadata": {},
   "outputs": [],
   "source": [
    "# Examples of list slices \n",
    "# What will the following print statements output?\n",
    "numbers = [1, 2, 3, 4, 5, 6, 7, 8, 9, 10]\n",
    "#print(numbers[2: ])\n",
    "#print(numbers[:-2])\n",
    "#print(numbers[1:8:2])\n",
    "#print(numbers[5::-1])\n",
    "print(numbers[::-1])"
   ]
  },
  {
   "cell_type": "code",
   "execution_count": null,
   "metadata": {},
   "outputs": [],
   "source": [
    "# Running total with lists program\n",
    "\n",
    "def main():\n",
    "    total = 0\n",
    "    numbers = [2, 4, 6, 8, 10]\n",
    "    for i in range(0, len(numbers)):\n",
    "        value = numbers[i]\n",
    "        total += value\n",
    "\n",
    "    print(\"The total of the items is: \", total)\n",
    "\n",
    "main()"
   ]
  },
  {
   "cell_type": "code",
   "execution_count": null,
   "metadata": {},
   "outputs": [],
   "source": [
    "# Example using the repetition operator to initialize the list to all zeroes\n",
    "\n",
    "def main():\n",
    "    NUM_DAYS = 5\n",
    "    sales = [0] * NUM_DAYS\n",
    "  \n",
    "    print(\"Enter the sales for each day.\")\n",
    "  \n",
    "    for i in range(0, NUM_DAYS):\n",
    "        print(\"Day #\", i+1, \":\", sep='', end='')\n",
    "        sales[i] = float(input())\n",
    "\n",
    "    \n",
    "    print(\"Here are the values you entered.\")\n",
    "    for i in range(0, len(sales)):\n",
    "        print(sales[i])\n",
    "\n",
    "main()"
   ]
  },
  {
   "cell_type": "markdown",
   "metadata": {},
   "source": [
    "## Practice\n",
    "The following program has the main function written for you and stubs for 2 other functions that you will need to write.\n",
    "* `findAverage(numbers)` – will return the average of all the numbers in the list\n",
    "* `countNumbers(numbers, average)` - will return 2 values; it counts the number of above average and below average numbers in a list"
   ]
  },
  {
   "cell_type": "code",
   "execution_count": null,
   "metadata": {},
   "outputs": [],
   "source": [
    "#Fill in the code for the following 2 functions, findAverage and countNumbers\n",
    "\n",
    "#This function finds the average of a list of numbers\n",
    "#Parameters: numbers, a list of integers\n",
    "#Returns: average, a floating point number \n",
    "def findAverage(numbers):\n",
    "  #REPLACE the pass call with your code\n",
    "  pass\n",
    "  \n",
    "\n",
    "#This function counts the number of above average and below average numbers in a list\n",
    "#Parameters: numbers, a list of integers; average, the average of the values in the list\n",
    "#Returns: numBelow, the # of values below average; numAbove, the number of values above average\n",
    "def countNumbers(numbers, average):\n",
    "    numBelow = 0\n",
    "    numAbove = 0\n",
    "\n",
    "    #YOUR CODE GOES HERE\n",
    "    \n",
    "    return numBelow, numAbove\n",
    "\n",
    "\n",
    "def main():\n",
    "    numList = [62, 57, 35, 27, 45, 44, 46, 68, 86, 27, 88, 33,\n",
    "               11, 61, 64, 45, 56, 9, 33, 32, 56, 63, 24, 26,\n",
    "               100, 95, 62, 10, 87, 58, 69, 54, 75, 41, 22, 93,\n",
    "               82, 16, 92, 49, 6, 71, 85, 59, 56, 22, 3, 50, 1,\n",
    "               20, 54, 18, 27, 78, 17, 7, 41, 83, 92, 38, 5, 64,\n",
    "               60, 92, 15, 26, 57, 39, 80, 41, 67, 56, 24, 77,\n",
    "               28, 90, 24, 72, 2, 46, 75, 53, 58, 47, 50, 18,\n",
    "               40, 65, 24, 58, 4, 58, 81, 40, 6, 77, 85, 86, 68]\n",
    "    \n",
    "    avg = findAverage(numList)\n",
    "    print(\"Average is:\", avg)\n",
    "    below, above = countNumbers(numList, avg)\n",
    "    print(\"Below Average:\", below, \"\\nAbove Average:\", above)\n",
    "\n",
    "main()"
   ]
  },
  {
   "cell_type": "markdown",
   "metadata": {},
   "source": [
    "## Finding Items in Lists with the in Operator\n",
    "* You can use the `in` operator to determine whether an item is contained in a list\n",
    "* General format: `item in list`\n",
    "* Returns True if the item is in the list, or False if it is not in the list\n",
    "* Similarly you can use the `not in` operator to determine whether an item is not in a list\n"
   ]
  },
  {
   "cell_type": "code",
   "execution_count": null,
   "metadata": {},
   "outputs": [],
   "source": [
    "# Example using the in operator\n",
    "def main():\n",
    "    prod_nums = ['V475', 'F987', 'Q143', 'R688']\n",
    "  \n",
    "    search = input(\"Enter a product number: \")\n",
    "  \n",
    "    if search in prod_nums:\n",
    "        print(search, \"was found in the list.\")\n",
    "    else:\n",
    "        print(search, \"was not found in the list.\")\n",
    "\n",
    "main()"
   ]
  },
  {
   "cell_type": "markdown",
   "metadata": {},
   "source": [
    "## List Methods and Useful Built-in Functions\n",
    "(See list reference on the course website for a complete list of list methods)\n",
    "\n",
    "* `append(item):` used to add items to a list – item is appended to the end of the existing list\n",
    "* `index(item):` used to determine where an item is located in a list. It returns the index of the first element in the list containing item, and raises ValueError exception if item not in the list\n",
    "* `insert(index, item):` used to insert item at position index in the list\n",
    "* `sort():` used to sort the elements of the list in ascending order\n",
    "* `remove(item):` removes the first occurrence of item in the list\n",
    "* `reverse():` reverses the order of the elements in the list\n",
    "* `del` statement: removes an element from a specific index in a list (General format: `del list[i]`)\n",
    "* `min` and `max` functions: built-in functions that returns the item that has the lowest or highest value in a sequence. The sequence is passed as an argument (General format: `min(lst)`)\n",
    "* `sum` function: built-in functions that returns the total of all the values in a sequence. The sequence is passed as an argument (General format: `sum(lst)`)\n",
    "\n",
    "### `find` method does NOT exist for lists\n",
    "`list_var.index(item)`: Searches left to right, returns position where found, but crashes if not found.\t\n",
    "\n",
    "Let’s build an algorithm that replicates find(), but works for lists (returns -1 if not found).\n"
   ]
  },
  {
   "cell_type": "code",
   "execution_count": null,
   "metadata": {},
   "outputs": [],
   "source": []
  },
  {
   "cell_type": "code",
   "execution_count": null,
   "metadata": {},
   "outputs": [],
   "source": [
    "# Example using the append method\n",
    "\n",
    "def main():\n",
    "    file = open(\"randomNums.txt\", 'r')\n",
    "    numbers = []\n",
    "  \n",
    "    for line in file:\n",
    "        value = int(line)\n",
    "        numbers.append(value)\n",
    "    \n",
    "    file.close()\n",
    "    print(numbers)\n",
    "\n",
    "main()"
   ]
  },
  {
   "cell_type": "code",
   "execution_count": null,
   "metadata": {},
   "outputs": [],
   "source": [
    "# Example using the sort and insert methods\n",
    "\n",
    "def main():\n",
    "    names = ['James', 'Kathryn', 'Bill']\n",
    "    names.sort()\n",
    "\n",
    "    print(\"The list before the insert: \", names)\n",
    "  \n",
    "    names.insert(0, 'Joe')\n",
    "  \n",
    "    print(\"The list after the first insert: \", names)\n",
    "  \n",
    "    names.insert(2, 'Mary')\n",
    "  \n",
    "    print(\"The list after the second insert:\", names)\n",
    "\n",
    "main()"
   ]
  },
  {
   "cell_type": "code",
   "execution_count": null,
   "metadata": {},
   "outputs": [],
   "source": [
    "# Examples using del, min, max, sum, and sort\n",
    "\n",
    "def main():\n",
    "    my_list = [5, 4, 3, 2, 50, 40, 30]\n",
    "    print(\"Before Deletion: \", my_list)\n",
    "    del my_list[2]\n",
    "    print(\"After Deletion: \", my_list)\n",
    "\n",
    "    print(\"The lowest value is\", min(my_list))\n",
    "    print(\"The highest value is\", max(my_list))\n",
    "    print(\"The sum of the values in my list is\", sum(my_list))\n",
    "\n",
    "    #Sorting a list - this will permanately change the order of the items in my_list \n",
    "    #There is no way to return my_list to it's orginal order after running the sort function\n",
    "    my_list.sort()\n",
    "    print(\"The sorted list is: \", my_list)\n",
    "    print()\n",
    "\n",
    "    alpha_list = ['a', 'b','c', 'd']\n",
    "    print(\"The lowest value is\", min(alpha_list))\n",
    "    print(\"The highest value is\", max(alpha_list))\n",
    "    #You cannot take the sum of a list that has strings in it.\n",
    "\n",
    "main()"
   ]
  },
  {
   "cell_type": "code",
   "execution_count": null,
   "metadata": {},
   "outputs": [],
   "source": [
    "# Comparing Consecutive Items in a list\n",
    "\n",
    "def main():\n",
    "    numbers = [9, 1, 0, 2, 8, 6, 7, 5, 3, 4]\n",
    "    deltas = []\n",
    "  \n",
    "    for i in range(1, len(numbers)):\n",
    "        diff = numbers[i] - numbers[i-1]\n",
    "        deltas.append(diff)\n",
    "    \n",
    "    print(deltas)\n",
    "\n",
    "main()"
   ]
  },
  {
   "cell_type": "markdown",
   "metadata": {},
   "source": [
    "## Practice\n",
    "1. Write a program that randomly generates 20 integers between 1 and 50, and stores them in a list. Print out the lowest and the highest numbers in your list, as well as the sum of all the numbers in the list.\n",
    "\n",
    "2. Write a function that prints out sums of adjacent pairs of numbers in the list. __Hint:__ You don’t need the sliding window technique; instead, use math with list indices.\n",
    "\n",
    "3. Write a function that takes a list and shifts all the elements in the list one spot to the left, without using slices! (the left-most element disappears)\n",
    "\n",
    "__Example:__ [1, 2, 3, 4, 5] turns into [2, 3, 4, 5, 5]"
   ]
  },
  {
   "cell_type": "code",
   "execution_count": null,
   "metadata": {},
   "outputs": [],
   "source": []
  },
  {
   "cell_type": "code",
   "execution_count": null,
   "metadata": {},
   "outputs": [],
   "source": [
    "\n",
    "#sum_adj([2, 3, 4, 5, 6, 7]) #uncomment to test"
   ]
  },
  {
   "cell_type": "code",
   "execution_count": null,
   "metadata": {},
   "outputs": [],
   "source": [
    "\n",
    "# shift_left([1, 2, 3, 4, 5]) #uncomment to test"
   ]
  },
  {
   "cell_type": "markdown",
   "metadata": {},
   "source": [
    "__Any questions on the review packet for Midterm 2?__\n",
    "\n",
    "\n",
    "Please do the following:\n",
    "* Zybooks Assignment 12 - due by 10am Friday\n",
    "* Study for Midterm 2 and take it tomorrow between 10am-noon\n",
    "* Complete Project 6 - due by 11:59pm Friday"
   ]
  }
 ],
 "metadata": {
  "kernelspec": {
   "display_name": "Python 3 (ipykernel)",
   "language": "python",
   "name": "python3"
  },
  "language_info": {
   "codemirror_mode": {
    "name": "ipython",
    "version": 3
   },
   "file_extension": ".py",
   "mimetype": "text/x-python",
   "name": "python",
   "nbconvert_exporter": "python",
   "pygments_lexer": "ipython3",
   "version": "3.9.10"
  },
  "varInspector": {
   "cols": {
    "lenName": 16,
    "lenType": 16,
    "lenVar": 40
   },
   "kernels_config": {
    "python": {
     "delete_cmd_postfix": "",
     "delete_cmd_prefix": "del ",
     "library": "var_list.py",
     "varRefreshCmd": "print(var_dic_list())"
    },
    "r": {
     "delete_cmd_postfix": ") ",
     "delete_cmd_prefix": "rm(",
     "library": "var_list.r",
     "varRefreshCmd": "cat(var_dic_list()) "
    }
   },
   "types_to_exclude": [
    "module",
    "function",
    "builtin_function_or_method",
    "instance",
    "_Feature"
   ],
   "window_display": false
  }
 },
 "nbformat": 4,
 "nbformat_minor": 2
}
