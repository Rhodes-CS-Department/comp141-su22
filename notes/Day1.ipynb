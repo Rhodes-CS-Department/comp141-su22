{
 "cells": [
  {
   "cell_type": "markdown",
   "metadata": {},
   "source": [
    "## Welcome to Day 1 of CS 141! \n",
    "Here are some code examples for you to try and also for you to write. You'll do a lab later that will spend more time explaining notebooks. For now, all you really need to know is to run the code in a cell, you should type `Shift + Enter` while your cursor is in the cell."
   ]
  },
  {
   "cell_type": "code",
   "execution_count": null,
   "metadata": {},
   "outputs": [],
   "source": [
    "print(\"Hello World\")\n",
    "print(1+2+3)"
   ]
  },
  {
   "cell_type": "markdown",
   "metadata": {},
   "source": [
    "In the following cell, write Python code to do the following.\n",
    "* Write a statement that displays your name.\n",
    "* Write a statement that displays “I am 100 years old!”\n",
    "* Write a statement that displays the value of multiplying 322 * 35."
   ]
  },
  {
   "cell_type": "code",
   "execution_count": null,
   "metadata": {},
   "outputs": [],
   "source": [
    
   ]
  },
  {
   "cell_type": "markdown",
   "metadata": {},
   "source": [
    "## Comments\n",
    "* Notes of explanation within a program\n",
    "* Ignored by Python interpreter\n",
    "* Intended for a person reading the program’s code\n",
    "* Begin with a # character\n",
    "\n",
    "The following cells are examples. Feel free to run them as I am demoing them."
   ]
  },
  {
   "cell_type": "code",
   "execution_count": null,
   "metadata": {},
   "outputs": [],
   "source": [
    "# Catie Welsh\n",
    "# COMP 141\n",
    "# This program display's a person's name and address.\n",
    "\n",
    "print(\"Jane Doe\")\n",
    "print(\"123 Main Street\")\n",
    "print(\"Memphis, TN 38104\")"
   ]
  },
  {
   "cell_type": "markdown",
   "metadata": {},
   "source": [
    "## Variables\n",
    "__Variable:__ name that represents a value stored in the computer memory\n",
    "* Used to access and manipulate data stored in memory\n",
    "* A variable references the value it represents\n",
    "\n",
    "__Assignment statement:__ used to create a variable and make it reference data\n",
    "* General format is variable = expression\n",
    "* Example: `age = 29`\n",
    "* __Assignment operator:__ the equal sign (=)\n",
    "\n",
    "__Info about variables:__\n",
    "* In assignment statement, variable receiving value must be on __left__ side\n",
    "* A variable can be passed as an argument to a function\n",
    "* Variable name should not be enclosed in quote marks\n",
    "* You can only use a variable if a value is assigned to it\n",
    "\n",
    "__Variable Naming Rules:__\n",
    "* Variable name cannot be a Python key word \n",
    "* Variable name cannot contain spaces\n",
    "* First character must be a letter or an underscore\n",
    "* After first character may use letters, digits, or underscores\n",
    "* Variable names are case sensitive\n",
    "* Variable name should reflect its use!\n",
    "\n",
    "__Displaying Multiple Items with the `print` Function__\n",
    "* Python allows one to display multiple items with a single call to print\n",
    "* Items are separated by commas when passed as arguments\n",
    "* Arguments are displayed in the order they are passed to the function\n",
    "* Items are automatically separated by a space when displayed on screen\n"
   ]
  },
  {
   "cell_type": "code",
   "execution_count": null,
   "metadata": {},
   "outputs": [],
   "source": [
    "dogName = \"May\"\n",
    "print(\"My dog's name is\", dogName)"
   ]
  },
  {
   "cell_type": "markdown",
   "metadata": {},
   "source": [
    "## Data Types\n",
    "* Categorize value in memory\n",
    "* Integers(int) - whole numbers; may be negative\n",
    "* Floats(float) - any number with a decimal point; may be negative\n",
    "* Strings (str) - Any sequence of letters, numbers, or punctuation.\n",
    "\n",
    "Some operations behave differently depending on data type"
   ]
  },
  {
   "cell_type": "code",
   "execution_count": null,
   "metadata": {},
   "outputs": [],
   "source": [
    "#Example showing the differences between integer and string variables\n",
    "a = 5\n",
    "b = 7\n",
    "print(a + b)\n",
    "print(a * 5)\n",
    "  \n",
    "a = \"5\"\n",
    "b = \"7\"\n",
    "print(a+b)\n",
    "print(a * 5)"
   ]
  },
  {
   "cell_type": "markdown",
   "metadata": {},
   "source": [
    "A variable in Python can refer to items of any type\n",
    "\n",
    "__If you’re using the same variable name for different uses, Python will assume you mean the most recent use__"
   ]
  },
  {
   "cell_type": "code",
   "execution_count": null,
   "metadata": {},
   "outputs": [],
   "source": [
    "x = 90\n",
    "print(x)\n",
    "x = \"Take me to your leader\"\n",
    "print(x)"
   ]
  },
  {
   "cell_type": "markdown",
   "metadata": {},
   "source": [
    "## Getting input from the user\n",
    "\n",
    "* Most programs need to read input from the user\n",
    "* Built-in `input` function reads input from keyboard\n",
    "* Returns the data as a string\n",
    "* Format: `variable = input(prompt)` (__prompt__ is typically a string instructing user to enter a value)\n",
    "* Does not automatically display a space after the prompt\n",
    "* Example:\n",
    "`name = input(\"Please enter your name: \")`"
   ]
  },
  {
   "cell_type": "code",
   "execution_count": null,
   "metadata": {},
   "outputs": [],
   "source": [
    "name = input(\"Please enter your name: \")\n",
    "print(\"Your name is\", name)"
   ]
  },
  {
   "cell_type": "markdown",
   "metadata": {},
   "source": [
    "## Reading Numbers with the input Function\n",
    "\n",
    "* `input` function always returns a string\n",
    "\n",
    "Python has built-in functions to convert between data types\n",
    "* `int(item)` converts item to an int\n",
    "* `float(item)` converts item to a float\n",
    "\n",
    "__Nested function call:__ general format: `function1(function2(argument))`\n",
    "* value returned by function2 is passed to function1\n",
    "* Type conversion only works if item is valid numeric value, otherwise, throws exception\n",
    "\n",
    "__Input from Keyboard:__\n",
    "* For integers: `variable = int(input(\"Prompt\"))`\n",
    "* For ﬂoats: `variable = float(input(\"Prompt\"))`\n",
    "* For strings: `variable = input(\"Prompt\")`"
   ]
  },
  {
   "cell_type": "code",
   "execution_count": null,
   "metadata": {},
   "outputs": [],
   "source": [
    "#Prompt the user for their age\n",
    "age = int(input(\"How old are you? \"))\n",
    "\n",
    "print(\"You will be\", age+1, \"on your next birthday.\")"
   ]
  },
  {
   "cell_type": "markdown",
   "metadata": {},
   "source": [
    "This is the end of our first day's lecture. \n",
    "\n",
    "Please do the following:\n",
    "1. Lab 00 (lab00) - due by 11:59pm tonight (you'll find it in your folder on JupyterHub)\n",
    "2. Zybooks Assignment 1 - due by 10am tomorrow"
   ]
  },
  {
   "cell_type": "code",
   "execution_count": null,
   "metadata": {},
   "outputs": [],
   "source": []
  }
 ],
 "metadata": {
  "kernelspec": {
   "display_name": "Python 3",
   "language": "python",
   "name": "python3"
  },
  "language_info": {
   "codemirror_mode": {
    "name": "ipython",
    "version": 3
   },
   "file_extension": ".py",
   "mimetype": "text/x-python",
   "name": "python",
   "nbconvert_exporter": "python",
   "pygments_lexer": "ipython3",
   "version": "3.6.7"
  }
 },
 "nbformat": 4,
 "nbformat_minor": 2
}
