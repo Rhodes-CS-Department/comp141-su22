{
 "cells": [
  {
   "cell_type": "markdown",
   "metadata": {},
   "source": [
    "# Lab 01 - Variables,\tData Types,\tInput,\tOutput,\tComments\n",
    "\n",
    "The following lab is designed to help you practice the introductory topics that we've discussed over the past few days.\n",
    "\n",
    "As a reminder, labs are graded on completion, not correctness. Please let me know if you're struggling with writing any of the following programs in the feedback cell at the bottom of the page.\n",
    "\n",
    "**For each of the following programs, please put a comment at the top of your code explaining the purpose of the program.**\n"
   ]
  },
  {
   "cell_type": "markdown",
   "metadata": {},
   "source": [
    "## Question 1: Calculating income tax\n",
    "\n",
    "Write a program that asks the user for the following:\n",
    "* their hourly wage (a float)\n",
    "* how many hours they work per day (a float)\n",
    "* how many days they work per week (an int)\n",
    "\n",
    "Your program should print:\n",
    "* their weekly gross pay (how much they make week before taxes are deducted)\n",
    "* their weekly net pay (how much they make after taxes are deducted, assume 15% is taken out for taxes).\n",
    "\n",
    "Be sure to use appropriate strings in your print statements so the user knows which number is which.\n",
    "\n",
    "Here's an example run of the program.  It shows an example of both what the program should output and how the user might respond, but your program should print different numbers based on what the user types in.  Test your code to be sure it gets the same outputs for these inputs.  \n",
    "```\n",
    "What is your hourly wage? 15.50\n",
    "How many hours per day do you work? 8.5\n",
    "How many days per week do you work? 5\n",
    "Gross pay: 658.75\n",
    "Net pay: 559.9375\n",
    "```\n",
    "\n",
    "*You do not need to worry about rounding numbers to two decimal places, but if you finish early, you can Google for how to do so.*"
   ]
  },
  {
   "cell_type": "code",
   "execution_count": null,
   "metadata": {},
   "outputs": [],
   "source": [
    "# Write your program in this cell.\n",
    "# Be sure to test your program on at least 2 sets of inputs.  You can use the example above, but then\n",
    "# make up some new numbers yourself and verify your program is calculating the output correctly.\n",
    "\n",
    "\n"
   ]
  },
  {
   "cell_type": "markdown",
   "metadata": {},
   "source": [
    "## Question 2: Printing an address label\n",
    "\n",
    "Write a program that lets the user enter the following information as separate string inputs:\n",
    "* First Name\n",
    "* Last Name\n",
    "* Street Address\n",
    "* City\n",
    "* State\n",
    "* Zip Code\n",
    "\n",
    "Your program should print out an address label formatted as follows:\n",
    "```\n",
    "Last, First\n",
    "Street\n",
    "City, State Zip\n",
    "```\n",
    "\n",
    "### Example (showing what your program prints and what the might type):\n",
    "\n",
    "```\n",
    "What is your first name? George\n",
    "What is your last name? Washington\n",
    "What is your street address? 1600 Pennsylvania Ave\n",
    "What is your city? Washington\n",
    "What is your state? DC\n",
    "What is your zipcode? 20500\n",
    "\n",
    "Your label is:\n",
    "\n",
    "Washington, George\n",
    "1600 Pennsylvania Ave\n",
    "Washington, DC 20500\n",
    "```"
   ]
  },
  {
   "cell_type": "code",
   "execution_count": null,
   "metadata": {},
   "outputs": [],
   "source": [
    "# Write your address label program here - don't forget to test it!\n",
    "\n"
   ]
  },
  {
   "cell_type": "markdown",
   "metadata": {},
   "source": [
    "## Question 3: The quadratic formula\n",
    "\n",
    "Write a program that lets the user input integers a, b, and c and prints out the two solution to the equation:\n",
    "\n",
    "$$ax^2 + bx\t+ c\t= 0$$\n",
    "\n",
    "To solve for x, you'll need to first rearrange the formula. (If you forget how to rearrange algebraic equations, feel free to google for the rearranged quadratic formula).\n",
    "\n",
    "Hint: I've already put the following statement at the top of your program:\n",
    "\n",
    "`import math`\n",
    "\n",
    "This allows you to use the function `math.sqrt(y)` in your code, which accepts a number `y` and returns the square root of `y`.\n",
    "You can use this in your math calculations.  You can also use the `**` exponent operator and raise something to the one-half power to take the square root.\n",
    "\n",
    "### Here is an example run of the program. Check to make sure your code gets the same outputs for these inputs.\n",
    "```\n",
    "Enter a: 1\n",
    "Enter b: 5\n",
    "Enter c: 3\n",
    "The 2 solutions are: -0.6972243622680054 and -4.302775637731995\n",
    "```\n",
    "\n",
    "*You may assume there will always be two (real-valued) solutions to the problem.  In other words, you do not have\n",
    "to handle cases where the values of a, b, and c lead to zero or only one solution.*"
   ]
  },
  {
   "cell_type": "code",
   "execution_count": null,
   "metadata": {},
   "outputs": [],
   "source": [
    "# Write your quadratic formula program here.\n",
    "\n",
    "import math\n",
    "\n",
    "# Here's an example of using sqrt.  You can delete these lines below when you start solving this problem.\n",
    "num = 16\n",
    "num2 = math.sqrt(num)  # assigns 4.0 to num2\n",
    "print(\"The square root of\", num, \"is\", num2)\n",
    "\n"
   ]
  },
  {
   "cell_type": "markdown",
   "metadata": {},
   "source": [
    "## Challenge question\n",
    "The following problem is __not__ required to get full credit for the lab. It is __optional__ practice.\n",
    "\n",
    "You win a small lottery and suddenly have $50,000 to invest. You decide to put it in the stock market, which historically averages about a 7\\% annual return (in other words, your money will increase by 7\\% each year).\n",
    "\n",
    "Write a program which allows the user to enter an amount of money they hope to earn, and your program should print the number of years it will take to earn that amount, compounding 7\\% annually.\n",
    "\n",
    "The formula for calculating the amount of money you'll have after Y years, if you start with P dollars, with an interest rate of r, with compound interest is:\n",
    "\n",
    "$$Value = P[(1+r)^Y]$$\n",
    "\n",
    "Hint: Use import math again, along with the function `math.log(x)`. This calculates the natural logarithm of x. \n",
    "\n",
    "Assuming you need one million dollars to retire, how many years will it take you? What if you need two million? What if the initial amount is increased to $60,000? (Change your program to let the user input an amount). What if the stock market only averages 6\\%?\t"
   ]
  },
  {
   "cell_type": "code",
   "execution_count": null,
   "metadata": {},
   "outputs": [],
   "source": [
    "# Write your challenge program here.\n",
    "# Test it and modify as it specifies in the above questions.\n",
    "\n"
   ]
  },
  {
   "cell_type": "markdown",
   "metadata": {},
   "source": [
    "## Feedback \n",
    "__Use the cell below to write any feedback you'd like to provide about this lab.__\n",
    "1. Were there particular problems on this lab that you would like to go over in class?\n",
    "2. Do you have any questions about the material we have covered so far?"
   ]
  },
  {
   "cell_type": "markdown",
   "metadata": {},
   "source": [
    "Answer feedback questions here: "
   ]
  },
  {
   "cell_type": "markdown",
   "metadata": {},
   "source": [
    "## Submission\n",
    "\n",
    "Once you have made good-faith attempts at questions 1, 2, and 3, you may submit this lab by running the cell below."
   ]
  },
  {
   "cell_type": "code",
   "execution_count": null,
   "metadata": {},
   "outputs": [],
   "source": [
    "# Run this cell to log in to okpy.org, and submit your lab.\n",
    "from cs1.notebooks import *\n",
    "ok_submit('lab01.ok')"
   ]
  },
  {
   "cell_type": "code",
   "execution_count": null,
   "metadata": {},
   "outputs": [],
   "source": []
  }
 ],
 "metadata": {
  "kernelspec": {
   "display_name": "Python 3",
   "language": "python",
   "name": "python3"
  },
  "language_info": {
   "codemirror_mode": {
    "name": "ipython",
    "version": 3
   },
   "file_extension": ".py",
   "mimetype": "text/x-python",
   "name": "python",
   "nbconvert_exporter": "python",
   "pygments_lexer": "ipython3",
   "version": "3.9.2"
  },
  "varInspector": {
   "cols": {
    "lenName": 16,
    "lenType": 16,
    "lenVar": 40
   },
   "kernels_config": {
    "python": {
     "delete_cmd_postfix": "",
     "delete_cmd_prefix": "del ",
     "library": "var_list.py",
     "varRefreshCmd": "print(var_dic_list())"
    },
    "r": {
     "delete_cmd_postfix": ") ",
     "delete_cmd_prefix": "rm(",
     "library": "var_list.r",
     "varRefreshCmd": "cat(var_dic_list()) "
    }
   },
   "types_to_exclude": [
    "module",
    "function",
    "builtin_function_or_method",
    "instance",
    "_Feature"
   ],
   "window_display": false
  }
 },
 "nbformat": 4,
 "nbformat_minor": 2
}
