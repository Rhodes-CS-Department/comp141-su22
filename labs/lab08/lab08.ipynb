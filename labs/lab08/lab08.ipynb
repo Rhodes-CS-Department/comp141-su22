{
 "cells": [
  {
   "cell_type": "markdown",
   "metadata": {},
   "source": [
    "# Lab 8: 2-D List Functions\n",
    "\n",
    "We just saw two ways to create a function to add up all the numbers on the upper-left to lower-right diagonal\n",
    "of a square matrix (a matrix with the same number of rows and columns). The key is that the numbers on the\n",
    "diagonal have the property that their row index is equal to their column index.\n",
    "\n",
    "One way to solve it, is to use an if-test:"
   ]
  },
  {
   "cell_type": "code",
   "execution_count": null,
   "metadata": {},
   "outputs": [],
   "source": [
    "def add_diagonal(grid):\n",
    "    total = 0\n",
    "    for row in range(0, len(grid)):\n",
    "        for col in range(0, len(grid[row])):\n",
    "            if row == col:\n",
    "                total += grid[row][col]\n",
    "    return total\n",
    "\n",
    "add_diagonal([[1, 3, 5], [2, 4, 6], [3, 6, 9]])"
   ]
  },
  {
   "cell_type": "markdown",
   "metadata": {},
   "source": [
    "But this code is inefficient, because it wastes time by looping over large chunks of the matrix that we know\n",
    "don’t matter (numbers not on the diagonal). Because there’s a mathematical relationship (row == col), we can\n",
    "remove the nested loops and just use one loop:"
   ]
  },
  {
   "cell_type": "code",
   "execution_count": null,
   "metadata": {},
   "outputs": [],
   "source": [
    "def add_diagonal(grid):\n",
    "    total = 0\n",
    "    for row in range(0, len(grid)):\n",
    "        total += grid[row][row]\n",
    "    return total\n",
    "\n",
    "add_diagonal([[1, 3, 5], [2, 4, 6], [3, 6, 9]])"
   ]
  },
  {
   "cell_type": "markdown",
   "metadata": {},
   "source": [
    "1. Write a function called `add_diagonal2` that adds up the numbers on the upper-right to lower-left diagonal and returns that value. Hint: Figure out the mathematical relationship between the numbers on the diagonal; there is a similar relationship to the one in the add_diagonal problem above.\n",
    "\n",
    "Example: `add_diagonal2([[1, 3, 5], [2, 4, 6], [3, 6, 9]])` returns 12"
   ]
  },
  {
   "cell_type": "code",
   "execution_count": null,
   "metadata": {},
   "outputs": [],
   "source": [
    "def add_diagonal2(grid):\n",
    "    pass\n",
    "  \n",
    "\n",
    "add_diagonal2([[1, 3, 5], [2, 4, 6], [3, 6, 9]])"
   ]
  },
  {
   "cell_type": "markdown",
   "metadata": {},
   "source": [
    "2. Write a function to multiply each number in the matrix by 5 (the original matrix should be altered; don’t\n",
    "create a new matrix). \n",
    "\n",
    "Example: `mult5([[5, 2, 8, 4], [-9, 0, 4, 1], [5, 6, 4, 8]])` returns `[[25, 10, 40, 20], [-45, 0, 20, 5], [25, 30, 20, 40]]`"
   ]
  },
  {
   "cell_type": "code",
   "execution_count": null,
   "metadata": {},
   "outputs": [],
   "source": [
    "def mult5(grid):\n",
    "    pass\n",
    "\n",
    "  \n",
    "mult5([[5, 2, 8, 4], [-9, 0, 4, 1], [5, 6, 4, 8]])"
   ]
  },
  {
   "cell_type": "markdown",
   "metadata": {},
   "source": [
    "3. Write a function to change each odd number in a matrix by multiplying it by 2 (the original matrix should be\n",
    "altered; don’t create a new matrix).\n",
    "\n",
    "Example: `mult2odd([[5, 2, 8, 4], [-9, 0, 4, 1], [5, 6, 4, 8]])` returns `[[10, 2, 8, 4], [-18, 0, 4, 2], [10, 6, 4, 8]]`"
   ]
  },
  {
   "cell_type": "code",
   "execution_count": null,
   "metadata": {},
   "outputs": [],
   "source": [
    "def mult2odd(grid):\n",
    "    pass\n",
    "\n",
    "mult2odd([[5, 2, 8, 4], [-9, 0, 4, 1], [5, 6, 4, 8]])"
   ]
  },
  {
   "cell_type": "markdown",
   "metadata": {},
   "source": [
    "4. Write a function to change all the numbers in odd rows of a matrix by multiplying them by 2 (the original\n",
    "matrix should be altered; don't create a new matrix). \n",
    "\n",
    "Example: `mult2OddRows([[5, 2, 8, 4], [-9, 0, 4, 1], [5, 6, 4, 8]])` returns `[[5, 2, 8, 4], [-18, 0, 8, 2], [5, 6, 4, 8]]`"
   ]
  },
  {
   "cell_type": "code",
   "execution_count": null,
   "metadata": {},
   "outputs": [],
   "source": [
    "def mult2OddRows(grid):\n",
    "    pass\n",
    "\n",
    "mult2OddRows([[5, 2, 8, 4], [-9, 0, 4, 1], [5, 6, 4, 8]])"
   ]
  },
  {
   "cell_type": "markdown",
   "metadata": {},
   "source": [
    "5. Write a function to print the smallest number in each row of a matrix.\n",
    "\n",
    "Example: `print_smallest_in_row([[5, 2, 8, 4], [-9, 0, 4, 1], [5, 6, 4, 8]])` prints 2, -9, 4.\n"
   ]
  },
  {
   "cell_type": "code",
   "execution_count": null,
   "metadata": {},
   "outputs": [],
   "source": [
    "def print_smallest_in_row(grid):\n",
    "    pass\n",
    "\n",
    "print_smallest_in_row([[5, 2, 8, 4], [-9, 0, 4, 1], [5, 6, 4, 8]])"
   ]
  },
  {
   "cell_type": "markdown",
   "metadata": {},
   "source": [
    "6. Write a function to print the smallest number in each column of a matrix.\n",
    "\n",
    "Example: `print_smallest_in_col([[5, 2, 8, 4], [-9, 0, 4, 1], [5, 6, 4, 8]])` prints -9, 0, 4, 1."
   ]
  },
  {
   "cell_type": "code",
   "execution_count": null,
   "metadata": {},
   "outputs": [],
   "source": [
    "def print_smallest_in_col(grid):\n",
    "    pass\n",
    "\n",
    "print_smallest_in_col([[5, 2, 8, 4], [-9, 0, 4, 1], [5, 6, 4, 8]])"
   ]
  },
  {
   "cell_type": "markdown",
   "metadata": {},
   "source": [
    "__Challenge:__ (optional) Change the print smallest functions to return lists of the smallest items in each\n",
    "row/column, rather than printing them. So problem 5 would return the list [2, -9, 4]."
   ]
  },
  {
   "cell_type": "code",
   "execution_count": null,
   "metadata": {},
   "outputs": [],
   "source": []
  },
  {
   "cell_type": "markdown",
   "metadata": {},
   "source": [
    "## Feedback Questions \n",
    "\n",
    "Answer the following questions in the cell below.\n",
    "1. Are there any particular questions from this lab that you'd like to go over in class?\n",
    "2. Any comments/questions/concerns about any material we've gone over so far?"
   ]
  },
  {
   "cell_type": "markdown",
   "metadata": {},
   "source": [
    "Answer here: "
   ]
  },
  {
   "cell_type": "markdown",
   "metadata": {},
   "source": [
    "### Submitting\n",
    "\n",
    "Run the following cell to submit. You can submit as many times as you like. Make sure that you click the link returned to you by okpy to verify that your notebook was uploaded correctly."
   ]
  },
  {
   "cell_type": "code",
   "execution_count": null,
   "metadata": {},
   "outputs": [],
   "source": [
    "# Run this cell to submit.\n",
    "# Submit as frequently as you like; I will only grade the last submission.\n",
    "from cs1.notebooks import *\n",
    "ok_submit('lab08.ok')"
   ]
  },
  {
   "cell_type": "code",
   "execution_count": null,
   "metadata": {},
   "outputs": [],
   "source": []
  }
 ],
 "metadata": {
  "kernelspec": {
   "display_name": "Python 3",
   "language": "python",
   "name": "python3"
  },
  "language_info": {
   "codemirror_mode": {
    "name": "ipython",
    "version": 3
   },
   "file_extension": ".py",
   "mimetype": "text/x-python",
   "name": "python",
   "nbconvert_exporter": "python",
   "pygments_lexer": "ipython3",
   "version": "3.9.2"
  },
  "varInspector": {
   "cols": {
    "lenName": 16,
    "lenType": 16,
    "lenVar": 40
   },
   "kernels_config": {
    "python": {
     "delete_cmd_postfix": "",
     "delete_cmd_prefix": "del ",
     "library": "var_list.py",
     "varRefreshCmd": "print(var_dic_list())"
    },
    "r": {
     "delete_cmd_postfix": ") ",
     "delete_cmd_prefix": "rm(",
     "library": "var_list.r",
     "varRefreshCmd": "cat(var_dic_list()) "
    }
   },
   "types_to_exclude": [
    "module",
    "function",
    "builtin_function_or_method",
    "instance",
    "_Feature"
   ],
   "window_display": false
  }
 },
 "nbformat": 4,
 "nbformat_minor": 2
}
