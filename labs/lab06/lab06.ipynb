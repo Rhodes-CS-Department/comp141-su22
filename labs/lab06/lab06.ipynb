{
 "cells": [
  {
   "cell_type": "markdown",
   "metadata": {},
   "source": [
    "# Lab 6: Problems with strings"
   ]
  },
  {
   "cell_type": "markdown",
   "metadata": {},
   "source": [
    "Remember that your lab grades are effort-based. Please attempt each problem, but it's okay if you can't get them all to work.\n"
   ]
  },
  {
   "cell_type": "markdown",
   "metadata": {},
   "source": [
    "I've put the generic functions here as they may be helpful for this lab.\n",
    "\n",
    "## Generic functions\n",
    "\n",
    "__Generic counting function:__\n",
    "```python\n",
    "def counting_function(string):\n",
    "    count = 0\n",
    "    for idx in range(0, len(string)):\n",
    "        if <some condition>:\n",
    "            count = count + 1\n",
    "    return count\n",
    "```\n",
    "\n",
    "__Generic string-building function:__\n",
    "```python\n",
    "def building_function(string):\n",
    "    answer = \"\"\n",
    "    for idx in range(0, len(string)):\n",
    "        if <some condition>:\n",
    "            answer = answer + string[idx]\n",
    "        # maybe more conditions here...\n",
    "    return answer\n",
    "```"
   ]
  },
  {
   "cell_type": "markdown",
   "metadata": {},
   "source": [
    "## Counting (and related) problems"
   ]
  },
  {
   "cell_type": "markdown",
   "metadata": {},
   "source": [
    "1. Write a function called `count_digits` that returns the number of digits in a string. \n",
    "(This one is done for you.)\n",
    "\n",
    "    Example: `count_digits(\"abc123def5\")` returns 4"
   ]
  },
  {
   "cell_type": "code",
   "execution_count": null,
   "metadata": {},
   "outputs": [],
   "source": [
    "def count_digits(s):\n",
    "    count = 0\n",
    "    for i in range(0, len(s)):\n",
    "        ch = s[i]\n",
    "        if ch.isdigit():\n",
    "            count += 1\n",
    "    return count\n",
    "\n",
    "# Test cases:\n",
    "print(count_digits(\"abc123def5\"))"
   ]
  },
  {
   "cell_type": "markdown",
   "metadata": {},
   "source": [
    "2. Write a function called `count_vowels` that returns the number of vowels in a string.\n",
    "\n",
    "    Example: `count_vowels(\"computer\")` returns 3"
   ]
  },
  {
   "cell_type": "code",
   "execution_count": null,
   "metadata": {},
   "outputs": [],
   "source": [
    "def count_vowels(s):\n",
    "    # your code here\n",
    "\n",
    "# Test cases:\n",
    "print(count_vowels(\"computer\"))"
   ]
  },
  {
   "cell_type": "markdown",
   "metadata": {},
   "source": [
    "3. Write a function called `sum_digits` that returns the sum of all the digits in a string.\n",
    "\n",
    "    Example: `sum_digits(\"abc123def5\")` returns 11"
   ]
  },
  {
   "cell_type": "code",
   "execution_count": null,
   "metadata": {},
   "outputs": [],
   "source": [
    "def sum_digits(s):\n",
    "    # your code here\n",
    "\n",
    "# Test cases:\n",
    "print(sum_digits(\"abc123def5\"))"
   ]
  },
  {
   "cell_type": "markdown",
   "metadata": {},
   "source": [
    "4. Write a function called `count_first` that counts the number of characters in a string that are identical to\n",
    "the first character.\n",
    "\n",
    "    __Example:__ `count_first(\"purple\")` returns 2"
   ]
  },
  {
   "cell_type": "code",
   "execution_count": null,
   "metadata": {},
   "outputs": [],
   "source": [
    "def count_first(s):\n",
    "    # your code here\n",
    "\n",
    "# Test cases:\n",
    "print(count_first(\"purple\"))"
   ]
  },
  {
   "cell_type": "markdown",
   "metadata": {},
   "source": [
    "5. Write a function called `count_unique` that counts the number of distinct characters in a string. In other\n",
    "words, count the total number of different characters that make up the string.\n",
    "\n",
    "   __Example:__ `count_unique(\"abracadabra\")` returns 5."
   ]
  },
  {
   "cell_type": "code",
   "execution_count": null,
   "metadata": {},
   "outputs": [],
   "source": [
    "def count_unique(s):\n",
    "    # your code here\n",
    "\n",
    "# Test cases:\n",
    "print(count_unique(\"abracadabra\"))"
   ]
  },
  {
   "cell_type": "markdown",
   "metadata": {},
   "source": [
    "## Problems involving building new strings"
   ]
  },
  {
   "cell_type": "markdown",
   "metadata": {},
   "source": [
    "1. Write a function called `filter_digits` that returns only the digits from a string.\n",
    "\n",
    "    __Example:__ `filter_digits(\"abc123def5\")` returns `\"1235\"`"
   ]
  },
  {
   "cell_type": "code",
   "execution_count": null,
   "metadata": {},
   "outputs": [],
   "source": [
    "def filter_digits(s):\n",
    "    # your code here\n",
    "    \n",
    "# Test cases\n",
    "print(filter_digits(\"abc123def5\"))"
   ]
  },
  {
   "cell_type": "markdown",
   "metadata": {},
   "source": [
    "2. Write a function called `remove_capitals` that returns the string s with capital letters removed.\n",
    "\n",
    "    __Example:__ `remove_capitals(\"AbCDeFGhi9\")` returns `\"behi9\"`"
   ]
  },
  {
   "cell_type": "code",
   "execution_count": null,
   "metadata": {},
   "outputs": [],
   "source": [
    "def remove_capitals(s):\n",
    "    # your code here\n",
    "    \n",
    "# Test cases\n",
    "print(remove_capitals(\"AbCDeFGhi9\"))"
   ]
  },
  {
   "cell_type": "markdown",
   "metadata": {},
   "source": [
    "3. Write a function called `change_nums` that increments all numbers in a string by one:\n",
    "\n",
    "    __Example:__ `change_nums(\"a1b2\")` returns `\"a2b3\"`\n",
    "\n",
    "    We guarantee that this function will never have strings containing numbers greater than 8."
   ]
  },
  {
   "cell_type": "code",
   "execution_count": null,
   "metadata": {},
   "outputs": [],
   "source": [
    "def change_nums(s):\n",
    "    # your code here\n",
    "    \n",
    "# Test cases\n",
    "print(change_nums(\"a1b2\"))"
   ]
  },
  {
   "cell_type": "markdown",
   "metadata": {},
   "source": [
    "4. Write a function called `reverse` that returns (**not prints**) the reverse of string s.\n",
    "\n",
    "    __Example:__ `reverse(\"abc\")` returns `\"cba\"`"
   ]
  },
  {
   "cell_type": "code",
   "execution_count": null,
   "metadata": {},
   "outputs": [],
   "source": [
    "def reverse(s):\n",
    "    # your code here\n",
    "    \n",
    "# Test cases\n",
    "print(reverse(\"abc\"))"
   ]
  },
  {
   "cell_type": "markdown",
   "metadata": {},
   "source": [
    "5. Write a function called `encode` that takes a string and encodes it using the simple cipher A=1, B=2, C=3,\n",
    "and so on. Make this work with uppercase and lowercase letters.\n",
    "\n",
    "    __Example:__ `encode(\"abc\")` returns \"1-2-3\"\n",
    "\n",
    "    Hint: use a variable called `letters = \"abcdefgh…\"` and the `find` function. What is `letters.find(\"a\")`?\n",
    "`letters.find(\"b\")`?"
   ]
  },
  {
   "cell_type": "code",
   "execution_count": null,
   "metadata": {},
   "outputs": [],
   "source": [
    "def encode(s):\n",
    "    # your code here\n",
    "    \n",
    "# Test cases\n",
    "print(encode(\"abc\"))"
   ]
  },
  {
   "cell_type": "markdown",
   "metadata": {},
   "source": [
    "6. __Challenge__ (hard, optional): write a decode function that decodes a string like \"1-2-3\" back into \"abc\"."
   ]
  },
  {
   "cell_type": "code",
   "execution_count": null,
   "metadata": {},
   "outputs": [],
   "source": [
    "def decode(s):\n",
    "    # your code here\n",
    "    \n",
    "# Test cases\n",
    "print(decode(\"1-2-3\"))"
   ]
  },
  {
   "cell_type": "markdown",
   "metadata": {},
   "source": [
    "## Building a pig-latin translator\n",
    "\n",
    "[Pig Latin](https://en.wikipedia.org/wiki/Pig_Latin) is a language game played by children that lets them communicate in a simple \"code.\"  English words\n",
    "are altered as follows:\n",
    "\n",
    "- If a word begins with one or more consonants, the initial consonants are moved to the end of the word, and the suffix \"ay\" is attached.  For example, the word \"computer\" in Pig Latin becomes \"computercay\" and the word \"paper\" becomes \"aperpay.\"  The word \"professor\" (beginning with two consonants) becomes \"ofessorpray\" and the word \"string\" (three initial consonants) becomes \"ingstray.\"\n",
    "\n",
    "\n",
    "- If a word begins with a vowel, the suffix \"way\" is attached (but no letters change positions).  For example,\n",
    "the word \"apple\" becomes \"appleway\" and the word \"igloo\" becomes \"iglooway.\""
   ]
  },
  {
   "cell_type": "markdown",
   "metadata": {},
   "source": [
    "1. Write a simplified Pig Latin function that assumes the word starts with just one consonant or just one vowel.  \n",
    "This function should test whether the initial character is a consonant or vowel, move the initial consonant to the\n",
    "end if necessary, and attach the appropriate suffix.  \n",
    "\n",
    "    Hint: This can be done with an `if` statement and then creating a new string using string slicing and string concatenation.\n",
    "    \n",
    "    You may assume the string has only lowercase letters."
   ]
  },
  {
   "cell_type": "code",
   "execution_count": null,
   "metadata": {},
   "outputs": [],
   "source": [
    "# First attempt at pig latin translator.  This will not handle words that begin with \n",
    "# multiple consonants in a row.\n",
    "\n",
    "def pig_latin(word):\n",
    "    # your code here\n",
    "    \n",
    "# Test cases\n",
    "print(pig_latin(\"computer\"))\n",
    "print(pig_latin(\"paper\"))\n",
    "print(pig_latin(\"apple\"))\n",
    "print(pig_latin(\"igloo\"))"
   ]
  },
  {
   "cell_type": "markdown",
   "metadata": {},
   "source": [
    "2. In order to handle words beginning with multiple consonants, we will write a function to detect\n",
    "the first vowel in a word.\n",
    "\n",
    "    Write a function called `first_vowel` that returns the **index** of the first vowel in a string.\n",
    "    \n",
    "    Guide:  Make a standard `for` loop over the word, examining\n",
    " every character.  Stop the loop when you find the\n",
    " first character that is a vowel.  Return the position\n",
    " of that character."
   ]
  },
  {
   "cell_type": "code",
   "execution_count": null,
   "metadata": {},
   "outputs": [],
   "source": [
    "def first_vowel(word):\n",
    "    # your code here\n",
    "    \n",
    "# Test cases\n",
    "print(first_vowel(\"computer\"))  # should return 1\n",
    "print(first_vowel(\"paper\"))     # should return 1\n",
    "print(first_vowel(\"professor\")) # should return 2\n",
    "print(first_vowel(\"string\"))    # should return 3\n",
    "print(first_vowel(\"apple\"))     # should return 0\n",
    "print(first_vowel(\"igloo\"))     # should return 0"
   ]
  },
  {
   "cell_type": "markdown",
   "metadata": {},
   "source": [
    "3. Now write a better Pig Latin function that handles words that begin with multiple consonants.\n",
    "\n",
    "    Hint: Start with your initial pig latin function from earlier, but modify the consonant section to \n",
    "    call your `first_vowel` function and capture the return value.  Use the return value variable as\n",
    "    part of  two string slices to divide the string into the initial consonant section and everything after.\n",
    "    Then use string concatenation to attach the slices together in the right order, and attach the \"ay\" suffix."
   ]
  },
  {
   "cell_type": "code",
   "execution_count": null,
   "metadata": {},
   "outputs": [],
   "source": [
    "# Second attempt at pig latin translator.  This should handle words that begin with \n",
    "# multiple consonants in a row.\n",
    "\n",
    "def pig_latin(word):\n",
    "    # your code here\n",
    "    \n",
    "# Test cases\n",
    "print(pig_latin(\"computer\"))\n",
    "print(pig_latin(\"paper\"))\n",
    "print(pig_latin(\"apple\"))\n",
    "print(pig_latin(\"igloo\"))\n",
    "print(pig_latin(\"professor\"))\n",
    "print(pig_latin(\"string\"))"
   ]
  },
  {
   "cell_type": "markdown",
   "metadata": {},
   "source": [
    "The function below is already written for you; it translates an entire **sentence** into pig latin\n",
    "using your `pig_latin` function.  You can try it out when you get step 3 above working:\n",
    "\n"
   ]
  },
  {
   "cell_type": "code",
   "execution_count": null,
   "metadata": {},
   "outputs": [],
   "source": [
    "def piglatin_sentence(sentence):\n",
    "    words = sentence.split(\" \")\n",
    "    new_sentence = \"\"\n",
    "    for idx in range(0, len(words)):\n",
    "        word = words[idx]\n",
    "        pigword = pig_latin(word)\n",
    "        new_sentence += pigword\n",
    "        new_sentence += \" \"\n",
    "    return new_sentence\n",
    "\n",
    "# Test cases\n",
    "print(piglatin_sentence(\"it was the best of times it was the worst of times\"))\n",
    "print(piglatin_sentence(\"call me ishmael\"))\n",
    "print(piglatin_sentence(\"it was a bright cold day in april and the clocks were striking thirteen\"))\n",
    "print(piglatin_sentence(\"as gregor samsa awoke one morning from uneasy dreams he found himself transformed in his bed into a gigantic insect\"))"
   ]
  },
  {
   "cell_type": "code",
   "execution_count": null,
   "metadata": {},
   "outputs": [],
   "source": []
  },
  {
   "cell_type": "markdown",
   "metadata": {},
   "source": [
    "## Feedback Questions \n",
    "\n",
    "Answer the following questions in the cell below.\n",
    "1. Are there any particular questions from this lab that you'd like to go over in class?\n",
    "2. Any comments/questions/concerns about any material we've gone over so far?"
   ]
  },
  {
   "cell_type": "markdown",
   "metadata": {},
   "source": [
    "Answer here: (double click to edit)"
   ]
  },
  {
   "cell_type": "markdown",
   "metadata": {},
   "source": [
    "### Submitting\n",
    "\n",
    "Run the following cell to submit. You can submit as many times as you like. Make sure that you click the link returned to you by okpy to verify that your notebook was uploaded correctly."
   ]
  },
  {
   "cell_type": "code",
   "execution_count": null,
   "metadata": {},
   "outputs": [],
   "source": [
    "# Run this cell to submit.\n",
    "# Submit as frequently as you like; I will only grade the last submission.\n",
    "from cs1.notebooks import *\n",
    "ok_submit('lab06.ok')"
   ]
  },
  {
   "cell_type": "code",
   "execution_count": null,
   "metadata": {},
   "outputs": [],
   "source": []
  }
 ],
 "metadata": {
  "kernelspec": {
   "display_name": "Python 3 (ipykernel)",
   "language": "python",
   "name": "python3"
  },
  "language_info": {
   "codemirror_mode": {
    "name": "ipython",
    "version": 3
   },
   "file_extension": ".py",
   "mimetype": "text/x-python",
   "name": "python",
   "nbconvert_exporter": "python",
   "pygments_lexer": "ipython3",
   "version": "3.9.7"
  },
  "varInspector": {
   "cols": {
    "lenName": 16,
    "lenType": 16,
    "lenVar": 40
   },
   "kernels_config": {
    "python": {
     "delete_cmd_postfix": "",
     "delete_cmd_prefix": "del ",
     "library": "var_list.py",
     "varRefreshCmd": "print(var_dic_list())"
    },
    "r": {
     "delete_cmd_postfix": ") ",
     "delete_cmd_prefix": "rm(",
     "library": "var_list.r",
     "varRefreshCmd": "cat(var_dic_list()) "
    }
   },
   "types_to_exclude": [
    "module",
    "function",
    "builtin_function_or_method",
    "instance",
    "_Feature"
   ],
   "window_display": false
  }
 },
 "nbformat": 4,
 "nbformat_minor": 2
}
