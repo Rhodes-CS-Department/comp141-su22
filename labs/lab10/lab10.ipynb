{
 "cells": [
  {
   "cell_type": "markdown",
   "metadata": {},
   "source": [
    "# Lab 10: Dictionaries \n",
    "\n",
    "A lot of this lab is explanation. It will take your through examples of code using dictionaries. Be sure to run the example code to understand how it works. You will need to write code to fix a KeyError in the letter frequency code, complete the word_count function in the Word Count section, and complete the main function in the Caesar cipher section. There is also an optional challenge question at the end."
   ]
  },
  {
   "cell_type": "markdown",
   "metadata": {},
   "source": [
    "The file `data/airports100.csv` contains a list of the first 100 three-letter airport codes. Open the file and take a look at the data. We can see that it has a header describing the columns in the file, followed by data for each airport, one airport per line:\n",
    "\n",
    "```\n",
    "City,AirportCode,AirportName,Country,CountryAbbrev\n",
    "Aberdeen,APG,Phillips AAF,United States,US\n",
    "Aberdeen,ABR,Municipal,United States,US\n",
    "Abilene,DYS,Dyess AFB,United States,US\n",
    "Abilene,ABI,Municipal,United States,US\n",
    "Abingdon,VJI,Virginia Highlands,United States,US\n",
    "Ada,ADT,Ada,United States,US\n",
    "Adak Island,ADK,Adak Island Ns,United States,US\n",
    "Adrian,ADG,Lenawee County,United States,US\n",
    "Afton,AFO,Municipal,United States,US\n",
    "```\n",
    "\n",
    "We will create a dictionary that maps airport code to the name of the airport."
   ]
  },
  {
   "cell_type": "code",
   "execution_count": null,
   "metadata": {},
   "outputs": [],
   "source": [
    "#When you run this cell, \"nothing\" will happen, but it needs to be run, so that the next few cells can produce output\n",
    "def read_airport_file(filename):\n",
    "    file = open(filename, 'r')\n",
    "    line = file.readline()\n",
    "    airports = {}\n",
    "    for line in file:\n",
    "        fields = line.split(',')\n",
    "        code = fields[1]\n",
    "        name = fields[2]\n",
    "        airports[code] = name\n",
    "    return airports\n",
    "\n",
    "codes_map = read_airport_file('data/airports100.csv')"
   ]
  },
  {
   "cell_type": "markdown",
   "metadata": {},
   "source": [
    "We can use the `in` keyword to see if a key is in a dictionary.\n",
    "\n",
    "For example, what is the result of `'ORD' in codes_map`? `'AKC' in codes_map`?\n",
    "\n",
    "What happens when you do `codes_map['ORD']`? `codes_map['AKC']`?"
   ]
  },
  {
   "cell_type": "code",
   "execution_count": null,
   "metadata": {},
   "outputs": [],
   "source": [
    "codes_map['AKC']"
   ]
  },
  {
   "cell_type": "markdown",
   "metadata": {},
   "source": [
    "Dictionaries have a `keys()` function that returns a list of keys in the dictionary. What is `codes_map.keys()`?"
   ]
  },
  {
   "cell_type": "code",
   "execution_count": null,
   "metadata": {},
   "outputs": [],
   "source": [
    "codes_map.keys()"
   ]
  },
  {
   "cell_type": "markdown",
   "metadata": {},
   "source": [
    "The `for` loop also treats dictionaries in a special way. If the `for` loop uses `in` with a dictionary, each iteration of the for loop will have the loop variable be a key in the dictionary (not necessarily in order!).\n",
    "\n",
    "Try:\n",
    "```\n",
    "for code in codes_map:\n",
    "  print(codes_map[code])\n",
    "```\n",
    "\n",
    "Now modify the loop to print the code, a colon, and then the airport name.\n",
    "\n",
    "```\n",
    "APG : Phillips AAF\n",
    "ABR : Municipal\n",
    "DYS : Dyess AFB\n",
    "ABI : Municipal\n",
    "VJI : Virginia Highlands\n",
    "ADT : Ada\n",
    "...\n",
    "```"
   ]
  },
  {
   "cell_type": "code",
   "execution_count": null,
   "metadata": {},
   "outputs": [],
   "source": [
    "for code in codes_map:\n",
    "    print(code, ':', codes_map[code])"
   ]
  },
  {
   "cell_type": "markdown",
   "metadata": {},
   "source": [
    "A common use of dictionaries are to generate histograms, or counts of occurrences of something. Let's count the occurrences of letters in a name.\n",
    "\n",
    "To start, run the cell below. Note how you can index into strings just like lists. The following code declares a variables with my name, converts it to lower case, and then prints each letter."
   ]
  },
  {
   "cell_type": "code",
   "execution_count": null,
   "metadata": {},
   "outputs": [],
   "source": [
    "name = 'Catherine Elizabeth Welsh'\n",
    "name = name.lower()\n",
    "for i in range(len(name)):\n",
    "    letter = name[i]\n",
    "    print(letter, end=' ')"
   ]
  },
  {
   "cell_type": "markdown",
   "metadata": {},
   "source": [
    "Now we will use a dictionary to keep track of the frequencies of letters. The frequencies dictionary will map a letter to an integer count. Here's a first try:"
   ]
  },
  {
   "cell_type": "code",
   "execution_count": null,
   "metadata": {},
   "outputs": [],
   "source": [
    "name = 'Catherine Elizabeth Welsh'\n",
    "name = name.lower()\n",
    "frequencies = {}\n",
    "for i in range(len(name)):\n",
    "    letter = name[i]\n",
    "    frequencies[letter] = frequencies[letter] + 1"
   ]
  },
  {
   "cell_type": "markdown",
   "metadata": {},
   "source": [
    "Note how the code had an error! The error was a `KeyError`, indicating that a key was not in the dictionary. When we try to read a key that doesn't exist, this is an error. Modify the code so that it first checks to see whether the key exists, and if it doesn't, gives it an initial value."
   ]
  },
  {
   "cell_type": "code",
   "execution_count": null,
   "metadata": {},
   "outputs": [],
   "source": [
    "#FIX THIS CODE!\n",
    "\n",
    "name = 'Catherine Elizabeth Welsh'\n",
    "name = name.lower()\n",
    "frequencies = {}\n",
    "for i in range(len(name)):\n",
    "    letter = name[i]\n",
    "    frequencies[letter] = frequencies[letter] + 1"
   ]
  },
  {
   "cell_type": "markdown",
   "metadata": {},
   "source": [
    "## Word Count\n",
    "\n",
    "In the following exercises, we'll write functions that will tell us the distributions of words in some classic western literature.\n",
    "\n",
    "If you look in the `data` folder, there are several `pg-` files. If you open one, you'll find it's an ebook downloaded from [Project Gutenberg](https://www.gutenberg.org/).\n",
    "\n",
    "Our goal will be to find the most frequently occurring words in a given text.\n",
    "\n",
    "First, we'll start off by introducing a function to clean up a word. This is similar to how we saw it in class, but uses a built-in function and will handle all punctuation. Words that we read from the files may have punctuation, or may be capitalized or not. The following function changes a word to lowercase and gets rid of all punctuation."
   ]
  },
  {
   "cell_type": "code",
   "execution_count": null,
   "metadata": {},
   "outputs": [],
   "source": [
    "from string import punctuation\n",
    "\n",
    "#This function removes punctuation and changes s to it's lowercase version\n",
    "#Parameters: s, a string\n",
    "#Returns: a cleaned up version of s\n",
    "def clean_string(s):\n",
    "    s = s.lower()\n",
    "    s = s.translate(str.maketrans('', '', punctuation))\n",
    "    return s\n",
    "\n",
    "clean = clean_string(',C(aT)_iE.')\n",
    "print(clean)"
   ]
  },
  {
   "cell_type": "markdown",
   "metadata": {},
   "source": [
    "Now, we'll write a function to read the file and create a dictionary that maps words to the count of occurrences of that word.\n",
    "\n",
    "We'll do this like we would reading any other file, line by line. However, for each line, we will need to split the line into individual words, we'll do this by splitting on whitespace.\n",
    "\n",
    "For an individual line, we can get a list of words on that line by calling:\n",
    "`words = line.split()`. `words` is a list of strings, one for each word.\n",
    "\n",
    "The entire algorithm will be:\n",
    "1. Create an empty dictionary.\n",
    "1. Open the file given by filename.\n",
    "1. Read the file, line by line.\n",
    "1. For each line:\n",
    "   1. Split the line into words.\n",
    "   1. For each word, add one to its entry in the dictionary."
   ]
  },
  {
   "cell_type": "code",
   "execution_count": null,
   "metadata": {},
   "outputs": [],
   "source": [
    "def word_count(filename):\n",
    "    word_counts = {}\n",
    "    file = open(filename, 'r')\n",
    "    # FINISH THIS CODE!\n",
    "  \n",
    "    return word_counts\n",
    "\n",
    "grimm_counts = word_count('data/pg-grimm.txt')\n",
    "print(grimm_counts['princess']) # prints 101\n",
    "print(grimm_counts['prince']) # prints 63"
   ]
  },
  {
   "cell_type": "code",
   "execution_count": null,
   "metadata": {},
   "outputs": [],
   "source": [
    "holmes_counts = word_count('data/pg-sherlock_holmes.txt')\n",
    "print(holmes_counts['sherlock']) # prints 102\n",
    "print(holmes_counts['holmes']) # prints 463"
   ]
  },
  {
   "cell_type": "markdown",
   "metadata": {},
   "source": [
    "## Caesar Cipher\n",
    "A Caesar Cipher is a type of substitution cipher in which each letter in the plaintext is replaced by a letter some fixed number of positions down the alphabet. This cipher are named after Julius Caesar, who used it in his private correspondence.\n",
    "\n",
    "### Example of a Caesar Cipher\n",
    "```\n",
    "Plain:  ABCDEFGHIJKLMNOPQRSTUVWXYZ \n",
    "Cipher: XYZABCDEFGHIJKLMNOPQRSTUVW\n",
    "```\n",
    "* Transformation can be represented by aligning two alphabets.\n",
    "* This one uses a left rotation of three places, equivalent to a right shift of 23\n",
    "\n",
    "### Encrypting of a Message\n",
    "```\n",
    "Ciphertext: QEB NRFZH YOLTK CLU GRJMP LSBO QEB IXWV ALD\n",
    "Plaintext:  the quick brown fox jumps over the lazy dog\n",
    "```\n",
    "* Look up each letter of the message in the \"plain\" line and write down the corresponding letter in the \"cipher\" line.\n",
    "* The encryption can also be represented using modular arithmetic\n",
    "* Transform the letters into numbers, according to the scheme, A = 0, B = 1,..., Z = 25. \n",
    "* Encryption of a letter by a shift $n$ can be described mathematically as,\n",
    "$𝐸_𝑛(𝑥)=(𝑥+𝑛)\\ \\%\\ 26$\n",
    "* In the above equation, $x$ is the index of the letter in the original alphabet"
   ]
  },
  {
   "cell_type": "code",
   "execution_count": null,
   "metadata": {},
   "outputs": [],
   "source": [
    "# This function encrypts a text message by shifting all letters by n\n",
    "# Parameters: text - a string, n - an integer between 0 and 26\n",
    "# Returns: cipher - the encrypted message\n",
    "def encode(text, n):\n",
    "    text = text.lower()\n",
    "    alphabet = 'abcdefghijklmnopqrstuvwxyz'\n",
    "  \n",
    "    cipher = ''\n",
    "    for i in range(0, len(text)):\n",
    "        ch = text[i]\n",
    "        if ch in alphabet:\n",
    "            cipher += alphabet[(alphabet.index(ch) + n) % 26]\n",
    "        else:\n",
    "            cipher += ch\n",
    "    return cipher\n",
    "\n",
    "encode(\"the quick brown fox jumps over the lazy dog\", 3)"
   ]
  },
  {
   "cell_type": "markdown",
   "metadata": {},
   "source": [
    "### Decrypting of a message\n",
    "* Opposite process of encryption\n",
    "* Look up each letter of the message in the \"cipher\" line and write down the corresponding letter in the \"plain\" line.\n",
    "* Can also use modular arithmetic to solve $D_𝑛(𝑥)=(𝑥−𝑛)\\ \\%\\ 26$"
   ]
  },
  {
   "cell_type": "code",
   "execution_count": null,
   "metadata": {},
   "outputs": [],
   "source": [
    "def decode(cipher, n):\n",
    "    cipher = cipher.lower()\n",
    "    alphabet = 'abcdefghijklmnopqrstuvwxyz'\n",
    "  \n",
    "    text = ''\n",
    "    for i in range(0, len(cipher)):\n",
    "        ch = cipher[i]\n",
    "        if ch in alphabet:\n",
    "            text += alphabet[(alphabet.index(ch) - n) % 26]\n",
    "        else:\n",
    "            text += ch\n",
    "    return text\n",
    "\n",
    "decode('wkh txlfn eurzq ira mxpsv ryhu wkh odcb grj', 3)"
   ]
  },
  {
   "cell_type": "markdown",
   "metadata": {},
   "source": [
    "### Breaking the Code\n",
    "If you were not the intended recipient of the message, you wouldn't be told the shift ($n$).\n",
    "\n",
    "To determine what $n$ is:\n",
    "1. Analyze the frequency of each character in the encrypted message\n",
    "2. Since 'E' is the most common letter used in English, you should find the shift from E to the most common letter in the message\n"
   ]
  },
  {
   "cell_type": "markdown",
   "metadata": {},
   "source": [
    "__What you need to do__:\n",
    "* Write a Caesar cipher program to decode the message in cipherText.txt\n",
    "* You will need to read in the file (you can read it in all as 1 line if you’d like).\n",
    "* Get the frequency count for each letter (don't include spaces).\n",
    "* Find the shift between the max letter and 'e'\n",
    "* Use the shift to decode the message\n"
   ]
  },
  {
   "cell_type": "code",
   "execution_count": null,
   "metadata": {},
   "outputs": [],
   "source": [
    "def decode(cipher, n):\n",
    "    cipher = cipher.lower()\n",
    "    alphabet = 'abcdefghijklmnopqrstuvwxyz'\n",
    "  \n",
    "    text = ''\n",
    "    for i in range(0, len(cipher)):\n",
    "        ch = cipher[i]\n",
    "        if ch in alphabet:\n",
    "            text += alphabet[(alphabet.index(ch) - n) % 26]\n",
    "        else:\n",
    "            text += ch\n",
    "    return text\n",
    "\n",
    "def main():\n",
    "\n",
    "    file = open('data/cipherText.txt', 'r')\n",
    "    ##YOUR CODE GOES HERE  \n",
    "  \n",
    "  \n",
    "main()"
   ]
  },
  {
   "cell_type": "markdown",
   "metadata": {},
   "source": [
    "__Challenge:__(optional) Write a function that takes two dictionaries d1 and d2 and returns a dictionary of word counts (key = word, value = count), but only for words in d1 but _not_ in d2."
   ]
  },
  {
   "cell_type": "code",
   "execution_count": null,
   "metadata": {},
   "outputs": [],
   "source": [
    "def unique(d1, d2):\n",
    "    counts = {}\n",
    "    # finish me!\n",
    "    return counts"
   ]
  },
  {
   "cell_type": "markdown",
   "metadata": {},
   "source": [
    "## Feedback Questions \n",
    "\n",
    "Answer the following questions in the cell below.\n",
    "1. Are there any particular questions from this lab that you'd like to go over in class?\n",
    "2. Any comments/questions/concerns about any material we've gone over so far?"
   ]
  },
  {
   "cell_type": "markdown",
   "metadata": {},
   "source": [
    "Answer here: "
   ]
  },
  {
   "cell_type": "markdown",
   "metadata": {},
   "source": [
    "### Submitting\n",
    "\n",
    "Run the following cell to submit. You can submit as many times as you like. Make sure that you click the link returned to you by okpy to verify that your notebook was uploaded correctly."
   ]
  },
  {
   "cell_type": "code",
   "execution_count": null,
   "metadata": {},
   "outputs": [],
   "source": [
    "# Run this cell to submit.\n",
    "# Submit as frequently as you like; I will only grade the last submission.\n",
    "from cs1.notebooks import *\n",
    "ok_submit('lab10.ok')"
   ]
  },
  {
   "cell_type": "code",
   "execution_count": null,
   "metadata": {},
   "outputs": [],
   "source": []
  }
 ],
 "metadata": {
  "kernelspec": {
   "display_name": "Python 3 (ipykernel)",
   "language": "python",
   "name": "python3"
  },
  "language_info": {
   "codemirror_mode": {
    "name": "ipython",
    "version": 3
   },
   "file_extension": ".py",
   "mimetype": "text/x-python",
   "name": "python",
   "nbconvert_exporter": "python",
   "pygments_lexer": "ipython3",
   "version": "3.9.7"
  },
  "varInspector": {
   "cols": {
    "lenName": 16,
    "lenType": 16,
    "lenVar": 40
   },
   "kernels_config": {
    "python": {
     "delete_cmd_postfix": "",
     "delete_cmd_prefix": "del ",
     "library": "var_list.py",
     "varRefreshCmd": "print(var_dic_list())"
    },
    "r": {
     "delete_cmd_postfix": ") ",
     "delete_cmd_prefix": "rm(",
     "library": "var_list.r",
     "varRefreshCmd": "cat(var_dic_list()) "
    }
   },
   "types_to_exclude": [
    "module",
    "function",
    "builtin_function_or_method",
    "instance",
    "_Feature"
   ],
   "window_display": false
  }
 },
 "nbformat": 4,
 "nbformat_minor": 2
}
