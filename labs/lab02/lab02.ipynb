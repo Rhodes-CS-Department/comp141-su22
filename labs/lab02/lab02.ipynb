{
 "cells": [
  {
   "cell_type": "markdown",
   "metadata": {
    "deletable": false,
    "editable": false,
    "run_control": {
     "frozen": true
    }
   },
   "source": [
    "# Lab 02: Graphics, Functions, and Local Variables\n",
    "\n",
    "In this lab you're going to work through a step-by-step way to put together a fully working program with functions.\n",
    "We'll start off by writing our code just in `main()`, and then move the correct pieces to a function. You'll modify the function to take in various parameters, so that the drawing that the function produces can be fully customized."
   ]
  },
  {
   "cell_type": "markdown",
   "metadata": {},
   "source": [
    "__You should work with a partner on this lab. If you do so, please turn in 1 copy/group, and put your partner's name in the cell below.__"
   ]
  },
  {
   "cell_type": "code",
   "execution_count": null,
   "metadata": {},
   "outputs": [],
   "source": [
    "#Partner's name here"
   ]
  },
  {
   "attachments": {
    "target.png": {
     "image/png": "[encoded data removed]"
    }
   },
   "cell_type": "markdown",
   "metadata": {
    "deletable": false,
    "editable": false,
    "run_control": {
     "frozen": true
    }
   },
   "source": [
    "## Step 1\n",
    "Create a program to draw a bullseye (looks like the Target logo) on the screen.\n",
    "![target.png](attachment:target.png)\n",
    "\n",
    "\n",
    "First, the program below already defines a `main()` function that opens a canvas of size 500 x 500 and draws one circle\n",
    "using `draw_filled_circle` at (250, 250) with a radius of 50. (Run this prgram just to make sure your graphics are working correctly.)\n",
    "\n",
    "Then, modify `main()` so it draws five concentric circles using the `draw_filled_circle`\n",
    "function. The circles should have radii of 10, 20, 30, 40, and 50, and should alternate colors\n",
    "(use `set_color`) so you get a bullseye effect (see the picture above).\n",
    "\n",
    "__Hint:__ the circles must be drawn in a certain order.\n"
   ]
  },
  {
   "cell_type": "code",
   "execution_count": null,
   "metadata": {
    "code_folding": []
   },
   "outputs": [],
   "source": [
    "# Be sure the following import statement is at the top of all the code you write today.\n",
    "# It allows you to call the functions in the cs1.graphics library.\n",
    "from cs1.graphics import *\n",
    "\n",
    "def main():\n",
    "    open_canvas(500, 500)\n",
    "    \n",
    "    # This sets the drawing color.\n",
    "    set_color(\"red\")\n",
    "    \n",
    "    # This draws a circle of radius 50 at the point 250, 250.\n",
    "    draw_filled_circle(250, 250, 50)\n",
    "\n",
    "\n",
    "main()"
   ]
  },
  {
   "cell_type": "markdown",
   "metadata": {
    "deletable": false,
    "editable": false,
    "run_control": {
     "frozen": true
    }
   },
   "source": [
    "## Step 2\n",
    "* Define a function called `draw_bullseye` that takes two parameters that will represent the x and y-coordinates of the center of the bullseye. Add code to the body of `draw_bullseye` so that when called, it draws a bullseye at the (x, y) location specified by the parameters. \n",
    "* Then, edit your `main()` function to call `draw_bullseye()` twice with two different sets of (x, y) locations (pick any\n",
    "coordinates you’d like). The effect should be that your program should draw the bullseye twice at\n",
    "different locations on the canvas.\n",
    "\n",
    "__Hints:__\n",
    "*  Your function definition line will look like this:\n",
    "`def draw_bullseye(x, y):`\n",
    "* You should keep the `open_canvas()` function call in `main()` because you only want that to happen once in the whole program, not once for every bullseye.\n",
    "* When you’re done, there should not be any circle-drawing function calls inside `main()` anymore; they should only be inside of `draw_bullseye()`. All `main()` should do is open a canvas and call `draw_bullseye()` twice with different arguments."
   ]
  },
  {
   "cell_type": "code",
   "execution_count": null,
   "metadata": {},
   "outputs": [],
   "source": [
    "# Copy your code from Step 1 to here and modify it as specified.\n",
    "\n"
   ]
  },
  {
   "cell_type": "markdown",
   "metadata": {
    "deletable": false,
    "editable": false,
    "run_control": {
     "frozen": true
    }
   },
   "source": [
    "## Step 3\n",
    "\n",
    "* Modify your `draw_bullseye()` function so it takes a third and fourth parameter. Call these parameters `color1` and `color2`. These parameters will be strings, and will allow the caller of the bullseye function to choose two alternating colors for the bullseye. \n",
    "* Modify the code in the bullseye function to use the `color1` and `color2` parameter variables rather than the fixed colors you picked earlier.\n",
    "* For instance, if the user wanted a bullseye centered at (100, 100) colored red and black, they\n",
    "should be able to call the function like this: `draw_bullseye(100, 100, \"red\", \"black\")`\n",
    "* Once you make this change to the definition of `draw_bullseye`, make sure you also change the\n",
    "calls to `draw_bullseye` in `main` to reflect the additional arguments.\n",
    "\n",
    "__Hint:__\n",
    "\n",
    "* Your function definition line will now look like this: `def draw_bullseye(x, y, color1, color2):`"
   ]
  },
  {
   "cell_type": "code",
   "execution_count": null,
   "metadata": {},
   "outputs": [],
   "source": [
    "# Copy your code from Step 2 here and modify it as specified.\n",
    "\n"
   ]
  },
  {
   "cell_type": "markdown",
   "metadata": {
    "deletable": false,
    "editable": false,
    "run_control": {
     "frozen": true
    }
   },
   "source": [
    "## Step 4\n",
    "\n",
    "Modify your `main()` function so the user can enter --- from the keyboard --- the (x, y) coordinates of the\n",
    "center of the bullseye, and the colors they want to use for it.\n",
    "\n",
    "This will require four separate input statements: one for `x`, one for `y`, and two for the colors.\n",
    "\n",
    "Then, have your `main()` function use the values that the user types in to draw a bullseye at the user-specified (x, y) coordinates and in the user-specified colors.\n",
    "\n",
    "**Note: The input statements should not go inside the bullseye function; they should go inside\n",
    "the `main()` function, and the information typed in should be passed as arguments to the\n",
    "bullseye function.** \n",
    "\n",
    "**Optional mini-challenge**: \n",
    "Without adding any additional input statements other than the original four, can you draw a second bullseye offset 100 pixels to the right and 100 pixels down from the first one?  Can you make it appear in the same colors as the first one, but in reverse order? \n",
    "(So if the first bullseye was red-black-red-black-red, the second should be black-red-black-red-black.)"
   ]
  },
  {
   "cell_type": "code",
   "execution_count": null,
   "metadata": {},
   "outputs": [],
   "source": [
    "# Copy your code from Step 3 here and modify it as specified.\n",
    "\n"
   ]
  },
  {
   "cell_type": "markdown",
   "metadata": {
    "deletable": false,
    "editable": false,
    "run_control": {
     "frozen": true
    }
   },
   "source": [
    "## Step 5\n",
    "\n",
    "Modify your bullseye function definition to take a fifth argument, the radius of the bullseye. You’ll\n",
    "need to do some math to figure out what the radii of the nested circles should be changed to. Don’t\n",
    "forget to modify the function call(s) in `main` to add in the fifth parameter (try different radii so you\n",
    "know the bullseye scales up and down in size)."
   ]
  },
  {
   "cell_type": "code",
   "execution_count": null,
   "metadata": {},
   "outputs": [],
   "source": [
    "# Copy your code from Step 4 here and modify it as specified.\n",
    "\n"
   ]
  },
  {
   "attachments": {
    "mickeyMouse.png": {
     "image/png": "[encoded data removed]"
    }
   },
   "cell_type": "markdown",
   "metadata": {
    "deletable": false,
    "editable": false,
    "run_control": {
     "frozen": true
    }
   },
   "source": [
    "## Step 6\n",
    "\n",
    "Modify your `main` function so three bullseyes are drawn after the user inputs the four variables. The first bullseye should be drawn as in step 4 (based off the inputs the user supplies), but the second and third bullseyes should be offset slightly so as to create the pattern to the right (which sort of looks like Mickey Mouse ears). The point of this problem is that if the user types in different (x, y) coordinates, all three bullseyes should shift locations on the canvas so the final drawing always\n",
    "looks like the one below.\n",
    "![mickeyMouse.png](attachment:mickeyMouse.png)"
   ]
  },
  {
   "cell_type": "code",
   "execution_count": null,
   "metadata": {},
   "outputs": [],
   "source": [
    "# Copy your code from Step 5 here and modify it as specified.\n",
    "\n"
   ]
  },
  {
   "cell_type": "markdown",
   "metadata": {
    "deletable": false,
    "editable": false,
    "run_control": {
     "frozen": true
    }
   },
   "source": [
    "#### Challenge Questions\n",
    "These are optional and not required for full credit.  Here are some ideas for changes you can make to your current program.\n",
    "\n",
    "1. Write a function called `draw_square(x, y, side)` that takes as arguments the (x, y) coordinates of the center of a square and the length of a side, and draws an appropriately-sized and positioned square on the canvas.  You should use `draw_line`, `draw_polyline`, or `draw_rect`. Remember: `x` and `y` should be the center of the square, not a corner.\n",
    "\n",
    "2. Write a function called `draw_nested_squares` that acts just like `draw_bullseye`, but the effect is a set of nested squares, rather than nested circles. This is more mathematically challenging. You can use `draw_filled_rect` for this.\n"
   ]
  },
  {
   "cell_type": "code",
   "execution_count": null,
   "metadata": {},
   "outputs": [],
   "source": [
    "# Challenge problems.\n",
    "\n"
   ]
  },
  {
   "cell_type": "markdown",
   "metadata": {
    "deletable": false,
    "editable": false,
    "run_control": {
     "frozen": true
    }
   },
   "source": [
    "## Feedback Questions\n",
    "\n",
    "Please answer the following questions in the cell below.\n",
    "1. Are there any particular steps you would like to go over in class?\n",
    "2. About how long did this lab take you to complete?"
   ]
  },
  {
   "cell_type": "markdown",
   "metadata": {},
   "source": [
    " Answers to feedback:  (double click this cell to edit it)\n",
    " \n",
    " 1.\n",
    " \n",
    " 2.\n",
    " \n",
    " "
   ]
  },
  {
   "cell_type": "markdown",
   "metadata": {
    "deletable": false,
    "editable": false
   },
   "source": [
    "## Turn it in!\n",
    "When you're done with the lab, run the following cell to turn in your lab.\n"
   ]
  },
  {
   "cell_type": "code",
   "execution_count": null,
   "metadata": {
    "deletable": false,
    "editable": false
   },
   "outputs": [],
   "source": [
    "# Run this cell to log in to okpy.org, and submit your lab.\n",
    "from cs1.notebooks import *\n",
    "ok_submit('lab02.ok')"
   ]
  },
  {
   "cell_type": "code",
   "execution_count": null,
   "metadata": {},
   "outputs": [],
   "source": []
  }
 ],
 "metadata": {
  "kernelspec": {
   "display_name": "Python 3 (ipykernel)",
   "language": "python",
   "name": "python3"
  },
  "language_info": {
   "codemirror_mode": {
    "name": "ipython",
    "version": 3
   },
   "file_extension": ".py",
   "mimetype": "text/x-python",
   "name": "python",
   "nbconvert_exporter": "python",
   "pygments_lexer": "ipython3",
   "version": "3.9.6"
  },
  "varInspector": {
   "cols": {
    "lenName": 16,
    "lenType": 16,
    "lenVar": 40
   },
   "kernels_config": {
    "python": {
     "delete_cmd_postfix": "",
     "delete_cmd_prefix": "del ",
     "library": "var_list.py",
     "varRefreshCmd": "print(var_dic_list())"
    },
    "r": {
     "delete_cmd_postfix": ") ",
     "delete_cmd_prefix": "rm(",
     "library": "var_list.r",
     "varRefreshCmd": "cat(var_dic_list()) "
    }
   },
   "types_to_exclude": [
    "module",
    "function",
    "builtin_function_or_method",
    "instance",
    "_Feature"
   ],
   "window_display": false
  }
 },
 "nbformat": 4,
 "nbformat_minor": 2
}
