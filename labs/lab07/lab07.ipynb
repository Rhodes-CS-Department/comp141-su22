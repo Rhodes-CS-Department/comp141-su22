{
 "cells": [
  {
   "cell_type": "markdown",
   "metadata": {},
   "source": [
    "<img src=\"pirate.png\" align=\"right\" style=\"height:300px;\">\n",
    "\n",
    "# Lab 7: Talk Like a Pirate\n",
    "\n",
    "\n",
    "\n",
    "[International Talk Like a Pirate Day](https://en.wikipedia.org/wiki/International_Talk_Like_a_Pirate_Day) happens every year on September 19. Unfortunately, we missed it by a few months,\n",
    "but now we know enough Python to write a program to translate normal English sentences into Pirate-language.\n",
    "\n",
    "---\n",
    "\n",
    "Remember that your lab grades are effort-based. Please attempt each problem, but it's okay if you can't get them all to work. This lab is designed to help you practice the parallel lists idea, which will be key for Program 8. "
   ]
  },
  {
   "cell_type": "markdown",
   "metadata": {},
   "source": [
    "1. Open the file called `pirate-dictionary.txt` in this notebook folder. On each line of this file, there is an English word, then a slash, and then the translated word as a pirate would say it. Feel free to add some more english/pirate pairs to this file if you'd like.\n",
    "\n",
    "\n",
    "2. Write a program that opens and reads this file. You should store the English words into one list and the pirate\n",
    "words into a different list. So at the end of your code, you should be able to do:\n",
    "```\n",
    "print(english_words)\n",
    "print(pirate_words)\n",
    "```\n",
    "and Python should print back:\n",
    "```\n",
    "['beer', 'want', 'hello', 'my', 'friend']\n",
    "['grog', \"be needin'\", 'ahoy', 'me', 'matey']\n",
    "```"
   ]
  },
  {
   "cell_type": "code",
   "execution_count": null,
   "metadata": {},
   "outputs": [],
   "source": []
  },
  {
   "cell_type": "markdown",
   "metadata": {},
   "source": [
    "3. Write a function called `translate_word`. This function takes three arguments: a single word (a string), the\n",
    "English words (a list of strings), and the pirate words (a list of strings). This function should return the correct\n",
    "pirate translation of the single word argument. If the single word argument is not translatable (it’s not in the list\n",
    "of English words), return the word unchanged.\n",
    "\n",
    "The high-level algorithm is to find at what position, if any, the word appears at in `english_words`, and then to either return the word unchanged (if it does not appear), or return the corresponding word from pirate_words.  You can see the guide below for more direction if necessary.\n",
    "\n",
    "**Examples**:\n",
    "\n",
    "`translate_word(\"beer\", english_words, pirate_words)` returns `\"grog\"`\n",
    "\n",
    "`translate_word(\"computer\", english_words, pirate_words)` returns `\"computer\"` (because there’s no\n",
    "translation for \"computer\" in Piratese)\n",
    "\n",
    "Edit your main program so it allows the user to type in one English word at a time and it will be translated to\n",
    "Pirate.\n",
    "\n",
    "**Guide**:\n",
    "\n",
    "\n",
    "- Make a loop over the `english_words` list, looking for whenever the current item in the list matches `e_word`.\n",
    "\n",
    "- When you find a match, return the corresponding item in `pirate_words`.\n",
    "\n",
    "- If you finish looping over the list of English words and don't find a match, return the English word unchanged.\n",
    "\n",
    "- Remember, these are parallel lists, so an index in one list also works in the other."
   ]
  },
  {
   "cell_type": "code",
   "execution_count": null,
   "metadata": {},
   "outputs": [],
   "source": [
    "# This function translates an English word (e_word) into Pirate language,\n",
    "# where english_words and pirate_words are parallel lists with corresponding\n",
    "# translations of English words and Pirate words.\n",
    "def translate_word(e_word, english_words, pirate_words):\n",
    "    # Write code here, or walk the plank!\n",
    "\n",
    "def main():\n",
    "    # Copy your main function from above, and modify it so it allows the user\n",
    "    # to type in one English word at a time, and that word will be translated\n",
    "    # into Pirate.  Shiver me timbers!\n",
    "    \n",
    "main()\n"
   ]
  },
  {
   "cell_type": "markdown",
   "metadata": {},
   "source": [
    "4. Write a function called `translate_sentence`. This function takes three arguments that are identical to\n",
    "`translate_word`, except the first argument is an entire English sentence represented as a list. This function should return the sentence translated into\n",
    "Pirate. It should do this by calling your `translate_word` function from earlier.\n",
    "\n",
    "Guide:\n",
    "\n",
    "- Make a loop over the words in `e_sentence`.  Call your `translate_word` function, passing the\n",
    "\"current English word\" as the first argument to the function, along with `english_words`\n",
    "and `pirate_words` as the other arguments.\n",
    "\n",
    "- Capture the return value in a variable: this is your Pirate word translation for the current English word.\n",
    "\n",
    "- Append the Pirate word to the `answer` list.  You will build up this list one word/item at a time.\n",
    "\n",
    "**Examples**:\n",
    "\n",
    "`translate_sentence(\"i want a beer\", english_words, pirate_words)` returns the list `[\"i\", \"be needin'\", \"a\", \"grog\"]`\n",
    "\n",
    "`translate_sentence(\"hello will you be my friend\", english_words, pirate_words)` returns the list `[ahoy\", \"will\", \"you\", \"be\", \"me\", \"matey\"]`\n",
    "\n",
    "\n",
    "**When you think your function works,** test it by editing your main program so it allows the user to type in an entire English sentence and it will be translated into\n",
    "Pirate.\n",
    "\n",
    "Note that you can use code like this to get an English sentence from the user\n",
    "and convert it to a list:\n",
    "```python\n",
    "sentence = input(\"Type in an English sentence: \")\n",
    "sentence_list = sentence.split(\" \")  # Turn a sentence into a list of strings.\n",
    "```"
   ]
  },
  {
   "cell_type": "code",
   "execution_count": null,
   "metadata": {},
   "outputs": [],
   "source": [
    "# This function translates an English sentence (e_sentence) into Pirate language,\n",
    "# where english_words and pirate_words are parallel lists with corresponding\n",
    "# translations of English words and Pirate words.\n",
    "def translate_sentence(e_sentence, english_words, pirate_words):\n",
    "    answer = []\n",
    "    \n",
    "    # Yo ho ho, you must write this code!\n",
    "    \n",
    "    return answer\n",
    "\n",
    "# Copy and paste your translate_word function and your main function from above.\n",
    "# Edit the main function so it allows the user to type in an entire English sentence\n",
    "# and it will be translated into Pirate.  It's ok if the Pirate translation\n",
    "# is still inside square brackets.\n",
    "\n",
    "# Note that you can use code like this to get an English sentence from the user\n",
    "# and convert it to a list:\n",
    "# sentence = input(\"Type in an English sentence: \")\n",
    "# sentence_list = sentence.split(\" \")"
   ]
  },
  {
   "cell_type": "markdown",
   "metadata": {},
   "source": [
    "__Challenges__ (optional): \n",
    "\n",
    "* Write code or a function to print out the Pirate translation as a string, rather than\n",
    "a list (so it's formatted nicely, without square brackets and without commas between the words).\n",
    "* Make your program work with uppercase and lowercase. \n",
    "* Make your program insert random Pirate\n",
    "exclamations from time to time, like “Yarrrrr!” \n",
    "* Make your program work with plural words correctly (translates\n",
    "“friends” to “mateys”).\n",
    "* Get inspiration from [this video](https://www.youtube.com/watch?v=fqMu6e5Dgtg)."
   ]
  },
  {
   "cell_type": "code",
   "execution_count": null,
   "metadata": {},
   "outputs": [],
   "source": []
  },
  {
   "cell_type": "markdown",
   "metadata": {},
   "source": [
    "## Feedback Questions \n",
    "\n",
    "Answer the following questions in the cell below.\n",
    "1. Are there any particular questions from this lab that you'd like to go over in class?\n",
    "2. Any comments/questions/concerns about any material we've gone over so far?"
   ]
  },
  {
   "cell_type": "markdown",
   "metadata": {},
   "source": [
    "Answer here (double click to fill in):"
   ]
  },
  {
   "cell_type": "markdown",
   "metadata": {},
   "source": [
    "### Submitting\n",
    "\n",
    "Run the following cell to submit. You can submit as many times as you like. Make sure that you click the link returned to you by okpy to verify that your notebook was uploaded correctly."
   ]
  },
  {
   "cell_type": "code",
   "execution_count": null,
   "metadata": {},
   "outputs": [],
   "source": [
    "# Run this cell to submit.\n",
    "# Submit as frequently as you like; I will only grade the last submission.\n",
    "from cs1.notebooks import *\n",
    "ok_submit('lab07.ok')"
   ]
  }
 ],
 "metadata": {
  "kernelspec": {
   "display_name": "Python 3 (ipykernel)",
   "language": "python",
   "name": "python3"
  },
  "language_info": {
   "codemirror_mode": {
    "name": "ipython",
    "version": 3
   },
   "file_extension": ".py",
   "mimetype": "text/x-python",
   "name": "python",
   "nbconvert_exporter": "python",
   "pygments_lexer": "ipython3",
   "version": "3.9.7"
  },
  "varInspector": {
   "cols": {
    "lenName": 16,
    "lenType": 16,
    "lenVar": 40
   },
   "kernels_config": {
    "python": {
     "delete_cmd_postfix": "",
     "delete_cmd_prefix": "del ",
     "library": "var_list.py",
     "varRefreshCmd": "print(var_dic_list())"
    },
    "r": {
     "delete_cmd_postfix": ") ",
     "delete_cmd_prefix": "rm(",
     "library": "var_list.r",
     "varRefreshCmd": "cat(var_dic_list()) "
    }
   },
   "types_to_exclude": [
    "module",
    "function",
    "builtin_function_or_method",
    "instance",
    "_Feature"
   ],
   "window_display": false
  }
 },
 "nbformat": 4,
 "nbformat_minor": 2
}
