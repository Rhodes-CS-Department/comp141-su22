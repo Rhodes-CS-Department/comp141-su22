{
 "cells": [
  {
   "cell_type": "markdown",
   "metadata": {},
   "source": [
    "# Lab 05: File Reading with the Billboard Hot 100  \n",
    "\n"
   ]
  },
  {
   "cell_type": "markdown",
   "metadata": {},
   "source": [
    "The Billboard Hot 100 (https://www.billboard.com/charts/hot-100) is a record chart indicating the popularity of songs in the United States.  The list was first\n",
    "published in the 1950s, with the birth of rock and roll, and has been updated every week since then.  Song\n",
    "popularity is currently determined by song sales, radio play, and online streaming.  The list is presented in ranked\n",
    "order, so the most popular song for the week is first on the list, the second-most popular song is next, and so on.\n",
    "\n",
    "You are given a file `songs.txt` that contains information about the top 20 songs on the Billboard Hot 100 chart\n",
    "for this week.  The songs in the file are presented in the same order as the Billboard list, meaning the first line of\n",
    "the file contains the #1 song for the week (the most popular), the second line has the #2 song (second most\n",
    "popular), and so on.\n",
    "\n",
    "Each line of the file contains information about one song:\n",
    "* The song’s title\n",
    "* The song’s artist\n",
    "* The song’s ranking on the chart during the previous week (-1 if this song was not on the chart during the previous week)\n",
    "* The number of weeks the song has been on the chart (at any level of popularity) (e.g., a 2 means this song has been on the chart for two weeks; a 1 means this song appeared this week on the chart for the first time)\n",
    "\n",
    "A semicolon (;) is used to separate these four parts on a single line of the file."
   ]
  },
  {
   "cell_type": "markdown",
   "metadata": {},
   "source": [
    "### Step 1\n",
    "\n",
    "Write code to open the file and print all the information in the file.  Make sure to correctly open the file, use a `for` loop to read each line, `rstrip` the line, and split the line into the four pieces.  Don’t forget to convert the ranking on the chart and the number of weeks on the chart into integers!\n",
    "\n",
    "Feel free to refer back to previous notebooks for a refresher on how to do this."
   ]
  },
  {
   "cell_type": "code",
   "execution_count": null,
   "metadata": {},
   "outputs": [],
   "source": [
    "def main():\n",
    "    # Your code here.\n",
    "    \n",
    "main()"
   ]
  },
  {
   "cell_type": "markdown",
   "metadata": {},
   "source": [
    "### Step 2\n",
    "\n",
    "Write code to print the names and artists of all the songs that have been on the chart for at least 20 weeks."
   ]
  },
  {
   "cell_type": "code",
   "execution_count": null,
   "metadata": {},
   "outputs": [],
   "source": [
    "# Copy your code from above and paste here, \n",
    "# then modify your code to complete this step.\n"
   ]
  },
  {
   "cell_type": "markdown",
   "metadata": {},
   "source": [
    "### Step 3\n",
    "\n",
    "Write code to print the name and artist of the song that has been on\n",
    "the chart the longest (greatest number of weeks), and the name and artist of\n",
    "the song that has been on the chart the fewest number of weeks.  (If there are\n",
    "songs that are tied for greatest or fewest number of weeks, you may choose any\n",
    "one you like to print.)\n",
    "\n",
    "Hint: first write the code to just find the largest and smallest number\n",
    "of weeks on the chart, then change your code so it also saves the artist and\n",
    "title, as well as the number of weeks."
   ]
  },
  {
   "cell_type": "code",
   "execution_count": null,
   "metadata": {},
   "outputs": [],
   "source": [
    "# Copy your code from above and paste here, \n",
    "# then modify your code to complete this step.\n"
   ]
  },
  {
   "cell_type": "markdown",
   "metadata": {},
   "source": [
    "### Step 4\n",
    "\n",
    "Write code to print the name of each song on the chart, along with a message saying whether\n",
    "* the song moved up the chart from the previous week (that is, its ranking on the chart this week is less than its ranking the previous week), and how much the ranking changed,\n",
    "* the song moved down the chart from the previous week, and how much the ranking changed,\n",
    "* the song stayed the same when compared to the previous week, or\n",
    "* the song is a new song on the chart (it wasn’t even on the chart the previous week).\n",
    "\n",
    "Obviously only one of the four situations will apply to each song on the chart.\n",
    "\n",
    "Hint: The file directly gives you each’s song’s ranking on the chart for the previous week, but not the current week.  However, you can determine the ranking for the current week very easily, given what you know about how the file is organized."
   ]
  },
  {
   "cell_type": "code",
   "execution_count": null,
   "metadata": {},
   "outputs": [],
   "source": [
    "# Copy your code from above and paste here, \n",
    "# then modify your code to complete this step.\n"
   ]
  },
  {
   "cell_type": "markdown",
   "metadata": {},
   "source": [
    "### Step 5\n",
    "\n",
    "Write code to find all pairs of consecutively-ranked songs on the chart where their relative popularities are reversed from the prior week.  In other words, find all back-to-back songs in the file where --- in the prior week --- the currently less-popular song was ranked higher than the currently more-popular song.  Note that the songs need not be consecutively-ranked in the prior week, just the current week."
   ]
  },
  {
   "cell_type": "code",
   "execution_count": null,
   "metadata": {},
   "outputs": [],
   "source": [
    "# Copy your code from above and paste here, \n",
    "# then modify your code to complete this step.\n"
   ]
  },
  {
   "cell_type": "markdown",
   "metadata": {},
   "source": [
    "## Feedback questions \n",
    "\n",
    "Answer the following questions in the cell below.\n",
    "1. Are there any particular questions from this lab that you'd like to go over in class?\n",
    "2. Any comments/questions/concerns about any material we've gone over so far?"
   ]
  },
  {
   "cell_type": "markdown",
   "metadata": {},
   "source": [
    "Answer here: (double click to edit) "
   ]
  },
  {
   "cell_type": "markdown",
   "metadata": {},
   "source": [
    "## Submitting\n",
    "\n",
    "Run the following cell to submit. You can submit as many times as you like. Make sure that you click the link returned to you by okpy to verify that your notebook was uploaded correctly."
   ]
  },
  {
   "cell_type": "code",
   "execution_count": null,
   "metadata": {},
   "outputs": [],
   "source": [
    "# Run this cell to submit.\n",
    "# Submit as frequently as you like; I will only grade the last submission.\n",
    "from cs1.notebooks import *\n",
    "ok_submit('lab06.ok')"
   ]
  },
  {
   "cell_type": "code",
   "execution_count": null,
   "metadata": {},
   "outputs": [],
   "source": []
  }
 ],
 "metadata": {
  "kernelspec": {
   "display_name": "Python 3 (ipykernel)",
   "language": "python",
   "name": "python3"
  },
  "language_info": {
   "codemirror_mode": {
    "name": "ipython",
    "version": 3
   },
   "file_extension": ".py",
   "mimetype": "text/x-python",
   "name": "python",
   "nbconvert_exporter": "python",
   "pygments_lexer": "ipython3",
   "version": "3.9.10"
  },
  "varInspector": {
   "cols": {
    "lenName": 16,
    "lenType": 16,
    "lenVar": 40
   },
   "kernels_config": {
    "python": {
     "delete_cmd_postfix": "",
     "delete_cmd_prefix": "del ",
     "library": "var_list.py",
     "varRefreshCmd": "print(var_dic_list())"
    },
    "r": {
     "delete_cmd_postfix": ") ",
     "delete_cmd_prefix": "rm(",
     "library": "var_list.r",
     "varRefreshCmd": "cat(var_dic_list()) "
    }
   },
   "types_to_exclude": [
    "module",
    "function",
    "builtin_function_or_method",
    "instance",
    "_Feature"
   ],
   "window_display": false
  }
 },
 "nbformat": 4,
 "nbformat_minor": 2
}
