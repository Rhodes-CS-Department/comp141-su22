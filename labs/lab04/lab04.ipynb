{
 "cells": [
  {
   "cell_type": "code",
   "execution_count": null,
   "metadata": {},
   "outputs": [],
   "source": [
    "# Run this cell to log in to okpy.org so that you can submit\n",
    "# at the end of the lab.\n",
    "from client.api.notebook import Notebook\n",
    "ok = Notebook('lab04.ok')\n",
    "_ = ok.auth(inline=True)"
   ]
  },
  {
   "cell_type": "markdown",
   "metadata": {},
   "source": [
    "# Lab 4: All Loops Lab\n",
    "\n",
    "Remember that lab grades are effort-based. I want you to attempt all the questions, but if your solutions are not all correct, you will still get full credit. Don't forget to test your code. If you run into any problems, please ask me questions!\n",
    "\n",
    "This lab is longer than our usual labs. It will count as 2 labs (10 points) in terms of grading."
   ]
  },
  {
   "cell_type": "markdown",
   "metadata": {},
   "source": [
    "## Nested Loops questions\n",
    "\n",
    "This first set of questions should all be solved with nested loops."
   ]
  },
  {
   "cell_type": "markdown",
   "metadata": {},
   "source": [
    "Write a function called `rectangle` that takes two parameters, `width` and `height`, and prints a rectangle using stars (asterisks) of that given width and height.\n",
    "\n",
    "`rectangle(5, 3)` would print:\n",
    "```\n",
    "*****\n",
    "*****\n",
    "*****\n",
    "```"
   ]
  },
  {
   "cell_type": "code",
   "execution_count": null,
   "metadata": {},
   "outputs": [],
   "source": [
    "def rectangle(width, height):\n",
    "  # delete the next line when you start your function\n",
    "  pass"
   ]
  },
  {
   "cell_type": "markdown",
   "metadata": {},
   "source": [
    "Write a function called `rectangle2` that is very similar to `rectangle` but prints like this: \n",
    "\n",
    "`rectangle2(5, 3)` prints:\n",
    "```\n",
    "11111\n",
    "22222\n",
    "33333\n",
    "```"
   ]
  },
  {
   "cell_type": "code",
   "execution_count": null,
   "metadata": {},
   "outputs": [],
   "source": [
    "def rectangle2(width, height):\n",
    "  # delete the next line when you start your function\n",
    "  pass"
   ]
  },
  {
   "cell_type": "markdown",
   "metadata": {},
   "source": [
    "Write a function called `lower_left` that takes one parameter called `size`.\n",
    "This function should print a right triangle using stars where the base and\n",
    "height are both `size` stars long/high. The 90º vertex should be in the lower\n",
    "left.\n",
    "\n",
    "For example, `lower_left(5)` should print:\n",
    "\n",
    "```\n",
    "*\n",
    "**\n",
    "***\n",
    "****\n",
    "*****\n",
    "```"
   ]
  },
  {
   "cell_type": "code",
   "execution_count": null,
   "metadata": {},
   "outputs": [],
   "source": [
    "def lower_left(size):\n",
    "  # delete the next line when you start your function\n",
    "  pass"
   ]
  },
  {
   "cell_type": "markdown",
   "metadata": {},
   "source": [
    "Write 3 functions called `upper_left`, `lower_right`, and `upper_right` that\n",
    "each also take a parameter called size and print the other three types of\n",
    "right triangles."
   ]
  },
  {
   "cell_type": "code",
   "execution_count": null,
   "metadata": {},
   "outputs": [],
   "source": [
    "def upper_left(size):\n",
    "  # delete the next line when you start your function\n",
    "  pass"
   ]
  },
  {
   "cell_type": "code",
   "execution_count": null,
   "metadata": {},
   "outputs": [],
   "source": [
    "def lower_right(size):\n",
    "  # delete the next line when you start your function\n",
    "  pass"
   ]
  },
  {
   "cell_type": "code",
   "execution_count": null,
   "metadata": {},
   "outputs": [],
   "source": [
    "def upper_right(size):\n",
    "  # delete the next line when you start your function\n",
    "  pass"
   ]
  },
  {
   "cell_type": "markdown",
   "metadata": {},
   "source": [
    "Write a program that simulates a stopwatch that records minutes, seconds, and hundredths-of-a-second. This program should start the stopwatch at time 0:00.00 (zero mins, secs, and 1/100 secs), and stop at 5:59.99. Use three nested loops to print all of these times increasing in order of time. \n",
    "\n",
    "__Hint:__ the inner loop should keep track of the 1/100 seconds part; write this loop first, then add a loop outside of that one, then another one outside of that one.\n",
    "\n",
    "__Hint:__ You can use print(format(number, \"02\")) to print a number with leading zeros."
   ]
  },
  {
   "cell_type": "code",
   "execution_count": null,
   "metadata": {},
   "outputs": [],
   "source": [
    "#Stopwatch program here\n",
    "\n"
   ]
  },
  {
   "cell_type": "markdown",
   "metadata": {},
   "source": [
    "Write code using nested loops that draws the following image. Use cs1.graphics to do this.\n",
    "\n",
    "<img src=\"https://matthewlang.github.io/comp141/classes/nested.png\"/>"
   ]
  },
  {
   "cell_type": "code",
   "execution_count": null,
   "metadata": {},
   "outputs": [],
   "source": [
    "from cs1.graphics import *\n",
    "\n"
   ]
  },
  {
   "cell_type": "code",
   "execution_count": null,
   "metadata": {},
   "outputs": [],
   "source": [
    "# Optional Cell\n",
    "# Feel free to draw any design you'd like using cs1.graphics and nested loops here\n",
    "for cs1.graphics import *\n"
   ]
  },
  {
   "cell_type": "markdown",
   "metadata": {},
   "source": [
    "## All loops\n",
    "We've practiced using while loops, for loops, and nested loops individually. Now, it's up to you to decide which one would be best to solve each problem."
   ]
  },
  {
   "cell_type": "markdown",
   "metadata": {},
   "source": [
    "Use `cs1.graphics` to draw any __2__ of the following images. These were all drawn using for loops. No nested loops are required for these.\n",
    "\n",
    "   <table>\n",
    "     <tr>\n",
    "       <td><img src=\"https://matthewlang.github.io/comp141/classes/for-loops0.png\"/></td>\n",
    "       <td><img src=\"https://matthewlang.github.io/comp141/classes/for-loops1.png\"/></td>\n",
    "       <td><img src=\"https://matthewlang.github.io/comp141/classes/for-loops2.png\"/></td>\n",
    "       <td><img src=\"https://matthewlang.github.io/comp141/classes/for-loops3.png\"/></td>\n",
    "     </tr>\n",
    "     <tr>\n",
    "       <td><img src=\"https://matthewlang.github.io/comp141/classes/for-loops4.png\"/></td>\n",
    "       <td><img src=\"https://matthewlang.github.io/comp141/classes/for-loops5.png\"/></td>\n",
    "       <td><img src=\"https://matthewlang.github.io/comp141/classes/for-loops6.png\"/></td>\n",
    "       <td><img src=\"https://matthewlang.github.io/comp141/classes/for-loops7.png\"/></td>\n",
    "     </tr>\n",
    "   </table>"
   ]
  },
  {
   "cell_type": "code",
   "execution_count": null,
   "metadata": {},
   "outputs": [],
   "source": [
    "from cs1.graphics import *"
   ]
  },
  {
   "cell_type": "code",
   "execution_count": null,
   "metadata": {},
   "outputs": [],
   "source": [
    "from cs1.graphics import *"
   ]
  },
  {
   "cell_type": "markdown",
   "metadata": {},
   "source": [
    "Write a program that lets the user type in a number from the keyboard. The program should print out the pseudo-Roman numeral equivalent of the number. I say \"pseudo\" because we will simplify Roman numerals a bit by getting rid of the weird subtraction rules for Roman numerals. For example, normally 9 is written as IX = 10 – 1, but your program can print VIIII.\n",
    "\n",
    "In Roman numerals, M = 1000, D = 500, C = 100, L = 50, X = 10, V = 5, and I = 1.\n",
    "\n",
    "Use a loop that runs until the user’s number becomes equal to zero. Inside the loop, write if statements that test how big the number is. If the number is bigger than or equal to one of the exact Roman numerals above, print that numeral, subtract the value from the user’s number, and loop again.\n",
    "\n",
    "__Challenge:__ make this work with “real” Roman numerals; e.g., for 9 it should print IX, not VIIII. \n",
    "  "
   ]
  },
  {
   "cell_type": "code",
   "execution_count": null,
   "metadata": {},
   "outputs": [],
   "source": []
  },
  {
   "cell_type": "markdown",
   "metadata": {},
   "source": [
    "Write a function called count_factors that takes a single parameter called num. This function returns the number of positive factors of num; this is the number of positive integers between 1 and num, inclusive, that divide into num evenly. For instance, the number 10 has 4 factors: 1, 2, 5, and 10. So calling count_factors(10) should return 4.\n",
    "\n",
    "Do this by writing a for loop that counts from 1 to num and tests the remainder of dividing num by whatever the counter variable is. (You’ve done this before with a while loop, so use a for loop this time.)"
   ]
  },
  {
   "cell_type": "code",
   "execution_count": null,
   "metadata": {},
   "outputs": [],
   "source": []
  },
  {
   "cell_type": "markdown",
   "metadata": {},
   "source": [
    "### Submitting\n",
    "\n",
    "Run the following cell to submit. You can submit as many times as you like. Make sure that you click the link returned to you by okpy to verify that your notebook and program were both uploaded correctly."
   ]
  },
  {
   "cell_type": "code",
   "execution_count": null,
   "metadata": {},
   "outputs": [],
   "source": [
    "# Run this cell to submit.\n",
    "# Submit as frequently as you like; I will only grade the last submission.\n",
    "_ = ok.submit()"
   ]
  },
  {
   "cell_type": "code",
   "execution_count": null,
   "metadata": {},
   "outputs": [],
   "source": []
  }
 ],
 "metadata": {
  "kernelspec": {
   "display_name": "Python 3",
   "language": "python",
   "name": "python3"
  },
  "language_info": {
   "codemirror_mode": {
    "name": "ipython",
    "version": 3
   },
   "file_extension": ".py",
   "mimetype": "text/x-python",
   "name": "python",
   "nbconvert_exporter": "python",
   "pygments_lexer": "ipython3",
   "version": "3.6.7"
  },
  "varInspector": {
   "cols": {
    "lenName": 16,
    "lenType": 16,
    "lenVar": 40
   },
   "kernels_config": {
    "python": {
     "delete_cmd_postfix": "",
     "delete_cmd_prefix": "del ",
     "library": "var_list.py",
     "varRefreshCmd": "print(var_dic_list())"
    },
    "r": {
     "delete_cmd_postfix": ") ",
     "delete_cmd_prefix": "rm(",
     "library": "var_list.r",
     "varRefreshCmd": "cat(var_dic_list()) "
    }
   },
   "types_to_exclude": [
    "module",
    "function",
    "builtin_function_or_method",
    "instance",
    "_Feature"
   ],
   "window_display": false
  }
 },
 "nbformat": 4,
 "nbformat_minor": 2
}
