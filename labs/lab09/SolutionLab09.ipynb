{
 "cells": [
  {
   "cell_type": "markdown",
   "metadata": {},
   "source": [
    "# Lab 9: Tic-Tac-Toe\n",
    "\n",
    "In the game of tic tac toe, players alternate placing Xs and Os on a board until one player gets three of their symbol in a row, column, or diagonal. We will store the tic tac toe board as a 2D list of integers, where a zero means a space on the board is empty, a 1 means it is filled with an X, and a -1 means it is filled with an O. This will make it easier later to detect wins.\n",
    "\n",
    "Fill in the code for the tic-tac-toe game in this order, assuming the board is stored as a 3x3 grid of numbers. The starter code is already in the cell below.\n"
   ]
  },
  {
   "cell_type": "markdown",
   "metadata": {},
   "source": [
    "1. `def print_board(board):`\n",
    "Prints a 3 by 3\ttic\ttac\ttoe\tboard using\tX's\tand\tO's. (don't\treturn\tanything)\n",
    "Remember that the board has 0/1/-1 in each square, so use nested loops & if\tstatements to print the correct pieces. Print a dash for an\tempty square to make it easier to see.\n",
    "\n",
    "2. Fill\tin the part\tof\t`main()` that places a\tpiece on the board and the part that switches the player.\t\t\n",
    "Look for the comments in the loop to guide you for this part. You should be able to play the game now, though it will never end!\n",
    "\n",
    "3. Fill in the `add_row`,\t`add_column`,\t`add_diagonal`,\tand\t`add_diagonal2`\tfunctions.\n",
    "4. Fill in the `x_wins` and `o_wins` functions.\n",
    "5. Fill in the `board_full` function.\n",
    "6. Now you should be able to write a test for the loop that will stop the loop when\tsomeone\thas\twon, or if the board is full.\n",
    "7. Fill\tin the last part of\tthe\tprogram, which prints the winner or if it was a tie.\n",
    "8. Play the\tgame! Test lots\tof different situations. Fix bugs."
   ]
  },
  {
   "cell_type": "code",
   "execution_count": null,
   "metadata": {},
   "outputs": [],
   "source": [
    "# Make a 2D list of all zeros with given dimensions.\n",
    "def make2dList(rows, cols):\n",
    "    g = []\n",
    "    for row in range(0, rows): \n",
    "        g.append([0] * cols)\n",
    "    return g\n",
    "\n",
    "# Print the TTT board to the screen using X's and O's.\n",
    "# Use the standard nested loops.\n",
    "# Hint: Use print(...whatever..., end='') to\n",
    "# not move to the next line at the end of a print statement.\n",
    "# Hint 2: Use an empty print statement: print() to move the cursor\n",
    "# to the next line.\n",
    "def print_board(board):\n",
    "    for r in range(len(board)):\n",
    "        for c in range(len(board[r])):\n",
    "            if board[r][c] == 1:\n",
    "                print('X', end='')\n",
    "            elif board[r][c] == -1:\n",
    "                print(\"O\", end='')\n",
    "            else:\n",
    "                print(\"-\", end='')\n",
    "        print()\n",
    "    \n",
    "# Add up and return the numbers in row r of the board.\n",
    "# (Can do with a loop or manually.)\n",
    "def add_row(board, r):\n",
    "    total = 0\n",
    "    for c in range(len(board[r])):\n",
    "        total += board[r][c]\n",
    "    return total        \n",
    "    \n",
    "# Add up and return the numbers in column c of the board.\n",
    "# (Can do with a loop or manually.)\n",
    "def add_column(board, c):\n",
    "    total = 0\n",
    "\n",
    "    for r in range(len(board)):\n",
    "        total += board[r][c]\n",
    "\n",
    "    return total\n",
    "    \n",
    "# Add up and return the numbers on the upper-left to\n",
    "# lower-right of the board. (Can do with a loop or manually.)\n",
    "def add_diagonal1(board):\n",
    "    total = 0\n",
    "    for row in range(0, len(board)):\n",
    "        total += board[row][row]\n",
    "    return total\n",
    "\n",
    "# Add up and return the numbers on the upper-right to\n",
    "# lower-left of the board. (Can do with a loop or manually.)\n",
    "def add_diagonal2(board):\n",
    "    total = 0\n",
    "    for row in range(0, len(board)):\n",
    "        col = len(board)-1 - row\n",
    "        total += board[row][col]  \n",
    "\n",
    "    return total\n",
    "    \n",
    "# Check if all the squares on the board are full (non-zero).\n",
    "# Return True if they're all full, and False if they're not.\n",
    "def board_full(board):\n",
    "    for r in range(len(board)):\n",
    "        for c in range(len(board[r])):\n",
    "            #As soon as you find a zero, return false, since\n",
    "            #board is not full (still spaces players can pick)\n",
    "            if board[r][c] == 0:\n",
    "                return False\n",
    "              \n",
    "    #If you get here, then must not have found any zeros, so return True\n",
    "    return True\n",
    "\n",
    "# Check to see if the sum of any row, column, or diagonal is 3.\n",
    "# Return True for an X win, and False otherwise.\n",
    "def x_wins(board):\n",
    "\n",
    "    #Checks all rows for a win\n",
    "    for r in range(len(board)):\n",
    "        if add_row(board, r) == 3:\n",
    "            return True\n",
    "    #Checks all columns for a win\n",
    "    for c in range(len(board[0])):\n",
    "        if add_column(board, c) == 3:\n",
    "            return True\n",
    "    #Checks both diagonals\n",
    "    if add_diagonal1(board) == 3:\n",
    "        return True\n",
    "    elif add_diagonal2(board) == 3:\n",
    "        return True\n",
    "      \n",
    "    #If you reach here, then must not have won\n",
    "    return False\n",
    "    \n",
    "    \n",
    "# Check to see if the sum of any row or column is -3.\n",
    "# Also check the diagonals for a win for O.\n",
    "def o_wins(board):\n",
    "    for r in range(len(board)):\n",
    "        if add_row(board, r) == -3:\n",
    "            return True\n",
    "    for c in range(len(board[0])):\n",
    "        if add_column(board, c) == -3:\n",
    "            return True\n",
    "    if add_diagonal1(board) == -3:\n",
    "        return True\n",
    "    elif add_diagonal2(board) == -3:\n",
    "        return True\n",
    "\n",
    "    return False\n",
    "\n",
    "#This function returns True if game is over, False otherwise\n",
    "#I added this function to make it easier to determine if game is over or not.\n",
    "def game_over(board):\n",
    "    if board_full(board) or x_wins(board) or o_wins(board):\n",
    "        return True\n",
    "    else:\n",
    "        return False\n",
    "\n",
    "def main():\n",
    "    board = make2dList(3, 3)\n",
    "    current_player = \"X\"\n",
    "\n",
    "    while not game_over(board):\n",
    "        \n",
    "        print_board(board)\n",
    "        print(\"Enter move for player\", current_player)\n",
    "        row = int(input(\"Row (0-2): \"))\n",
    "        col = int(input(\"Column (0-2): \"))\n",
    "\n",
    "        #Adds some input validation to ensure no one is trying to use a spot that has already been taken.\n",
    "        while board[row][col] != 0:\n",
    "            print(\"Spot already taken!\")\n",
    "            row = int(input(\"Row (0-2): \"))\n",
    "            col = int(input(\"Column (0-2): \"))\n",
    "\n",
    "        if current_player == 'X':\n",
    "            board[row][col] = 1\n",
    "            current_player = 'O'\n",
    "        else:\n",
    "            board[row][col] = -1\n",
    "            current_player = 'X'\n",
    "\n",
    "    print_board(board)\n",
    "    if x_wins(board):\n",
    "        print(\"X wins!\")\n",
    "    elif o_wins(board):\n",
    "        print('O wins!')\n",
    "    else:\n",
    "        print(\"Tie game!\")\n",
    "    \n",
    "main()"
   ]
  },
  {
   "cell_type": "markdown",
   "metadata": {},
   "source": [
    "## Feedback Questions \n",
    "\n",
    "Answer the following questions in the cell below.\n",
    "1. Are there any particular questions from this lab that you'd like to go over in class?\n",
    "2. Any comments/questions/concerns about any material we've gone over so far?"
   ]
  },
  {
   "cell_type": "markdown",
   "metadata": {},
   "source": [
    "Answer here: "
   ]
  },
  {
   "cell_type": "markdown",
   "metadata": {},
   "source": [
    "### Submitting\n",
    "\n",
    "Run the following cell to submit. You can submit as many times as you like. Make sure that you click the link returned to you by okpy to verify that your notebook was uploaded correctly."
   ]
  },
  {
   "cell_type": "code",
   "execution_count": null,
   "metadata": {},
   "outputs": [
    {
     "name": "stdout",
     "output_type": "stream",
     "text": [
      "=====================================================================\n",
      "Assignment: Lab 9\n",
      "OK, version v1.18.1\n",
      "=====================================================================\n",
      "\n",
      "Successfully logged in as welshc@rhodes.edu\n"
     ]
    },
    {
     "data": {
      "application/javascript": [
       "IPython.notebook.save_checkpoint();"
      ],
      "text/plain": [
       "<IPython.core.display.Javascript object>"
      ]
     },
     "metadata": {},
     "output_type": "display_data"
    }
   ],
   "source": [
    "# Run this cell to submit.\n",
    "# Submit as frequently as you like; I will only grade the last submission.\n",
    "from cs1.notebooks import *\n",
    "ok_submit('lab09.ok')"
   ]
  },
  {
   "cell_type": "code",
   "execution_count": null,
   "metadata": {},
   "outputs": [],
   "source": []
  }
 ],
 "metadata": {
  "kernelspec": {
   "display_name": "Python 3 (ipykernel)",
   "language": "python",
   "name": "python3"
  },
  "language_info": {
   "codemirror_mode": {
    "name": "ipython",
    "version": 3
   },
   "file_extension": ".py",
   "mimetype": "text/x-python",
   "name": "python",
   "nbconvert_exporter": "python",
   "pygments_lexer": "ipython3",
   "version": "3.9.10"
  },
  "varInspector": {
   "cols": {
    "lenName": 16,
    "lenType": 16,
    "lenVar": 40
   },
   "kernels_config": {
    "python": {
     "delete_cmd_postfix": "",
     "delete_cmd_prefix": "del ",
     "library": "var_list.py",
     "varRefreshCmd": "print(var_dic_list())"
    },
    "r": {
     "delete_cmd_postfix": ") ",
     "delete_cmd_prefix": "rm(",
     "library": "var_list.r",
     "varRefreshCmd": "cat(var_dic_list()) "
    }
   },
   "types_to_exclude": [
    "module",
    "function",
    "builtin_function_or_method",
    "instance",
    "_Feature"
   ],
   "window_display": false
  }
 },
 "nbformat": 4,
 "nbformat_minor": 2
}
