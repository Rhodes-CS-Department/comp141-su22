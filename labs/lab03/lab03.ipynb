{
 "cells": [
  {
   "cell_type": "markdown",
   "metadata": {
    "deletable": false,
    "editable": false,
    "run_control": {
     "frozen": true
    }
   },
   "source": [
    "# Lab 3: Practice with functions that return values and if-elif-else\n",
    "\n",
    "## Directions: \n",
    "\n",
    "- For each of the situations below, write a function that solves the problem. Each function should use exactly the arguments and return values specified. \n",
    "\n",
    "- After you have written the definition for each function, write a number of tests below each function demonstrating it running on different arguments.\n",
    "\n",
    "- You should not use any `input` or `print` statements in the definitions of the functions. You may use `print` to test your code, but do not write any `main()` functions.\n",
    "\n",
    "- Your professor will tell you how many of these functions and/or which ones you need to complete for the lab."
   ]
  },
  {
   "cell_type": "markdown",
   "metadata": {
    "deletable": false,
    "editable": false,
    "run_control": {
     "frozen": true
    }
   },
   "source": [
    "## Example: Calculating the area of a circle\n",
    "\n",
    "Write a function called `area_of_circle` that takes one argument, the radius of the circle.\n",
    "The function returns the area of a circle with the given radius.\n",
    "\n",
    "### Solution: (run the cell below to see the tests run!)"
   ]
  },
  {
   "cell_type": "code",
   "execution_count": null,
   "metadata": {
    "deletable": false,
    "editable": false
   },
   "outputs": [],
   "source": [
    "# definition:\n",
    "def area_of_circle(radius):\n",
    "    area = 3.14 * radius**2\n",
    "    return area\n",
    "\n",
    "# tests:\n",
    "print(\"Test 1:\", area_of_circle(1))  # should be 3.14\n",
    "print(\"Test 2:\", area_of_circle(2))  # should be 12.56"
   ]
  },
  {
   "cell_type": "markdown",
   "metadata": {
    "deletable": false,
    "editable": false,
    "run_control": {
     "frozen": true
    }
   },
   "source": [
    "## 1. Dividing a tip\n",
    "\n",
    "Write a function called `divide_tip` that takes three arguments: \n",
    "- the total amount of a restaurant bill, \n",
    "- the percent you want to tip (as an integer), \n",
    "- and the number of people at the table. \n",
    "\n",
    "The function returns the amount each person needs to pay to cover the bill if it is split evenly among all the people. \n",
    "\n",
    "Example: `divide_tip(40, 15, 4)` means the total bill was \\\\$40, you're leaving a 15% tip, \n",
    "and it's being split 4 ways. The total amount to split therefore will be \\\\$46, which means each person pays \\\\$11.50. So this function call will return `11.5` (as a float). \n",
    "\n",
    "Hint: the function definition line should look something like this: \n",
    "\n",
    "`def divide_tip(bill, percent, people):`\n",
    "                "
   ]
  },
  {
   "cell_type": "code",
   "execution_count": null,
   "metadata": {},
   "outputs": [],
   "source": [
    "# Write and test your function here.\n"
   ]
  },
  {
   "cell_type": "markdown",
   "metadata": {
    "deletable": false,
    "editable": false,
    "run_control": {
     "frozen": true
    }
   },
   "source": [
    "## 2. Election winner\n",
    "\n",
    "Write a function called `winner` that calculates the winner of an election. \n",
    "The function takes four arguments: the name of the first candidate and how many votes they got, followed by the second candidate's name and their votes. \n",
    "\n",
    "The function compares the votes and returns either the name of the candidate who won, or the string `\"tie\"` if there's a tie. \n",
    "\n",
    "Example: `winner(\"David\", 50, \"Kristin\", 65)` would return the string \"Kristin\".\n",
    "\n",
    "Example: `winner(\"Sally\", 400, \"Morgan\", 400)` would return the string \"tie\".\n",
    "\n",
    "Hint: the function definition line should look something like this: `def winner(name1, votes1, name2, votes2):`"
   ]
  },
  {
   "cell_type": "code",
   "execution_count": null,
   "metadata": {},
   "outputs": [],
   "source": [
    "# Write and test your function here.\n"
   ]
  },
  {
   "cell_type": "markdown",
   "metadata": {
    "deletable": false,
    "editable": false,
    "run_control": {
     "frozen": true
    }
   },
   "source": [
    "## 3. Postage calculation\n",
    "\n",
    "Write a function called `postage` that calculates the amount the post office will charge you to mail a large flat envelope using first-class mail, based on its weight. \n",
    "The charge is based on the envelope's weight in ounces: an envelope weighing one ounce will cost 90 cents to mail, and each additional ounce is an additional 20 cents. However, you can only mail envelopes that weigh 13 ounces or less. \n",
    "\n",
    "Your function will take an integer argument called `ounces` and return the amount in dollars (as a float) that you should be charged. However, if the `ounces` argument is 0 or less, or if it is greater than 13, the function should return 0 (indicating an error). \n",
    "\n",
    "For example, `postage(1)` returns 0.90, `postage(2)` returns 1.10, `postage(3)` returns 1.30, and so on, up to `postage(13)` which returns 3.30. \n",
    "\n",
    "Try not to do this with a 13-section `if-elif-else` statement!\n",
    "\n",
    "Hint: the function definition line should look something like this: `def postage(ounces):`"
   ]
  },
  {
   "cell_type": "code",
   "execution_count": null,
   "metadata": {},
   "outputs": [],
   "source": [
    "# Write and test your function here.\n"
   ]
  },
  {
   "cell_type": "markdown",
   "metadata": {
    "deletable": false,
    "editable": false,
    "run_control": {
     "frozen": true
    }
   },
   "source": [
    "## 4. Final grade calculation\n",
    "\n",
    "Write a function called `final_grade` that calculates a person's final letter grade for this class. The function takes six integer arguments: the average of the programming project grades, the average zybooks grade, the average lab grade, the two midterm grades, and the final exam grade. These are weighted 30%, 7%, 7%, 16%, 20%, and 20%, respectively. Return the final letter grade using the grading scale 90=A, 80=B, etc. \n",
    "\n",
    "Example: `final_grade(85, 100, 100, 93, 81, 87)` would return \"B\" because their final numeric grade comes out to about 87.98. \n",
    "\n",
    "Hint: the function definition line should look something like this: `def final_grade(programs, zybook, labs, midterm1, midterm2, final_exam):`"
   ]
  },
  {
   "cell_type": "code",
   "execution_count": null,
   "metadata": {},
   "outputs": [],
   "source": [
    "# Write and test your function here.\n"
   ]
  },
  {
   "cell_type": "markdown",
   "metadata": {},
   "source": [
    "## 5. Age today\n",
    "\n",
    "Write a function called `age_today` that takes three arguments: a month, day of the month, and year, all as integers. These three arguments represent someone's birthday. The function calculates how old this person will be today and returns that age. \n",
    "\n",
    "Ex: `age_today(9, 29, 2001)` should return 20, because this person hasn't had their birthday yet this year. \n",
    "\n",
    "Ex: `age_today(1, 29, 2001)` should return 21, because this person has had their birthday this year. \n",
    "\n",
    "While Python has the ability to automatically determine today's date, you should manually type in today's numerical month and day in your code (i.e., this function will only be correct today and the code would have to change tomorrow). This is called [hard coding](https://en.wikipedia.org/wiki/Hard_coding) and is in general a bad practice. However, it is ok here!\n",
    "\n",
    "Hint: the function definition line should look like this: `def age_today(month, day, year):`"
   ]
  },
  {
   "cell_type": "code",
   "execution_count": null,
   "metadata": {},
   "outputs": [],
   "source": [
    "# Write and test your function here.\n"
   ]
  },
  {
   "cell_type": "markdown",
   "metadata": {
    "deletable": false,
    "editable": false,
    "run_control": {
     "frozen": true
    }
   },
   "source": [
    "**Challenge for question 5**\n",
    "\n",
    "You can use the `datetime` library in Python to get today's date:\n",
    "```python\n",
    "import datetime\n",
    "today_month = datetime.date.today().month  # get today's month as a number 1-12\n",
    "today_day = datetime.date.today().day      # get today's day of the month\n",
    "```\n",
    "Can you incorporate these into your code above so that your code will work tomorrow too?  (And any other day you happen to run it?)"
   ]
  },
  {
   "cell_type": "markdown",
   "metadata": {
    "deletable": false,
    "editable": false,
    "run_control": {
     "frozen": true
    }
   },
   "source": [
    "##  6. Even or odd?\n",
    "\n",
    "Write a function called `is_even` that takes an integer as an argument. The function returns the string `\"yes\"` if the integer is even, and `\"no\"` if the integer is odd. \n",
    "\n",
    "Hint: use the remainder operator (the percent sign)."
   ]
  },
  {
   "cell_type": "code",
   "execution_count": null,
   "metadata": {},
   "outputs": [],
   "source": [
    "# Write and test your function here.\n"
   ]
  },
  {
   "cell_type": "markdown",
   "metadata": {
    "deletable": false,
    "editable": false,
    "run_control": {
     "frozen": true
    }
   },
   "source": [
    "## 7. Alphabetically first string\n",
    "\n",
    "Write a function called `first_string` that takes three string arguments and returns the one that is first alphabetically. You can compare strings alphabetically using `<=`, `>`, and `>=`."
   ]
  },
  {
   "cell_type": "code",
   "execution_count": null,
   "metadata": {},
   "outputs": [],
   "source": [
    "# Write and test your function here.\n"
   ]
  },
  {
   "cell_type": "markdown",
   "metadata": {
    "deletable": false,
    "editable": false,
    "run_control": {
     "frozen": true
    }
   },
   "source": [
    "## 8. Time zones\n",
    "\n",
    "Write a function called `timezone_diff` that takes two string arguments and determines how you would adjust your watch if you traveled between the time zones. The possible arguments are `\"eastern\"`, `\"central\"`, `\"mountain\"`, and `\"pacific\"`.  The answer should be returned as a positive or negative integer (or zero) expressing how many hours difference there are between the two arguments. A positive return value means you set your watch forwards, and a negative value means you set your watch backwards. \n",
    "\n",
    "Ex: `timezone_diff(\"central\", \"eastern\")` returns `1` because when you travel from the Central time zone to the Eastern, you set your watch forward one hour. \n",
    "\n",
    "Ex: `timezone_diff(\"eastern\", \"central\")` returns `-1` because going the opposite direction, you set your watch back one hour. \n",
    "\n",
    "Hint: There are sixteen different combinations of time zones here, but try not to do this with a sixteen-section `if-elif-else` statement. Instead, think about a way of doing this using subtraction."
   ]
  },
  {
   "cell_type": "code",
   "execution_count": null,
   "metadata": {},
   "outputs": [],
   "source": [
    "# Write and test your function here.\n"
   ]
  },
  {
   "cell_type": "markdown",
   "metadata": {
    "deletable": false,
    "editable": false,
    "run_control": {
     "frozen": true
    }
   },
   "source": [
    "## Feedback Questions \n",
    "\n",
    "Answer the following questions in the cell below.\n",
    "1. Are there any particular functions from the handout that you'd like to go over in class?\n",
    "2. Any comments/questions/concerns about any material we've gone over so far?\n"
   ]
  },
  {
   "cell_type": "markdown",
   "metadata": {},
   "source": [
    "Put your feedback here:  (double click this cell to fill it in) \n",
    "\n",
    "1. \n",
    "\n",
    "2. "
   ]
  },
  {
   "cell_type": "code",
   "execution_count": null,
   "metadata": {
    "deletable": false,
    "editable": false
   },
   "outputs": [],
   "source": [
    "# Run this cell to log in to okpy.org, and submit your lab.\n",
    "from cs1.notebooks import *\n",
    "ok_submit('lab03.ok')"
   ]
  },
  {
   "cell_type": "markdown",
   "metadata": {
    "deletable": false,
    "editable": false,
    "run_control": {
     "frozen": true
    }
   },
   "source": [
    "<font color=red size=+1>After submitting, make sure the message you get says \"100% complete\" and \"Submission successful for user: your email address.  Check the URL given to make sure your notebook is there.  If you see anything about not being able to save the notebook, you should restart your notebook and re-submit.</font>"
   ]
  },
  {
   "cell_type": "code",
   "execution_count": null,
   "metadata": {},
   "outputs": [],
   "source": []
  }
 ],
 "metadata": {
  "kernelspec": {
   "display_name": "Python 3 (ipykernel)",
   "language": "python",
   "name": "python3"
  },
  "language_info": {
   "codemirror_mode": {
    "name": "ipython",
    "version": 3
   },
   "file_extension": ".py",
   "mimetype": "text/x-python",
   "name": "python",
   "nbconvert_exporter": "python",
   "pygments_lexer": "ipython3",
   "version": "3.9.6"
  },
  "varInspector": {
   "cols": {
    "lenName": 16,
    "lenType": 16,
    "lenVar": 40
   },
   "kernels_config": {
    "python": {
     "delete_cmd_postfix": "",
     "delete_cmd_prefix": "del ",
     "library": "var_list.py",
     "varRefreshCmd": "print(var_dic_list())"
    },
    "r": {
     "delete_cmd_postfix": ") ",
     "delete_cmd_prefix": "rm(",
     "library": "var_list.r",
     "varRefreshCmd": "cat(var_dic_list()) "
    }
   },
   "oldHeight": 122,
   "position": {
    "height": "144px",
    "left": "720px",
    "right": "20px",
    "top": "120px",
    "width": "350px"
   },
   "types_to_exclude": [
    "module",
    "function",
    "builtin_function_or_method",
    "instance",
    "_Feature"
   ],
   "varInspector_section_display": "block",
   "window_display": false
  }
 },
 "nbformat": 4,
 "nbformat_minor": 2
}
