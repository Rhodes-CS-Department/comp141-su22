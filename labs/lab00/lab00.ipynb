{
 "cells": [
  {
   "cell_type": "markdown",
   "metadata": {},
   "source": [
    "# Introduction to Python Notebooks\n",
    "\n",
    "A _notebook_ is a way to interact with the Python interpreter and run Python statements and programs. In this class, we will use notebooks for a variety of assignments.\n",
    "\n",
    "There are two main advantages of this approach:\n",
    "1. All your work is saved in the cloud, on a server that is regularly backed up. You have access to your work from anywhere, and any device.\n",
    "1. Notebooks allow you to quickly experiment with code (like using the interpreter directly) but also allow you to save, edit, and re-run code easily (like writing programs).\n",
    "\n",
    "## Notebook basics\n",
    "\n",
    "A notebook is essentially a document that interacts with Python. The document is comprised of __cells__. Each cell is one of two types: __markdown__ or __python code__. \n",
    "\n",
    "[Markdown](https://en.wikipedia.org/wiki/Markdown) is a \"language\" for formatting text.  Here's a cheat sheet for [markdown syntax for notebooks](https://www.ibm.com/support/knowledgecenter/en/SSGNPV_2.0.0/dsx/markd-jupyter.html)\n",
    "\n",
    "You can see an example of this by double clicking on this text to see the contents of this cell!\n",
    "\n",
    "When you are done looking at the markdown code, type `shift-enter` to only show the formatted text output."
   ]
  },
  {
   "cell_type": "code",
   "execution_count": null,
   "metadata": {},
   "outputs": [],
   "source": [
    "# This cell, on the other hand, is a Python cell. Cells that are Python can be \"run\" by\n",
    "# typing shift-enter while the cell is selected. The output when the cell is run is the\n",
    "# result of the expression, as if you had typed it into the python interpreter. Give this\n",
    "# one a try!\n",
    "a = 100\n",
    "b = a * 5\n",
    "b"
   ]
  },
  {
   "cell_type": "markdown",
   "metadata": {},
   "source": [
    "Now, remove the last line of the cell and run it again. Notice that the output changed. Explain why the output changed by editing the cell below. What do you think `Out[1]:` corresponds to?"
   ]
  },
  {
   "cell_type": "markdown",
   "metadata": {},
   "source": [
    "*Your answer here!* Double-click this text to edit."
   ]
  },
  {
   "cell_type": "markdown",
   "metadata": {},
   "source": [
    "Each notebook is \"backed\" by an instance of the python interpreter, so variables set in one cell can be referenced in another! This allows you to incrementally experiment with code. What do you think the cell below will output? Run the cell and find out!"
   ]
  },
  {
   "cell_type": "code",
   "execution_count": null,
   "metadata": {},
   "outputs": [],
   "source": [
    "print(b)"
   ]
  },
  {
   "cell_type": "markdown",
   "metadata": {},
   "source": [
    "## Order matters\n",
    "\n",
    "The order in which you run cells matters. Each time you run a cell is the same thing as running the same commands in the python interpreter. Edit the cell that sets the value of `b` and change `b = a * 5` to `b = a * 10`. Run the cell, then re-run the cell above with `print(b)` in it. You should see that the output changes."
   ]
  },
  {
   "cell_type": "markdown",
   "metadata": {},
   "source": [
    "## Editing and re-running code\n",
    "\n",
    "One nice thing about notebooks is that cells can be run, changed, and re-run. Run the cell below to see how it works. Then change the cell below to prompt the user for a number to convert before doing the conversion calculation. (Instead of hard-coding distance_k to be 5, get input from the user for the distance in kilometers.)"
   ]
  },
  {
   "cell_type": "code",
   "execution_count": null,
   "metadata": {},
   "outputs": [],
   "source": [
    "distance_k = 5\n",
    "distance_mi = distance_k / 1.60934\n",
    "print(distance_k, \"kilometers is\", distance_mi, \"miles\")"
   ]
  },
  {
   "cell_type": "markdown",
   "metadata": {},
   "source": [
    "## Exploring the interface / if you get stuck\n",
    "\n",
    "The menu bar above allows you to move cells around, to change their type, etc.\n",
    "\n",
    "In particular these buttons are helpful: <img src=\"https://storage.googleapis.com/141-files/jupyter-menu.png\"/>\n",
    "\n",
    "The \"Run\" button (▶) runs __all cells__ in the current notebook.\n",
    "\n",
    "There will be times where you write code that gets \"stuck.\" This usually happens when some code that you wrote is accidentally taking a long time to run (_e.g._, an [infinite loop](https://en.wikipedia.org/wiki/Infinite_loop), or Python is waiting for input. You can see when this is happening when cells have a `*` next to them; this means that the cell is waiting to run.\n",
    "\n",
    "To fix this, the ⏹ button \"interrupts\" the Python instance and stops whatever is currently running. \n",
    "\n",
    "The button that looks like the \"refresh\" symbol (🔄) restarts the current Python instance. This ends execution of whatever is running and restarts Python, meaning that all variables are forgotten.\n",
    "\n",
    "If your notebook is in a state where one cell is running for a very long time, use one of those two buttons to fix it.\n",
    "\n",
    "Finally, the drop-down menu allows you to change a cell from code to markdown and back.\n",
    "\n",
    "You can read a little bit more [here](https://matthewlang.github.io/comp141/using_ok.html#fixing-stuck-notebooks), including a short video of how to fix a stuck notebook.\n",
    "\n",
    "**In the cell below, write what you should do when your notebook cell has a `*` next to it and doesn't seem to be doing anything.**"
   ]
  },
  {
   "cell_type": "markdown",
   "metadata": {},
   "source": [
    "*Your answer here!* Double-click this text to edit the cell."
   ]
  },
  {
   "cell_type": "markdown",
   "metadata": {},
   "source": [
    "## Running programs\n",
    "\n",
    "You can also run programs from notebooks. In this same folder, you should see a program named `hello_world.py`. Edit that program to print your name, then run the cell below!\n",
    "\n",
    "_Make sure you save your changes to the program first!_"
   ]
  },
  {
   "cell_type": "code",
   "execution_count": null,
   "metadata": {},
   "outputs": [],
   "source": [
    "%run hello_world.py"
   ]
  },
  {
   "cell_type": "markdown",
   "metadata": {},
   "source": [
    "## Turn it in!\n",
    "\n",
    "Another nice thing about the way we will use notebooks in this class is that you check and turn in your programs directly from a notebook! If you run the cells below, you will submit this assignment to [okpy.org](https://okpy.org). You should have already received an enrollment request from me to join the course. If you have not yet done so, you'll have to do that now.\n",
    "\n",
    "[okpy.org](https://okpy.org) requires a Google account to log in. If you don't have one, you can use your Rhodes email to create an associated Google account by clicking \"Use my current email address instead\" when [creating an account](https://accounts.google.com/signup/v2/webcreateaccount?&hl=en&gmb=exp&biz=false&flowName=GlifWebSignIn&flowEntry=SignUp)."
   ]
  },
  {
   "cell_type": "code",
   "execution_count": null,
   "metadata": {},
   "outputs": [],
   "source": [
    "# Run this cell to log in to okpy.org.\n",
    "# You will be prompted for a code to enter. Below this prompt, you'll see a url that you can click\n",
    "# to take you to okpy.org. Once you login via that link, you'll get the code to enter into the input box.\n",
    "from cs1.notebooks import *\n",
    "ok_login('lab00.ok')"
   ]
  },
  {
   "cell_type": "code",
   "execution_count": null,
   "metadata": {},
   "outputs": [],
   "source": [
    "# Now, run this cell to check your modification of the cell that sets b to a * 10!\n",
    "ok_runtests('lab00.ok', 'q1')\n",
    "# If you want, you can change b to some other value and see what happens when the test fails."
   ]
  },
  {
   "cell_type": "code",
   "execution_count": null,
   "metadata": {},
   "outputs": [],
   "source": [
    "# Finally, run this cell to submit! You can submit as many times as you like.\n",
    "ok_submit('lab00.ok')"
   ]
  },
  {
   "cell_type": "code",
   "execution_count": null,
   "metadata": {},
   "outputs": [],
   "source": []
  }
 ],
 "metadata": {
  "kernelspec": {
   "display_name": "Python 3",
   "language": "python",
   "name": "python3"
  },
  "language_info": {
   "codemirror_mode": {
    "name": "ipython",
    "version": 3
   },
   "file_extension": ".py",
   "mimetype": "text/x-python",
   "name": "python",
   "nbconvert_exporter": "python",
   "pygments_lexer": "ipython3",
   "version": "3.9.2"
  },
  "varInspector": {
   "cols": {
    "lenName": 16,
    "lenType": 16,
    "lenVar": 40
   },
   "kernels_config": {
    "python": {
     "delete_cmd_postfix": "",
     "delete_cmd_prefix": "del ",
     "library": "var_list.py",
     "varRefreshCmd": "print(var_dic_list())"
    },
    "r": {
     "delete_cmd_postfix": ") ",
     "delete_cmd_prefix": "rm(",
     "library": "var_list.r",
     "varRefreshCmd": "cat(var_dic_list()) "
    }
   },
   "types_to_exclude": [
    "module",
    "function",
    "builtin_function_or_method",
    "instance",
    "_Feature"
   ],
   "window_display": false
  }
 },
 "nbformat": 4,
 "nbformat_minor": 2
}
