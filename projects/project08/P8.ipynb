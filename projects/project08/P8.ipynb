{
 "cells": [
  {
   "cell_type": "markdown",
   "metadata": {
    "deletable": false,
    "editable": false
   },
   "source": [
    "# Project 8: Image Processing \n",
    "\n",
    "In this program, you will be using Python to load, edit, and write image files. Specifically, we will be applying _filters_ to images by modifying their pixel values.\n",
    "\n",
    "The image file format we will use in the lab is [PPM](http://netpbm.sourceforge.net/doc/ppm.html). PPM is an interesting picture format because it stores the RGB values for each pixel as numbers in a text file. For example, the following is a PPM image:\n",
    "\n",
    "```\n",
    "P3\n",
    "2 2\n",
    "255\n",
    "0   0   255    255 0   0\n",
    "255 0   0      0   0   255\n",
    "```\n",
    "\n",
    "This PPM image is a 2x2 pixel square, where the corners are alternating red and blue. In fact, if we wrote it to a file and displayed it, that's what we would see!\n",
    "\n",
    "<small>Of course, you will have to zoom way in in order to be able to see just 4 pixels...</small>"
   ]
  },
  {
   "cell_type": "code",
   "execution_count": null,
   "metadata": {
    "deletable": false,
    "editable": false
   },
   "outputs": [],
   "source": [
    "from cs1.ppm import display_ppm # the cs1.ppm library has a function to display ppm images.\n",
    "\n",
    "# Our simple PPM, as a string.\n",
    "s = \"\"\"P3\n",
    "2 2\n",
    "255\n",
    "0 0 255 255 0 0\n",
    "255 0 0 0 0 255\n",
    "\"\"\"\n",
    "\n",
    "# Write the string to a file.\n",
    "file = open('simple.ppm', 'w')\n",
    "file.write(s)\n",
    "file.close()\n",
    "\n",
    "# Display the image file.\n",
    "display_ppm('simple.ppm')"
   ]
  },
  {
   "cell_type": "markdown",
   "metadata": {},
   "source": [
    "## The PPM Image Format\n",
    "\n",
    "PPM encodes an image in a human-readable plain text file. This file is divided into two parts:\n",
    "\n",
    "* A __header__ that describes the image size and how color values are represented.\n",
    "* A __body__ that encodes the RGB values for each pixel in the image.\n",
    "\n",
    "Let's use a (slightly) larger example to illustrate these:\n",
    "\n",
    "```\n",
    "P3\n",
    "4 4\n",
    "255\n",
    "255 0   0       0   255 0      0   0   255    255 255 255\n",
    "0   0   0       255 0   0      0   255 0      0   0   255\n",
    "255 0   255     0   0   0      255 0   0      0   255 0\n",
    "0   255 255     255 0   255    0   0   0      255 0   0\n",
    "```\n",
    "\n",
    "\n",
    "### The PPM Header\n",
    "\n",
    "The PPM header is the first three uncommented lines in the file (PPM images can contain comments--just like Python, these are lines starting with `#`).\n",
    "\n",
    "```\n",
    "P3\n",
    "4 4\n",
    "255\n",
    "```\n",
    "\n",
    "* The first line (`P3`) specifies the file encoding--which _type_ of PPM image it is. There are several, but `P3` is the one that we will be using in this lab. So each file will always start with `P3`.\n",
    "* The second line specifies the width (columns) and height (rows) of the image. Our first image was a 2x2 image; this one is 4x4.\n",
    "* The last line indicates the maximum value for red, blue, and green values. We'll always use a max value of 255 (as we do in our cs1 graphics library).\n",
    "\n",
    "### The PPM Body\n",
    "\n",
    "Below the header is the body. In the body, the color values for each pixel are listed.\n",
    "\n",
    "```\n",
    "255 0   0       0   255 0      0   0   255    255 255 255\n",
    "0   0   0       255 0   0      0   255 0      0   0   255\n",
    "255 0   255     0   0   0      255 0   0      0   255 0\n",
    "0   255 255     255 0   255    0   0   0      255 0   0\n",
    "```\n",
    "\n",
    "Each line in the file represents one row in the image. On a line, each pixel is represented by three values between 0 and 255. So, the first pixel on row one in this image has the RGB value $(255, 0, 0)$. The second pixel has the value $(0, 255, 0)$.\n",
    "\n",
    "If we enlarged this image, it would look like this:\n",
    "\n",
    "<img src=\"https://storage.googleapis.com/141-files/fourbyfour.png\" width=200/>\n",
    "\n",
    "Of course, it is much smaller."
   ]
  },
  {
   "cell_type": "code",
   "execution_count": null,
   "metadata": {
    "deletable": false,
    "editable": false
   },
   "outputs": [],
   "source": [
    "from cs1.ppm import display_ppm\n",
    "\n",
    "display_ppm('test.ppm')"
   ]
  },
  {
   "cell_type": "markdown",
   "metadata": {},
   "source": [
    "There are a few PPM images in this folder. They are `lynx.ppm`, `rhodes.ppm`, `bclc.ppm`, `zelda.ppm`, `blobby.ppm`, `tommy.ppm`, `hounddogs.ppm`, and `joly.ppm`. The first 3 images are related the Rhodes, the last 5 images are some of the CS professors' pets.\n",
    "\n",
    "__Note:__ PPM is an inefficient format to begin with--images stored as PPM are orders of magnitude larger than images stored as JPG, for example--and my code for displaying them in a notebook is also currently inefficient, so displaying them is __slow__. You should expect ~10 seconds before the file `bclc.ppm` is rendered in the notebook."
   ]
  },
  {
   "cell_type": "code",
   "execution_count": null,
   "metadata": {},
   "outputs": [],
   "source": [
    "from cs1.ppm import display_ppm\n",
    "\n",
    "display_ppm('lynx.ppm')\n",
    "\n",
    "\n",
    "# uncomment/comment the following to see other test images!\n",
    "\n",
    "#display_ppm('rhodes.ppm')    # ~3s\n",
    "#display_ppm('bclc.ppm')      # ~10s\n",
    "#display_ppm('zelda.ppm')     # ~4s - this is Dr. Lang's cat Zelda\n",
    "#display_ppm('blobby.ppm')    # ~1s - Dr. Kirlin claims he is lame for having no pets,\n",
    "                              #  but has supplied us with his snowman: Blobby McPastaface\n",
    "#display_ppm(\"tommy.ppm\")     # ~4s - this is Dr. Welsh's pit bull Tommy\n",
    "#display_ppm(\"hounddogs.ppm\") # ~4s - these are Dr. Sanders dachshunds\n",
    "#display_ppm(\"joly.ppm\")      # ~4s - this is Dr. Superdock's dog Joly"
   ]
  },
  {
   "cell_type": "markdown",
   "metadata": {},
   "source": [
    "## Your Program\n",
    "\n",
    "You will write your program in `imgfilter.py`. Your program should begin by asking the user for the name of a PPM file. It will then ask the user for a filter to apply to the image. You'll implement the following filters:\n",
    "\n",
    "1. Negate red\n",
    "2. Negate green\n",
    "3. Negate blue\n",
    "4. Negate all\n",
    "5. Remove red\n",
    "6. Remove green\n",
    "7. Remove blue\n",
    "8. Flip horizontally\n",
    "9. Grayscale\n",
    "\n",
    "You program will then write a PPM file with the filter applied to the PPM file. The output file name should include the modifications made to the file.\n",
    "\n",
    "## Getting Started\n",
    "\n",
    "First, we will implement a function that makes an output file name based on the filter that was applied. Open the file `imgfilter.py`. Start by writing the `make_output_filename` function.\n",
    "\n",
    "To test your function, you can run it below! Write a few of your own tests."
   ]
  },
  {
   "cell_type": "code",
   "execution_count": null,
   "metadata": {
    "deletable": false,
    "editable": false
   },
   "outputs": [],
   "source": [
    "# This imports all the functions in your file so that they can be used in the notebook.\n",
    "from cs1.notebooks import *\n",
    "reload_functions('imgfilter.py')\n",
    "\n",
    "print(make_output_filename('rhodes.ppm', 9)) # should print rhodes_grayscale.ppm\n",
    "print(make_output_filename('lynx.ppm', 1)) # should print lynx_negate_red.ppm"
   ]
  },
  {
   "cell_type": "code",
   "execution_count": null,
   "metadata": {},
   "outputs": [],
   "source": [
    "# Write your own tests here."
   ]
  },
  {
   "cell_type": "code",
   "execution_count": null,
   "metadata": {
    "deletable": false,
    "editable": false
   },
   "outputs": [],
   "source": [
    "# Runs a set of tests against make_output_filename.\n",
    "from cs1.notebooks import *\n",
    "ok_runtests('p8.ok', 'q1')"
   ]
  },
  {
   "cell_type": "markdown",
   "metadata": {},
   "source": [
    "Next, we'll implement functions to negate pixels, flatten pixels (remove a color), convert to grayscale, and flip them horizontally.\n",
    "\n",
    "__Make sure you read the comments in the functions!__\n",
    "\n",
    "The function comments tell you __what__ the function is supposed to do and the normal comments inside the function tell you __how__ to do it.\n",
    "\n",
    "You can test your functions by running them from the notebook. Make sure that you write a few of your own tests."
   ]
  },
  {
   "cell_type": "code",
   "execution_count": null,
   "metadata": {
    "deletable": false,
    "editable": false
   },
   "outputs": [],
   "source": [
    "from cs1.notebooks import *\n",
    "reload_functions('imgfilter.py')\n",
    "\n",
    "print(negate([1, 2, 3, 200, 100, 150])) # should return [254, 253, 252, 55, 155, 105]"
   ]
  },
  {
   "cell_type": "code",
   "execution_count": null,
   "metadata": {},
   "outputs": [],
   "source": [
    "# Write your own negate tests here."
   ]
  },
  {
   "cell_type": "code",
   "execution_count": null,
   "metadata": {
    "deletable": false,
    "editable": false
   },
   "outputs": [],
   "source": [
    "from cs1.notebooks import *\n",
    "reload_functions('imgfilter.py')\n",
    "\n",
    "print(flatten([1, 2, 3, 200, 100, 150])) # should return [0, 0, 0, 0, 0, 0]"
   ]
  },
  {
   "cell_type": "code",
   "execution_count": null,
   "metadata": {},
   "outputs": [],
   "source": [
    "# Write your own flatten tests here."
   ]
  },
  {
   "cell_type": "code",
   "execution_count": null,
   "metadata": {
    "deletable": false,
    "editable": false
   },
   "outputs": [],
   "source": [
    "from cs1.notebooks import *\n",
    "reload_functions('imgfilter.py')\n",
    "\n",
    "print(flip([1, 2, 3, 200, 100, 150])) # should return [150, 100, 200, 3, 2, 1]"
   ]
  },
  {
   "cell_type": "code",
   "execution_count": null,
   "metadata": {},
   "outputs": [],
   "source": [
    "# Write your own flip tests here."
   ]
  },
  {
   "cell_type": "code",
   "execution_count": null,
   "metadata": {
    "deletable": false,
    "editable": false
   },
   "outputs": [],
   "source": [
    "from cs1.notebooks import *\n",
    "reload_functions('imgfilter.py')\n",
    "\n",
    "print(grayscale([1, 200], [2, 100], [3, 150])) # should return [2, 150]"
   ]
  },
  {
   "cell_type": "code",
   "execution_count": null,
   "metadata": {},
   "outputs": [],
   "source": [
    "# Write your own grayscale tests here."
   ]
  },
  {
   "cell_type": "code",
   "execution_count": null,
   "metadata": {
    "deletable": false,
    "editable": false
   },
   "outputs": [],
   "source": [
    "# Runs a set of tests against your filters.\n",
    "from cs1.notebooks import *\n",
    "ok_runtests('p8.ok', 'q2')"
   ]
  },
  {
   "cell_type": "markdown",
   "metadata": {},
   "source": [
    "Next, write the functions `process_header` and `process_body`. Read the pseudocode to determine how each one should work. These 2 functions cannot be tested separately, so to test them, you'll need to run the entire program. You can run your full program using the cell below.\n",
    "\n",
    "Once you get the process functions working, add an input validation loop in main() to ensure that the user enters a valid modification value. Be sure to re-test your program and ensure that your input validation loop is working properly."
   ]
  },
  {
   "cell_type": "code",
   "execution_count": null,
   "metadata": {
    "deletable": false,
    "editable": false
   },
   "outputs": [],
   "source": [
    "# Run your full program. I suggest using the smaller images (rhodes.ppm and lynx.ppm) to start with.\n",
    "%run imgfilter.py"
   ]
  },
  {
   "cell_type": "markdown",
   "metadata": {},
   "source": [
    "#### What your output should look like\n",
    "\n",
    "Here's a reference output for the `bclc.ppm` image.\n",
    "\n",
    "<table>\n",
    "    <tr>\n",
    "        <td><img src=\"https://storage.googleapis.com/141-files/bclc_negate_red.jpg\" width=200/><br>negate red\n",
    "        <td><img src=\"https://storage.googleapis.com/141-files/bclc_negate_green.jpg\" width=200/><br>negate green\n",
    "        <td><img src=\"https://storage.googleapis.com/141-files/bclc_negate_blue.jpg\" width=200/><br>negate blue\n",
    "    </tr>\n",
    "    <tr>\n",
    "        <td><img src=\"https://storage.googleapis.com/141-files/bclc_remove_red.jpg\" width=200/><br>remove red\n",
    "        <td><img src=\"https://storage.googleapis.com/141-files/bclc_remove_green.jpg\" width=200/><br>remove green\n",
    "        <td><img src=\"https://storage.googleapis.com/141-files/bclc_remove_blue.jpg\" width=200/><br>remove blue\n",
    "    </tr>\n",
    "    <tr>\n",
    "        <td><img src=\"https://storage.googleapis.com/141-files/bclc_negate_all.jpg\" width=200/><br>negate all\n",
    "        <td><img src=\"https://storage.googleapis.com/141-files/bclc_flip_horizontally.jpg\" width=200/><br>flip horizontally\n",
    "        <td><img src=\"https://storage.googleapis.com/141-files/bclc_grayscale.jpg\" width=200/><br>grayscale\n",
    "    </tr>\n",
    "</table>"
   ]
  },
  {
   "cell_type": "code",
   "execution_count": null,
   "metadata": {
    "deletable": false,
    "editable": false
   },
   "outputs": [],
   "source": [
    "# Run this cell to submit.\n",
    "# Submit as frequently as you like; I will only grade the last submission.\n",
    "from cs1.notebooks import *\n",
    "ok_submit('p8.ok')"
   ]
  },
  {
   "cell_type": "markdown",
   "metadata": {},
   "source": [
    "## Additional Challenges\n",
    "\n",
    "Try implementing different filters! See if you can duplicate an Instagram filter... many of them are easily duplicated by just \"warming\" or \"cooling\" an image (reducing the red or blue channels, respectively). Please include comments to make it easy for the graders to see what additional challenges you completed.\n",
    "\n",
    "Remember, you can submit as many times as you like!"
   ]
  }
 ],
 "metadata": {
  "kernelspec": {
   "display_name": "Python 3 (ipykernel)",
   "language": "python",
   "name": "python3"
  },
  "language_info": {
   "codemirror_mode": {
    "name": "ipython",
    "version": 3
   },
   "file_extension": ".py",
   "mimetype": "text/x-python",
   "name": "python",
   "nbconvert_exporter": "python",
   "pygments_lexer": "ipython3",
   "version": "3.9.10"
  },
  "varInspector": {
   "cols": {
    "lenName": 16,
    "lenType": 16,
    "lenVar": 40
   },
   "kernels_config": {
    "python": {
     "delete_cmd_postfix": "",
     "delete_cmd_prefix": "del ",
     "library": "var_list.py",
     "varRefreshCmd": "print(var_dic_list())"
    },
    "r": {
     "delete_cmd_postfix": ") ",
     "delete_cmd_prefix": "rm(",
     "library": "var_list.r",
     "varRefreshCmd": "cat(var_dic_list()) "
    }
   },
   "types_to_exclude": [
    "module",
    "function",
    "builtin_function_or_method",
    "instance",
    "_Feature"
   ],
   "window_display": false
  }
 },
 "nbformat": 4,
 "nbformat_minor": 2
}
