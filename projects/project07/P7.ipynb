{
 "cells": [
  {
   "cell_type": "markdown",
   "metadata": {
    "deletable": false,
    "editable": false
   },
   "source": [
    "# Project 7: The Strange Garden\n",
    "Computer science, while fun, is not something you can do 24/7. Keeping up with hobbies is important, so you decide to take up gardening as a new hobby. You know nothing about growing plants, however, so you decide to visit a new flower shop in your neighborhood.\n",
    "\n",
    "The shop owner seems a bit strange, however, and sells you some plants you've never seen before, known only as \"Plant A\" and \"Plant B\". The shop owner tells you that these plants grow in specific ways according to a strange set of rules. In this project, you will develop a computer program that shows how the plants grow."
   ]
  },
  {
   "cell_type": "markdown",
   "metadata": {
    "deletable": false,
    "editable": false
   },
   "source": [
    "## Rules for the plants\n",
    "The shopkeeper tells you some basic rules for the two kinds of Plants, Plant A and Plant B.\n",
    "\n",
    "Each plant type is always planted separately from the other type (A and B). The two types never grow together.\n",
    "Each plant is planted in straight rows of individual plants.\n",
    "The plants grow in what are called generations: every day the plants grow and change in size according to the rules below."
   ]
  },
  {
   "cell_type": "markdown",
   "metadata": {
    "deletable": false,
    "editable": false
   },
   "source": [
    "<hr>"
   ]
  },
  {
   "cell_type": "markdown",
   "metadata": {
    "deletable": false,
    "editable": false
   },
   "source": [
    "## Plant A\n",
    "Every plant in a row of Plant A will always be either \"alive\" or \"dormant\". This plant has a very simple growing pattern that is based on its neighboring plants:\n",
    "\n",
    "* If a plant is alive and exactly one of its two neighboring plants (the plants to the immediate left and right) are also alive, then it will stay alive in the next generation.\n",
    "* If a plant is alive and both of its two neighboring plants are alive, then it will become dormant in the next generation due to overcrowding.\n",
    "* If a plant is alive and both of its two neighboring plants are dormant, then it will become dormant in the next generation due to loneliness.\n",
    "* If a plant is dormant and exactly one of its two neighboring plants are alive, then it regenerates and becomes alive in the next generation.\n",
    "* If a plant is dormant and its two neighboring plants are both alive or both dormant, then it stays dormant in the next generation.\n",
    "* Note 1: All the plants in the row change to the next generation at the same time.\n",
    "* Note 2: The plant on the far left and the plant on the far right of the row have only one neighbor, so these rules do not apply to them: they will always be dormant.\n",
    "\n",
    "Let's examine a few generations of Plant A. Suppose we have a row of eight plants. We represent an alive plant with an asterisk (*), and a dormant plant with a period (.). To make it easier to talk about the plants, let's number them from left to right, starting with 0. Suppose the plants begin like this:\n",
    "```\n",
    "01234567  <-- Plant numbers\n",
    ".***..*.  <-- Plant status\n",
    "```\n",
    "\n",
    "To figure out what happens at the next generation, let's examine the plants from left to right.\n",
    "\n",
    "* Plant 0 is on the far left, so it always stays dormant.\n",
    "* Plant 1 is alive and has exactly one alive neighbor, so it will remain alive in the next generation.\n",
    "* Plant 2 is also alive, but both of its neighbors are alive, so it will become dormant in the next generation.\n",
    "* Plant 3, like plant 1, is alive and has exactly one alive neighbor, so it will remain alive.\n",
    "* Plant 4 is dormant, but it has exactly one alive neighbor, so it will regenerate and become alive in the next generation.\n",
    "* Plant 5 is similar to plant 4 (dormant, but has one alive neighbor), so it will also become alive.\n",
    "* Plant 6 is alive, but has no alive neighbors, so it will become dormant in the next generation.\n",
    "* Plant 7 is on the far right, so it always stays dormant.\n",
    "\n",
    "So the first two generation of plants in the row looks like this, with the initial generation on top and the second generation below.\n",
    "```\n",
    "01234567\n",
    ".***..*.\n",
    ".*.***..\n",
    "```\n",
    "\n",
    "If we apply the same rules again, we end up with the third generation of plants, which when added below the first two generations, looks like this:\n",
    "```\n",
    "01234567\n",
    ".***..*.\n",
    ".*.***..\n",
    "...*.**.\n",
    "```"
   ]
  },
  {
   "cell_type": "markdown",
   "metadata": {
    "deletable": false,
    "editable": false
   },
   "source": [
    "<hr>"
   ]
  },
  {
   "cell_type": "markdown",
   "metadata": {},
   "source": [
    "## Plant B\n",
    "\n",
    "The shopkeeper has warned you that Plant B is trickier than Plant A.\n",
    "\n",
    "* While Plant A only has two states (alive and dormant), Plant B has three states, because Plant B can grow to be two different sizes while alive: big and small. So the three states are big, small, and dormant.\n",
    "* While Plant A's growth pattern is based on itself and its immediate left and right neighbors, Plant B is allowed to look at a flexible number of neighbors on either side. We call this the neighborhood. Plant A always uses a neighborhood of 1, which means it looks at 1 neighboring plant on either side. Plant B is allowed to use a neighborhood of any integer size. For instance, a neighborhood of 2 means that every Plant B is allowed to consider itself, plus the two plants to its left and the two plants to its right to figure out what it does in the next generation.\n",
    "* Plant B's growth pattern is based off of whether or not the total number of alive plants - big or small - in the neighborhood is even or odd. Whenever the number of alive plants in the neighborhood is odd, then the plant will grow bigger (changing from dormant to small, or small to big). When the number of alive plants in the neighborhood is even, then the plant will grow smaller (changing from big to small, or small to dormant). More specifically:\n",
    "* If a plant is big, and the number of alive plants in the neighborhood is odd, then it will stay big in the next generation (since it can't grow any bigger).\n",
    "* If a plant is big, and the number of alive plants in the neighborhood is even, then it will change to small in the next generation.\n",
    "* If a plant is small, and the number of alive plants in the neighborhood is odd, then it will change to big in the next generation.\n",
    "* If a plant is small, and the number of alive plants in the neighborhood is even, then it will change to dormant in the next generation.\n",
    "* If a plant is dormant, and the number of alive plants in the neighborhood is odd, then it will change to small in the next generation.\n",
    "* If a plant is dormant, and the number of alive plants in the neighborhood is even, then it will stay dormant in the next generation (since it can't get any smaller).\n",
    "* Plants on the far left and the far right sides of a row that do not have a full neighborhood are always dormant in all generations. In other words, for a neighborhood of 1, the single far left and far right plants are always dormant (like with Plant A). For a neighborhood of 2, the two far left and far right plants are always dormant.\n",
    "\n",
    "Let's examine a few generations of Plant B, with a neighborhood of 1. Suppose we have a row of eight plants. We represent a big plant with a caret (^), a small plant with an asterisk (*), and a dormant plant with a period (.). Suppose the plants begin like this:\n",
    "```\n",
    "01234567\n",
    ".^*.^.*.\n",
    "```\n",
    "\n",
    "Here's how we compute the next generation:\n",
    "* Plant 0 is on the far left and doesn't have a full neighborhood, so it stays dormant.\n",
    "* Plant 1 is big, and the total number of alive plants (big or small) within its neighborhood is 2 (itself, plus the small plant on the right). Because 2 is even, this plant will become small in the next generation.\n",
    "* Plant 2 is similar in that the total number of alive plants in its neighborhood is 2 (itself and the big plant to the left). Because 2 is even and this plant is already small, it will become dormant in the next generation.\n",
    "* Plant 3 has a similar neighborhood (2 alive plants). But it is already dormant, so it will stay dormant.\n",
    "* Plant 4 has a neighborhood with 1 alive plant (itself). Because 1 is odd, this plant will stay big in the next generation.\n",
    "* Plant 5 has a neighborhood with 2 alive plants. This plant is dormant, and 2 is even, so this plant will stay dormant.\n",
    "* Plant 6 has a neighborhood with 1 alive plant. This plant is small, so it will grow to big in the next generation.\n",
    "* Plant 7 is the far right plant without a full neighborhood, so it will stay dormant.\n",
    "\n",
    "So the first two generations look like this:\n",
    "```\n",
    "01234567\n",
    ".^*.^.*.\n",
    ".*..^.^.\n",
    "```\n",
    "\n",
    "Adding in a third generation, we get this:\n",
    "```\n",
    "01234567\n",
    ".^*.^.*.\n",
    ".*..^.^.\n",
    ".^**^.^.\n",
    "```"
   ]
  },
  {
   "cell_type": "markdown",
   "metadata": {},
   "source": [
    "<hr>"
   ]
  },
  {
   "cell_type": "markdown",
   "metadata": {},
   "source": [
    "# How your program will work\n",
    "\n",
    "You will write a program that asks the user whether they are growing Plant A or B, along with the initial plant configuration, and how many generations the user wants to see. Then you will simulate the growth of the row of plants for the specified number of generations, showing each generation, along with various statistics.\n",
    "\n",
    "You can scroll to the bottom of the notebook to look at sample interactions for the final program, but it will look something like this:\n",
    "\n",
    "```\n",
    "Are you growing plant A or B? A\n",
    "What is the starting garden? .***..*.\n",
    "How many dormant plants are on either side? 0\n",
    "How many generations do you want to see? (not including the first) 5\n",
    ".***..*. 4 4\n",
    ".*.***.. 4 4\n",
    "...*.**. 5 3\n",
    "..*..**. 5 3\n",
    ".*.****. 3 5\n",
    "...*..*. 6 2\n",
    "```\n",
    "\n",
    "We will build this program incrementally, by starting with small, simple functions, and combining them to create a larger, more sophisticated program.\n",
    "\n",
    "\n",
    "## Step 1: Look over the starter code\n",
    "\n",
    "Begin by looking at `garden.py`. It contains starter code. Read it over and familiarize yourself with it. The program will come together by writing a series of functions.\n",
    "\n",
    "<hr>\n",
    "\n",
    "\n",
    "## Step 2: Write `count_small`, `count_big`, and `count_dormant`\n",
    "\n",
    "Write the functions `count_small`, `count_big`, and `count_dormant` in `garden.py`. They should be self-descriptive from their names and the comments in the code, and they all work in a similar way.\n",
    "\n",
    "Test these functions from the Python by calling them manually with different garden configurations. All three of these functions should work fine with either plant A or plant B. Run the cells below to test each function.\n",
    "\n",
    "__Note:__ For full credit on the project, you must write additional tests for each function. It is easy to generate new tests. For example, try different size strings, or configurations with no/all plants in some state.  You should\n",
    "verify your functions work correctly for the tests you write."
   ]
  },
  {
   "cell_type": "code",
   "execution_count": null,
   "metadata": {},
   "outputs": [],
   "source": [
    "from cs1.notebooks import *\n",
    "reload_functions('garden.py')\n",
    "\n",
    "print(count_dormant(\"..*^.^^...***.\")) #should output 7"
   ]
  },
  {
   "cell_type": "code",
   "execution_count": null,
   "metadata": {},
   "outputs": [],
   "source": [
    "from cs1.notebooks import *\n",
    "reload_functions('garden.py')\n",
    "\n",
    "# Write at least two more tests here for count_dormant.\n"
   ]
  },
  {
   "cell_type": "code",
   "execution_count": null,
   "metadata": {},
   "outputs": [],
   "source": [
    "from cs1.notebooks import *\n",
    "reload_functions('garden.py')\n",
    "\n",
    "print(count_small(\"..*^.^^...***.\")) #should output 4"
   ]
  },
  {
   "cell_type": "code",
   "execution_count": null,
   "metadata": {},
   "outputs": [],
   "source": [
    "from cs1.notebooks import *\n",
    "reload_functions('garden.py')\n",
    "\n",
    "# Write at least two more tests here for count_small.\n"
   ]
  },
  {
   "cell_type": "code",
   "execution_count": null,
   "metadata": {},
   "outputs": [],
   "source": [
    "from cs1.notebooks import *\n",
    "reload_functions('garden.py')\n",
    "\n",
    "print(count_big(\"..*^.^^...***.\")) #should output 3"
   ]
  },
  {
   "cell_type": "code",
   "execution_count": null,
   "metadata": {},
   "outputs": [],
   "source": [
    "from cs1.notebooks import *\n",
    "reload_functions('garden.py')\n",
    "\n",
    "# Write at least two more tests here for count_big.\n"
   ]
  },
  {
   "cell_type": "markdown",
   "metadata": {},
   "source": [
    "## Step 3: Write `next_generation_A`\n",
    "\n",
    "Write the function `next_generation_A` in `garden.py`. This function takes one argument, which is the current generation of a row of plants (which we call a garden). See the comments in the starter code to help you.\n",
    "When you’re finished, test the code in the cell below. Here are some examples (the same three generations used above for Plant A). __You should also make up your own test cases (make up some garden strings):__"
   ]
  },
  {
   "cell_type": "code",
   "execution_count": null,
   "metadata": {},
   "outputs": [],
   "source": [
    "from cs1.notebooks import *\n",
    "reload_functions('garden.py')\n",
    "\n",
    "print(next_generation_A(\".***..*.\"))    # should output .*.***..\n",
    "print(next_generation_A(\".*.***..\"))    # should output ...*.**.\n",
    "print(next_generation_A(\".*.*****.*.\")) # should output ...*...*..."
   ]
  },
  {
   "cell_type": "code",
   "execution_count": null,
   "metadata": {},
   "outputs": [],
   "source": [
    "from cs1.notebooks import *\n",
    "reload_functions('garden.py')\n",
    "\n",
    "# Write at least two more tests here for next_generation_A.\n"
   ]
  },
  {
   "cell_type": "markdown",
   "metadata": {},
   "source": [
    "## Step 4: Write `run_garden_A`\n",
    "\n",
    "Now jump down to the `run_garden_A` function in `garden.py` and write some code to get Plant A to run.  You will write Plant B later.  Read the comments in the code to guide you. Once Plant A is running, test the output thoroughly. \n",
    "\n",
    "There are some sample tests below. Run them to match the test output.\n",
    "\n",
    "#### Test output 1\n",
    "```\n",
    ".***..*. 4 4\n",
    ".*.***.. 4 4\n",
    "...*.**. 5 3\n",
    "..*..**. 5 3\n",
    ".*.****. 3 5\n",
    "...*..*. 6 2\n",
    "```"
   ]
  },
  {
   "cell_type": "code",
   "execution_count": null,
   "metadata": {
    "tags": [
     "#A1"
    ]
   },
   "outputs": [],
   "source": [
    "# Test 1\n",
    "from cs1.notebooks import *\n",
    "reload_functions('garden.py')\n",
    "\n",
    "run_garden_A(\".***..*.\", 5)"
   ]
  },
  {
   "cell_type": "markdown",
   "metadata": {},
   "source": [
    "#### Test output 2\n",
    "```\n",
    "................................*................................ 64 1\n",
    "...............................*.*............................... 63 2\n",
    "..............................*...*.............................. 63 2\n",
    ".............................*.*.*.*............................. 61 4\n",
    "............................*.......*............................ 63 2\n",
    "...........................*.*.....*.*........................... 61 4\n",
    "..........................*...*...*...*.......................... 61 4\n",
    ".........................*.*.*.*.*.*.*.*......................... 57 8\n",
    "........................*...............*........................ 63 2\n",
    ".......................*.*.............*.*....................... 61 4\n",
    "......................*...*...........*...*...................... 61 4\n",
    ".....................*.*.*.*.........*.*.*.*..................... 57 8\n",
    "....................*.......*.......*.......*.................... 61 4\n",
    "...................*.*.....*.*.....*.*.....*.*................... 57 8\n",
    "..................*...*...*...*...*...*...*...*.................. 57 8\n",
    ".................*.*.*.*.*.*.*.*.*.*.*.*.*.*.*.*................. 49 16\n",
    "```"
   ]
  },
  {
   "cell_type": "code",
   "execution_count": null,
   "metadata": {
    "tags": [
     "#A2"
    ]
   },
   "outputs": [],
   "source": [
    "# Test 2\n",
    "from cs1.notebooks import *\n",
    "reload_functions('garden.py')\n",
    "\n",
    "run_garden_A(\"................................*................................\", 15)"
   ]
  },
  {
   "cell_type": "markdown",
   "metadata": {},
   "source": [
    "__For full credit, write a test of your own.__"
   ]
  },
  {
   "cell_type": "code",
   "execution_count": null,
   "metadata": {
    "tags": [
     "#A3"
    ]
   },
   "outputs": [],
   "source": [
    "from cs1.notebooks import *\n",
    "reload_functions('garden.py')\n",
    "\n",
    "# write your own tests here!"
   ]
  },
  {
   "cell_type": "markdown",
   "metadata": {},
   "source": [
    "<hr>"
   ]
  },
  {
   "cell_type": "markdown",
   "metadata": {},
   "source": [
    "## Step 5: Write `next_generation_B`\n",
    "\n",
    "Now go back and write `next_generation_B`. Follow the directions in the code.  Run the cell below to test this function with various gardens and neighborhood sizes. Write additional tests in the cell below."
   ]
  },
  {
   "cell_type": "code",
   "execution_count": null,
   "metadata": {},
   "outputs": [],
   "source": [
    "from cs1.notebooks import *\n",
    "reload_functions('garden.py')\n",
    "\n",
    "print(next_generation_B(\".^*.^.*.\", 1)) # '.*..^.^.'\n",
    "print(next_generation_B(\".*..^.^.\", 1)) # '.^**^.^.'\n",
    "print(next_generation_B(\"......*......\", 1)) # '.....*^*.....'\n",
    "print(next_generation_B(\".....*^*.....\", 1)) # '....*.^.*....'\n",
    "print(next_generation_B(\"......*......\", 2)) # '....**^**....'\n",
    "print(next_generation_B(\"....**^**....\", 2)) # '..*.^.^.^.*..'\n",
    "print(next_generation_B(\"......*......\", 3)) # '...***^***...'\n",
    "print(next_generation_B(\"...***^***...\", 3)) # '....^.^.^....'"
   ]
  },
  {
   "cell_type": "code",
   "execution_count": null,
   "metadata": {},
   "outputs": [],
   "source": [
    "from cs1.notebooks import *\n",
    "reload_functions('garden.py')\n",
    "\n",
    "# Write at least four more tests here for next_generation_B.\n"
   ]
  },
  {
   "cell_type": "markdown",
   "metadata": {},
   "source": [
    "## Step 6: Write `run_garden_B`\n",
    "\n",
    "Now jump down to `run_garden_B` to get Plant B to work and test your program. This function should be very similar to the `run_garden_A`!"
   ]
  },
  {
   "cell_type": "markdown",
   "metadata": {},
   "source": [
    "#### Test output 1\n",
    "```\n",
    ".^*.^.*. 4 2 2\n",
    ".*..^.^. 5 1 2\n",
    ".^**^.^. 3 2 3\n",
    ".*^^*.^. 3 2 3\n",
    "..^^..^. 5 0 3\n",
    ".*****^. 2 5 1\n",
    "```"
   ]
  },
  {
   "cell_type": "code",
   "execution_count": null,
   "metadata": {
    "deletable": false,
    "editable": false,
    "tags": [
     "#B1"
    ]
   },
   "outputs": [],
   "source": [
    "# Test 1\n",
    "from cs1.notebooks import *\n",
    "reload_functions('garden.py')\n",
    "\n",
    "run_garden_B(\".^*.^.*.\", 1, 5)"
   ]
  },
  {
   "cell_type": "markdown",
   "metadata": {},
   "source": [
    "#### Test output 2\n",
    "\n",
    "```\n",
    "....................*.................... 40 1 0\n",
    "..................**^**.................. 36 4 1\n",
    "................*.^.^.^.*................ 36 2 3\n",
    "..............**..^.^.^..**.............. 34 4 3\n",
    "............*...*.*.^.*.*...*............ 34 6 1\n",
    "..........**^*.*..^.^.^..*.*^**.......... 28 8 5\n",
    "........*.^.*.*...*.^.*...*.*.^.*........ 30 8 3\n",
    "```"
   ]
  },
  {
   "cell_type": "code",
   "execution_count": null,
   "metadata": {
    "deletable": false,
    "editable": false,
    "tags": [
     "#B2"
    ]
   },
   "outputs": [],
   "source": [
    "# Test 2\n",
    "from cs1.notebooks import *\n",
    "reload_functions('garden.py')\n",
    "\n",
    "run_garden_B(\"....................*....................\", 2, 6)"
   ]
  },
  {
   "cell_type": "markdown",
   "metadata": {},
   "source": [
    "#### Test output 3\n",
    "```\n",
    "....^^*^*...**..***.^.***..**...*^*^^.... 20 14 7\n",
    "...**^^^...*.^.*...*^*...*.^.*...^^^**... 22 10 9\n",
    "....^^^*.**.*^*.**.^^^.**.*^*.**.*^^^.... 16 14 11\n",
    "...***^.*^^*^^^*^^*^^^*^^*^^^*^^*.^***... 8 14 19\n",
    ".....^*..**^^^^^^^^^^^^^^^^^^^**..*^..... 14 6 21\n",
    ".....*^.*^^*^^^^^^^^^^^^^^^^^*^^*.^*..... 12 6 23\n",
    ".....^**.**^^^^^^^^^^^^^^^^^^^**.**^..... 12 8 21\n",
    "....*^.^...*^^^^^^^^^^^^^^^^^*...^.^*.... 16 4 21\n",
    "```"
   ]
  },
  {
   "cell_type": "code",
   "execution_count": null,
   "metadata": {
    "deletable": false,
    "editable": false,
    "tags": [
     "#B3"
    ]
   },
   "outputs": [],
   "source": [
    "# Test 3\n",
    "from cs1.notebooks import *\n",
    "reload_functions('garden.py')\n",
    "\n",
    "run_garden_B(\"....^^*^*...**..***.^.***..**...*^*^^....\", 3, 7)"
   ]
  },
  {
   "cell_type": "markdown",
   "metadata": {},
   "source": [
    "__For full credit, write a test of your own.__"
   ]
  },
  {
   "cell_type": "code",
   "execution_count": null,
   "metadata": {
    "tags": [
     "#B4"
    ]
   },
   "outputs": [],
   "source": [
    "from cs1.notebooks import *\n",
    "reload_functions('garden.py')\n",
    "\n",
    "# write your own tests here!"
   ]
  },
  {
   "cell_type": "markdown",
   "metadata": {},
   "source": [
    "<hr>\n",
    "\n",
    "## Step 7: Make the program interactive\n",
    "\n",
    "Now, implement `main` to make your program interactive. The cell below will run your program. Your program should be able to match the sample interactions below.\n",
    "\n",
    "When your program output matches mine on all 6 test outputs below (2 for Plant A and 4 for Plant B), you can be reasonably sure everything works. Note that I will be testing your program with other inputs as well, so your code should work for any starting garden configuration and any neighborhood size for Plant B."
   ]
  },
  {
   "cell_type": "code",
   "execution_count": null,
   "metadata": {
    "deletable": false,
    "editable": false
   },
   "outputs": [],
   "source": [
    "%run garden.py"
   ]
  },
  {
   "cell_type": "markdown",
   "metadata": {},
   "source": [
    "#### Plant A, Test 1\n",
    "```\n",
    "Are you growing plant A or B? A\n",
    "What is the starting garden? .***..*.\n",
    "How many dormant plants are on either side? 0\n",
    "How many generations do you want to see? (not including the first) 5\n",
    ".***..*. 4 4\n",
    ".*.***.. 4 4\n",
    "...*.**. 5 3\n",
    "..*..**. 5 3\n",
    ".*.****. 3 5\n",
    "...*..*. 6 2\n",
    "```\n",
    "\n",
    "#### Plant A, Test 2\n",
    "```\n",
    "Are you growing plant A or B? A\n",
    "What is the starting garden? *\n",
    "How many dormant plants are on either side? 32\n",
    "How many generations do you want to see? (not including the first) 32\n",
    "................................*................................ 64 1\n",
    "...............................*.*............................... 63 2\n",
    "..............................*...*.............................. 63 2\n",
    ".............................*.*.*.*............................. 61 4\n",
    "............................*.......*............................ 63 2\n",
    "...........................*.*.....*.*........................... 61 4\n",
    "..........................*...*...*...*.......................... 61 4\n",
    ".........................*.*.*.*.*.*.*.*......................... 57 8\n",
    "........................*...............*........................ 63 2\n",
    ".......................*.*.............*.*....................... 61 4\n",
    "......................*...*...........*...*...................... 61 4\n",
    ".....................*.*.*.*.........*.*.*.*..................... 57 8\n",
    "....................*.......*.......*.......*.................... 61 4\n",
    "...................*.*.....*.*.....*.*.....*.*................... 57 8\n",
    "..................*...*...*...*...*...*...*...*.................. 57 8\n",
    ".................*.*.*.*.*.*.*.*.*.*.*.*.*.*.*.*................. 49 16\n",
    "................*...............................*................ 63 2\n",
    "...............*.*.............................*.*............... 61 4\n",
    "..............*...*...........................*...*.............. 61 4\n",
    ".............*.*.*.*.........................*.*.*.*............. 57 8\n",
    "............*.......*.......................*.......*............ 61 4\n",
    "...........*.*.....*.*.....................*.*.....*.*........... 57 8\n",
    "..........*...*...*...*...................*...*...*...*.......... 57 8\n",
    ".........*.*.*.*.*.*.*.*.................*.*.*.*.*.*.*.*......... 49 16\n",
    "........*...............*...............*...............*........ 61 4\n",
    ".......*.*.............*.*.............*.*.............*.*....... 57 8\n",
    "......*...*...........*...*...........*...*...........*...*...... 57 8\n",
    ".....*.*.*.*.........*.*.*.*.........*.*.*.*.........*.*.*.*..... 49 16\n",
    "....*.......*.......*.......*.......*.......*.......*.......*.... 57 8\n",
    "...*.*.....*.*.....*.*.....*.*.....*.*.....*.*.....*.*.....*.*... 49 16\n",
    "..*...*...*...*...*...*...*...*...*...*...*...*...*...*...*...*.. 49 16\n",
    ".*.*.*.*.*.*.*.*.*.*.*.*.*.*.*.*.*.*.*.*.*.*.*.*.*.*.*.*.*.*.*.*. 33 32\n",
    "................................................................. 65 0\n",
    "```\n",
    "\n",
    "#### Plant B, Test 1\n",
    "```\n",
    "Are you growing plant A or B? B\n",
    "What is the starting garden? .^*.^.*.\n",
    "How many dormant plants are on either side? 0\n",
    "How many generations do you want to see? (not including the first) 5\n",
    "What is the neighborhood size? 1\n",
    ".^*.^.*. 4 2 2\n",
    ".*..^.^. 5 1 2\n",
    ".^**^.^. 3 2 3\n",
    ".*^^*.^. 3 2 3\n",
    "..^^..^. 5 0 3\n",
    ".*****^. 2 5 1\n",
    "```\n",
    "\n",
    "#### Plant B, Test 2\n",
    "```\n",
    "Are you growing plant A or B? B\n",
    "What is the starting garden? *\n",
    "How many dormant plants are on either side? 20\n",
    "How many generations do you want to see? (not including the first) 20\n",
    "What is the neighborhood size? 1\n",
    "....................*.................... 40 1 0\n",
    "...................*^*................... 38 2 1\n",
    "..................*.^.*.................. 38 2 1\n",
    ".................*^.^.^*................. 36 2 3\n",
    "................*.*.^.*.*................ 36 4 1\n",
    "...............*^.^.^.^.^*............... 34 2 5\n",
    "..............*.*.^.^.^.*.*.............. 34 4 3\n",
    ".............*^.^.^.^.^.^.^*............. 32 2 7\n",
    "............*.*.^.^.^.^.^.*.*............ 32 4 5\n",
    "...........*^.^.^.^.^.^.^.^.^*........... 30 2 9\n",
    "..........*.*.^.^.^.^.^.^.^.*.*.......... 30 4 7\n",
    ".........*^.^.^.^.^.^.^.^.^.^.^*......... 28 2 11\n",
    "........*.*.^.^.^.^.^.^.^.^.^.*.*........ 28 4 9\n",
    ".......*^.^.^.^.^.^.^.^.^.^.^.^.^*....... 26 2 13\n",
    "......*.*.^.^.^.^.^.^.^.^.^.^.^.*.*...... 26 4 11\n",
    ".....*^.^.^.^.^.^.^.^.^.^.^.^.^.^.^*..... 24 2 15\n",
    "....*.*.^.^.^.^.^.^.^.^.^.^.^.^.^.*.*.... 24 4 13\n",
    "...*^.^.^.^.^.^.^.^.^.^.^.^.^.^.^.^.^*... 22 2 17\n",
    "..*.*.^.^.^.^.^.^.^.^.^.^.^.^.^.^.^.*.*.. 22 4 15\n",
    ".*^.^.^.^.^.^.^.^.^.^.^.^.^.^.^.^.^.^.^*. 20 2 19\n",
    "..*.^.^.^.^.^.^.^.^.^.^.^.^.^.^.^.^.^.*.. 22 2 17\n",
    "```\n",
    "\n",
    "#### Plant B, Test 3\n",
    "```\n",
    "Are you growing plant A or B? B\n",
    "What is the starting garden? *\n",
    "How many dormant plants are on either side? 20\n",
    "How many generations do you want to see? (not including the first) 20\n",
    "What is the neighborhood size? 2\n",
    "....................*.................... 40 1 0\n",
    "..................**^**.................. 36 4 1\n",
    "................*.^.^.^.*................ 36 2 3\n",
    "..............**..^.^.^..**.............. 34 4 3\n",
    "............*...*.*.^.*.*...*............ 34 6 1\n",
    "..........**^*.*..^.^.^..*.*^**.......... 28 8 5\n",
    "........*.^.*.*...*.^.*...*.*.^.*........ 30 8 3\n",
    "......**..^.^..*.*..^..*.*..^.^..**...... 28 8 5\n",
    "....*...*.*.*.......^.......*.*.*...*.... 32 8 1\n",
    "..**^*.*..^..**...**^**...**..^..*.*^**.. 20 16 5\n",
    "..^.*.*...^.*.....^.^.^.....*.^...*.*.^.. 28 6 7\n",
    "..*.^..*.**..**.***.^.***.**..**.*..^.*.. 20 18 3\n",
    "....*...*^.**.^..^.*^*.^..^.**.^*...*.... 24 10 7\n",
    "..**^*...^.^^**..**.^.**..**^^.^...*^**.. 18 14 9\n",
    "..^.*^..*****.^**.^*^*^.**^.*****..^*.^.. 14 18 9\n",
    "..**^***^.^...*^..*.^.*..^*...^.^***^**.. 18 14 9\n",
    "..^.^^^.****...**...^...**...****.^^^.^.. 20 12 9\n",
    "..***^*....^.......*^*.......^....*^***.. 26 10 5\n",
    "..^.^*^.***^**...*.^^^.*...**^***.^*^.^.. 16 14 11\n",
    "..***^*...^^.^..*.**^**.*..^.^^...*^***.. 18 14 9\n",
    "..^.^*^...*^**...*..^..*...**^*...^*^.^.. 22 10 9\n",
    "```\n",
    "\n",
    "#### Plant B, Test 4\n",
    "```\n",
    "Are you growing plant A or B? B\n",
    "What is the starting garden? *\n",
    "How many dormant plants are on either side? 20\n",
    "How many generations do you want to see? (not including the first) 20\n",
    "What is the neighborhood size? 3\n",
    "....................*.................... 40 1 0\n",
    ".................***^***................. 34 6 1\n",
    "..............*.*.^.^.^.*.*.............. 34 4 3\n",
    "...........**..*^.^.^.^.^*..**........... 30 6 5\n",
    "........*...^...^.*.^.*.^...^...*........ 32 4 5\n",
    ".....***^...^..***^.^.^***..^...^***..... 22 12 7\n",
    "....*...*.*.**.^.^^*^*^^.^.**.*.*...*.... 22 12 7\n",
    "...*^..*.*.....^*^*.^.*^*^.....*.*..^*... 24 10 7\n",
    "....^*.^...*..**.^^*^*^^.**..*...^.*^.... 22 10 9\n",
    "....^^*^*...**..***.^.***..**...*^*^^.... 20 14 7\n",
    "...**^^^...*.^.*...*^*...*.^.*...^^^**... 22 10 9\n",
    "....^^^*.**.*^*.**.^^^.**.*^*.**.*^^^.... 16 14 11\n",
    "...***^.*^^*^^^*^^*^^^*^^*^^^*^^*.^***... 8 14 19\n",
    ".....^*..**^^^^^^^^^^^^^^^^^^^**..*^..... 14 6 21\n",
    ".....*^.*^^*^^^^^^^^^^^^^^^^^*^^*.^*..... 12 6 23\n",
    ".....^**.**^^^^^^^^^^^^^^^^^^^**.**^..... 12 8 21\n",
    "....*^.^...*^^^^^^^^^^^^^^^^^*...^.^*.... 16 4 21\n",
    "....^^*^**..^*^^^^^^^^^^^^^*^..**^*^^.... 12 8 21\n",
    "...**^.*^^**^^*^^^^^^^^^^^*^^**^^*.^**... 8 12 21\n",
    "...^.^..**^^^^^^^^^^^^^^^^^^^^^**..^.^... 12 4 25\n",
    "...*.^..^^*^^^^^^^^^^^^^^^^^^^*^^..^.*... 12 4 25\n",
    "```"
   ]
  },
  {
   "cell_type": "markdown",
   "metadata": {},
   "source": [
    "## Aside: One-Dimensional Cellular Automata\n",
    "\n",
    "Your garden is in fact what computer scientists call one-dimensional cellular automaton (also called an [elementary cellular automaton](https://en.wikipedia.org/wiki/Elementary_cellular_automaton)).\n",
    "\n",
    "One thing that is interesting about 1d cellular automata is that they exhibit seemingly chaotic and random behavior, even though they are completely deterministic and follow a simple set of rules. For example, the following image is the result of simulating many generations of a 1d cellular automata. In the image, each row is a generation, and the row following it is the next generation.\n",
    "\n",
    "<img src=\"https://storage.googleapis.com/141-files/ca-result.png\" width=500/>\n",
    "\n",
    "Small tweaks in the rules for the next generation result in a wildly different simulation:\n",
    "\n",
    "<img src=\"https://storage.googleapis.com/141-files/ca-result2.png\" width=500/>\n",
    "\n",
    "1d cellular automata are useful for studying physical phenomena from chemistry to physics. For example, they describe how patterns on seashells arise:\n",
    "\n",
    "<img src=\"https://storage.googleapis.com/141-files/ca-shell.jpeg\" width=500/>"
   ]
  },
  {
   "cell_type": "markdown",
   "metadata": {},
   "source": [
    "### Grading\n",
    "\n",
    "As a reminder, you will be graded on the following criteria:\n",
    "    \n",
    "* Whether your program and individual functions work.  Both Plant A and plant B should work for any starting\n",
    "garden configuration, neighborhood size, and number of generations.\n",
    "* Whether you included appropriate tests for each function as directed in the notebook.\n",
    "* Whether your program is fully commented, including the header at the top of the program, comments before each \n",
    "function, and appropriate comments elsewhere in the program.\n",
    "* Whether your program follows generally good programming practices and style.\n"
   ]
  },
  {
   "cell_type": "markdown",
   "metadata": {},
   "source": [
    "###  Submitting\n",
    "Run the following cell to submit. You can submit as many times as you like. Make sure that you click the link returned to you by okpy to verify that your notebook and program were both uploaded correctly."
   ]
  },
  {
   "cell_type": "code",
   "execution_count": null,
   "metadata": {
    "scrolled": true,
    "tags": [
     "=>A1",
     "=>A2",
     "=>A3",
     "=>B1",
     "=>B2",
     "=>B3",
     "=>B4"
    ]
   },
   "outputs": [],
   "source": [
    "# Run this cell to submit.\n",
    "# Submit as frequently as you like; I will only grade the last submission.\n",
    "from cs1.notebooks import *\n",
    "ok_submit('p7.ok')"
   ]
  },
  {
   "cell_type": "markdown",
   "metadata": {},
   "source": [
    "## Additional Challenges\n",
    "Invent a Plant C that uses other rules to draw interesting patterns. In your code, implement Plant C and write in the comments what the rules are. Include some sample test cases that draw some interesting patterns."
   ]
  },
  {
   "cell_type": "code",
   "execution_count": null,
   "metadata": {},
   "outputs": [],
   "source": []
  }
 ],
 "metadata": {
  "kernelspec": {
   "display_name": "Python 3 (ipykernel)",
   "language": "python",
   "name": "python3"
  },
  "language_info": {
   "codemirror_mode": {
    "name": "ipython",
    "version": 3
   },
   "file_extension": ".py",
   "mimetype": "text/x-python",
   "name": "python",
   "nbconvert_exporter": "python",
   "pygments_lexer": "ipython3",
   "version": "3.9.7"
  },
  "varInspector": {
   "cols": {
    "lenName": 16,
    "lenType": 16,
    "lenVar": 40
   },
   "kernels_config": {
    "python": {
     "delete_cmd_postfix": "",
     "delete_cmd_prefix": "del ",
     "library": "var_list.py",
     "varRefreshCmd": "print(var_dic_list())"
    },
    "r": {
     "delete_cmd_postfix": ") ",
     "delete_cmd_prefix": "rm(",
     "library": "var_list.r",
     "varRefreshCmd": "cat(var_dic_list()) "
    }
   },
   "types_to_exclude": [
    "module",
    "function",
    "builtin_function_or_method",
    "instance",
    "_Feature"
   ],
   "window_display": false
  }
 },
 "nbformat": 4,
 "nbformat_minor": 2
}
