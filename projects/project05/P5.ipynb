{
 "cells": [
  {
   "cell_type": "markdown",
   "metadata": {
    "deletable": false,
    "editable": false,
    "run_control": {
     "frozen": true
    }
   },
   "source": [
    "# Project 5: Panda Party\n",
    "\n",
    "The Memphis Zoo is one of only three zoos in the United States to have a giant panda exhibit (the National Zoo in Washington, DC, and Zoo Atlanta in Georgia are the others).  The pandas at the Memphis Zoo are named Ya Ya and Le Le,\n",
    "and they have lived at the zoo since 2003.  Ya Ya is originally from Beijing, China, while Le Le comes from Changquing, China.  The name \"Ya Ya\" means \"beautiful little girl,\" and \"Le Le,\" pronounced roughly \"luh luh,\" means \"happy happy.\"  According to the Zoo, \"...they [are] only the ninth pair in the world outside of China.  There are thought to be fewer than 1,000 giant pandas left in the wild, making it one of the most endangered species on the planet.\"  ([Source](https://www.memphiszoo.org/blog/posts/memphis-zoo-will-continue-to-house-giant-pandas))\n",
    "\n",
    "[View the Memphis Zoo pandas live!](https://www.memphiszoo.org/panda-cam)\n",
    "\n",
    "Ya Ya and Le Le normally spend their time sleeping and eating bamboo, but occasionally they like to throw wild \n",
    "parties in their enclosure at the zoo. Their favorite game to play at these parties works as follows.\n",
    "\n",
    "This game begins with a pile of stones; each time they play they choose a different starting number. The pandas take turns taking stones the pile. Each turn, a panda may take either 1, 2 or 3 stones. They must take at least one stone, and cannot take more than three stones. The panda who takes the final stone **loses** the game, and the other panda wins. \n",
    "\n",
    "Here's an example. \n",
    "\n",
    "* Let's assume the pile starts with 8 stones.\n",
    "* Ya Ya may take 1, 2, or 3 stones, and chooses to take 3.  The pile now has 5 stones.\n",
    "* Le Le may take 1, 2, or 3 stones, and chooses to take 2.  The pile now has 3 stones.\n",
    "* Ya Ya may take 1, 2, or 3 stones, and chooses to take 1.  The pile now has 2 stones.\n",
    "* Le Le may take 1 or 2 stones (not 3 because that would exceed the number of stones in the pile), and chooses to take 1.  The pile now has 1 stone.\n",
    "* Ya Ya must now take 1 stone (2 or 3 would exceed the number in the pile), which makes 0 in the pile.  The game ends and therefore Ya Ya **loses** the game."
   ]
  },
  {
   "cell_type": "markdown",
   "metadata": {
    "deletable": false,
    "editable": false,
    "run_control": {
     "frozen": true
    }
   },
   "source": [
    "## How you will write the program:\n",
    "\n",
    "For this programming project, you will implement this particular panda party game by writing a series of functions. The final product is a program that takes input from Ya Ya and Le Le, ensures that their moves are valid, and determines who wins the game.\n",
    "\n",
    "To help you build this program, we have broken the design into several parts. Please read through the entire project description before starting.\n",
    "\n",
    "The first few questions will ask you to implement the following:\n",
    "\n",
    "* a function that checks to see if the game is over.\n",
    "* a function that updates who the current player is.\n",
    "* a function that asks the players who will make the first move.\n",
    "* a function that asks a player how many stones they want to take from the pile.\n",
    "* a full program to play the game.\n",
    "\n",
    "The first four questions each ask you to write a single function. To test them, you will call them from the notebook using test values. Testing functions with known inputs and outputs is called __unit testing__. If a __unit test__ doesn't produce the correct output, you know there is a bug in the function!\n",
    "\n",
    "__Note:__ You shouldn't write the `main()` function until you get to Step 5 (after you've made sure that Steps 1-4 work properly)."
   ]
  },
  {
   "cell_type": "markdown",
   "metadata": {
    "deletable": false,
    "editable": false,
    "run_control": {
     "frozen": true
    }
   },
   "source": [
    "## Including comments for each function\n",
    "\n",
    "As our programs get longer and longer and start to include more functions, it's helpful to \n",
    "write a little bit of documentation for each one so you (and others reading your code) know the purpose of each \n",
    "function.  \n",
    "\n",
    "**For this project, and all projects going forward, you should write a comment above each function other than `main`, describing what the function does, the parameters, and the return value. (See the comment guide on Canvas for an example.)**"
   ]
  },
  {
   "cell_type": "markdown",
   "metadata": {
    "deletable": false,
    "editable": false,
    "run_control": {
     "frozen": true
    }
   },
   "source": [
    "___\n",
    "\n",
    "### Step 0: Open `panda_party.py` and fill in the missing information in the header."
   ]
  },
  {
   "cell_type": "markdown",
   "metadata": {
    "deletable": false,
    "editable": false,
    "run_control": {
     "frozen": true
    }
   },
   "source": [
    "___\n",
    "\n",
    "###  Step 1: Is the game over?\n",
    "\n",
    "Write a function called `is_game_over` that takes the number of stones currently in the central pile and **returns** `True` if and only if the game is over, and `False` otherwise.  (Note that those are boolean values, not strings).\n",
    "\n",
    "Hint: the game is over when the current number of stones in the pile is equal to 0\n",
    "\n",
    "The definition line of this function should look like this `def is_game_over(curr_stones):`\n",
    "\n",
    "* Parameters: `curr_stones` represents the current number of stones in the pile, as a non-negative integer.\n"
   ]
  },
  {
   "cell_type": "markdown",
   "metadata": {
    "deletable": false,
    "editable": false,
    "run_control": {
     "frozen": true
    }
   },
   "source": [
    "#### Test your code for the previous step by running the cell below."
   ]
  },
  {
   "cell_type": "code",
   "execution_count": null,
   "metadata": {},
   "outputs": [],
   "source": [
    "# Reload all your functions.\n",
    "from cs1.notebooks import *\n",
    "reload_functions(\"panda_party.py\")\n",
    "\n",
    "print(is_game_over(5)) # should print False\n",
    "print(is_game_over(0)) # should print True"
   ]
  },
  {
   "cell_type": "markdown",
   "metadata": {
    "deletable": false,
    "editable": false,
    "run_control": {
     "frozen": true
    }
   },
   "source": [
    "#### If your answers seem correct, you can verify that by running the cell below."
   ]
  },
  {
   "cell_type": "code",
   "execution_count": null,
   "metadata": {
    "deletable": false,
    "editable": false
   },
   "outputs": [],
   "source": [
    "# Reload all your functions.\n",
    "from cs1.notebooks import *\n",
    "reload_functions(\"panda_party.py\")\n",
    "ok_runtests('p5.ok', 'test_game_over')"
   ]
  },
  {
   "cell_type": "markdown",
   "metadata": {
    "deletable": false,
    "editable": false,
    "run_control": {
     "frozen": true
    }
   },
   "source": [
    "***\n",
    "\n",
    "### Step 2: Who is the next player?\n",
    "Write a function called `next_player` that takes in the current player's name \n",
    "as a parameter, and **returns** the next players name (either `\"Ya Ya\"` or `\"Le Le\"`).  This will always be the opposite player from\n",
    "the one currently playing.\n",
    "\n",
    "The definition line of this function should look like this `def next_player(curr_player):`\n",
    "\n",
    "* Parameter: `curr_player` is a string representing who is currently taking a turn (will be either `\"Ya Ya\"` \n",
    "or `\"Le Le\"`).\n",
    "\n",
    "#### Test your code for the previous step by running the cell below."
   ]
  },
  {
   "cell_type": "code",
   "execution_count": null,
   "metadata": {},
   "outputs": [],
   "source": [
    "# Reload all your functions.\n",
    "from cs1.notebooks import *\n",
    "reload_functions(\"panda_party.py\")\n",
    "\n",
    "print(next_player(\"Le Le\")) # should print Ya Ya\n",
    "print(next_player(\"Ya Ya\")) # should print Le Le"
   ]
  },
  {
   "cell_type": "markdown",
   "metadata": {
    "deletable": false,
    "editable": false,
    "run_control": {
     "frozen": true
    }
   },
   "source": [
    "#### If your answers seem correct, you can verify that by running the cell below."
   ]
  },
  {
   "cell_type": "code",
   "execution_count": null,
   "metadata": {
    "deletable": false,
    "editable": false
   },
   "outputs": [],
   "source": [
    "# Reload all your functions.\n",
    "from cs1.notebooks import *\n",
    "reload_functions(\"panda_party.py\")\n",
    "ok_runtests('p5.ok', 'test_next_player')"
   ]
  },
  {
   "cell_type": "markdown",
   "metadata": {
    "deletable": false,
    "editable": false,
    "run_control": {
     "frozen": true
    }
   },
   "source": [
    "___\n",
    "### Step 3: Who is the first player?\n",
    "\n",
    "Write a function called `get_first_player` that takes no parameters.  This function should prompt the user\n",
    "to type in the first player in the game, and will use *input validation* to ensure the user enters something valid.\n",
    "\n",
    "To save typing, you will have the user enter the number `1` if they want Ya Ya to start the game, and `2` for\n",
    "Le Le.  You should print a short message explaining this to the user, then use an `input` statement to prompt\n",
    "the user for an integer.  If the user enters anything besides a `1` or a `2`, you should go into a loop that \n",
    "repeatedly asks them to re-input the number of the starting panda until they type something correctly.\n",
    "\n",
    "After the user enters either `1` or `2`, your function should **return the corresponding panda name as a string**.  In other\n",
    "words, if the user typed in `1`, your function should return the string `\"Ya Ya\"`, and if they typed in `2`, your function \n",
    "should return `\"Le Le\"`.\n",
    "\n",
    "The definition line for this function should look like `def get_first_player():`\n",
    "\n",
    "If we call `get_first_player()`, here's an example of how it might work: (what the user types is in bold)\n",
    "\n",
    "<pre>\n",
    "Who should begin the game? Enter 1 for Le Le and 2 for Ya Ya: <b>3</b>\n",
    "Invalid choice; please re-select: <b>Le</b>\n",
    "Invalid choice; please re-select: <b>1\n",
    "</pre>\n",
    "and then the function would return `\"Ya Ya\"`.\n",
    "\n",
    "#### Test your code for the previous step by running the cell below."
   ]
  },
  {
   "cell_type": "code",
   "execution_count": null,
   "metadata": {},
   "outputs": [],
   "source": [
    "# Reload all your functions.\n",
    "from cs1.notebooks import *\n",
    "reload_functions(\"panda_party.py\")\n",
    "\n",
    "# This should print the correct panda name for the \n",
    "# user's choice at the end.\n",
    "print(get_first_player())  "
   ]
  },
  {
   "cell_type": "markdown",
   "metadata": {
    "deletable": false,
    "editable": false,
    "run_control": {
     "frozen": true
    }
   },
   "source": [
    "___\n",
    "\n",
    "### Step 4: How many stones do you want to take?\n",
    "\n",
    "Write a function called `get_choice` that asks the player, using their name, how many stones they want to take from the pile. The player must take at least one stone and can take at most three stones (or less than three if the size of the pile is approaching 0). If the user enters an invalid number of stones, your program should print a helpful error message and ask the user again. Your function should **return** the number of stones the player chooses to add.\n",
    "\n",
    "You should use an input validation loop to ensure valid input.\n",
    "\n",
    "The definition line of this function should look like this `def get_choice(curr_player, curr_stones):`\n",
    "\n",
    "* Parameters: `curr_player` is the name of the player whose turn it is, and \n",
    "`curr_stones` is the number of stones currently in the pile\n",
    "\n",
    "Here are some example interactions: (what the user types is in bold)\n",
    "\n",
    "When `get_choice(\"Le Le\", 21)` is called:\n",
    "<pre>\n",
    "Le Le, it is your turn.\n",
    "There are 21 stones left in the pile. How many will you take? <b>9</b>\n",
    "You cannot take more than 3 stones.\n",
    "There are 21 stones left in the pile. How many will you take? <b>0</b>\n",
    "You must take at least one stone.\n",
    "There are 21 stones left in the pile. How many will you take? <b>2</b>\n",
    "</pre>\n",
    "and then the function would return `2`.\n",
    "\n",
    "When `get_choice(\"Ya Ya\", 2)` is called:\n",
    "<pre>\n",
    "Ya Ya, it is your turn.\n",
    "There are 2 stones left in the pile. How many will you take? <b>100</b>\n",
    "You cannot take more than 2 stones.\n",
    "There are 2 stones left in the pile. How many will you take? <b>0</b>\n",
    "You must take at least one stone.\n",
    "There are 2 stones left in the pile. How many will you take? <b>2</b>\n",
    "</pre>\n",
    "and then the function would return `2`.\n",
    "\n",
    "When `get_choice(\"Ya Ya\", 1)` is called:\n",
    "<pre>\n",
    "Ya Ya, it is your turn.\n",
    "There are 1 stones left in the pile. How many will you take? <b>-1</b>\n",
    "You must take at least one stone.\n",
    "There are 1 stones left in the pile. How many will you take? <b>3</b>\n",
    "You cannot take more than 1 stones.\n",
    "There are 1 stones left in the pile. How many will you take? <b>2</b>\n",
    "You cannot take more than 1 stones.\n",
    "There are 1 stones left in the pile. How many will you take? <b>1</b>\n",
    "</pre>\n",
    "and then the function would return `1`.\n",
    "\n",
    "#### Test your code for the previous step by running the cell below."
   ]
  },
  {
   "cell_type": "code",
   "execution_count": null,
   "metadata": {},
   "outputs": [],
   "source": [
    "## Reload all your functions.\n",
    "from cs1.notebooks import *\n",
    "reload_functions(\"panda_party.py\")\n",
    "\n",
    "# Test the following one at a time, by uncommenting the one you want to test.\n",
    "# You should see the final number of stones chosen printed at the end.\n",
    "\n",
    "print(get_choice(\"Le Le\", 21))\n",
    "#print(get_choice(\"Ya Ya\", 2))\n",
    "#print(get_choice(\"Ya Ya\", 1))"
   ]
  },
  {
   "cell_type": "markdown",
   "metadata": {
    "deletable": false,
    "editable": false,
    "run_control": {
     "frozen": true
    }
   },
   "source": [
    "___\n",
    "### Step 5: Putting it all together\n",
    "\n",
    "Write a `main()` function which allows Ya Ya and Le Le to play the game. \n",
    "\n",
    "Before writing any code, think about the variables you will need in the program.  What pieces of information do\n",
    "you need to keep track of?\n",
    "\n",
    "Here's how the game should (roughly) work:\n",
    "\n",
    "* Begin by asking the user for the starting number of stones in the pile.\n",
    "    * Note that we did not write a separate function for this, and you are not required to use input validation (though you can use it here if you want).\n",
    "* Use your `get_first_player()` function to have the user type in the first player.\n",
    "* Enter a loop that runs each turn of the game. For each turn, the current player should be allowed to \n",
    "choose a legal number of stones.  The stones should be removed from the pile, and the current\n",
    "player should be updated. (Think about the functions you have already written.)\n",
    "* The loop should end when `is_game_over()` returns `True`. \n",
    "* After the game ends, print the winner and the loser.\n",
    "\n",
    "To test your program, play the game!  (You can play from the cell below.)  You should test the game by playing it multiple times, testing all the various different ways it can work.  Make sure you can replicate the output below.\n",
    "\n",
    "Here's an example interaction:  (what the user types is in bold)\n",
    "<pre>\n",
    "Welcome to the panda party!\n",
    "What number of stones do you want to start with? <B>8</B>\n",
    "Who should begin the game? Enter 1 for Le Le and 2 for Ya Ya: <B>2</B>\n",
    "\n",
    "Ya Ya, it is your turn.\n",
    "There are 8 stones in the pile.  How many will you take? <B>3</B>\n",
    "\n",
    "Le Le, it is your turn.\n",
    "There are 5 stones in the pile.  How many will you take? <B>2</B>\n",
    "\n",
    "Ya Ya, it is your turn.\n",
    "There are 3 stones in the pile.  How many will you take? <B>1</B>\n",
    "\n",
    "Le Le, it is your turn.\n",
    "There are 2 stones in the pile.  How many will you take? <B>1</B>\n",
    "\n",
    "Ya Ya, it is your turn.\n",
    "There are 1 stones in the pile.  How many will you take? <B>1</B>\n",
    "\n",
    "Game over!\n",
    "Le Le wins and Ya Ya loses!\n",
    "</pre>"
   ]
  },
  {
   "cell_type": "code",
   "execution_count": null,
   "metadata": {
    "deletable": false,
    "editable": false
   },
   "outputs": [],
   "source": [
    "# Run this cell to run your program.\n",
    "%run panda_party.py"
   ]
  },
  {
   "cell_type": "markdown",
   "metadata": {
    "deletable": false,
    "editable": false,
    "run_control": {
     "frozen": true
    }
   },
   "source": [
    "### Submitting\n",
    "\n",
    "Run the following cell to submit. You can submit as many times as you like. Make sure that you click the link returned to you by okpy to verify that your notebook and program were both uploaded correctly."
   ]
  },
  {
   "cell_type": "code",
   "execution_count": null,
   "metadata": {
    "deletable": false,
    "editable": false
   },
   "outputs": [],
   "source": [
    "# Run this cell to submit.\n",
    "# Submit as frequently as you like; I will only grade the last submission.\n",
    "from cs1.notebooks import *\n",
    "ok_submit('p5.ok')"
   ]
  },
  {
   "cell_type": "markdown",
   "metadata": {
    "deletable": false,
    "editable": false,
    "run_control": {
     "frozen": true
    }
   },
   "source": [
    "## Additional challenges\n",
    "\n",
    "Doing anything additional is strictly optional but can get you a few points of extra credit, should you decide to continue experimenting with your program!  **If you added anything, please mention it in the next cell below.**\n",
    "\n",
    "There are many ways to extend this game.  Here are some ideas:\n",
    " \n",
    "- Allow the users to replay the game from the beginning as many times as they want.\n",
    "- Let the users customize their names.\n",
    "- Add a third player.\n",
    "- Add a second pile of stones, or a third pile.  Users can only take from one pile per turn.\n",
    "- Write a simple (or complex!) artificial intelligence player who will play for one of the players.\n",
    "\n",
    "**Be sure that the original version of the game is working properly before adding any of these additional features.**\n",
    "\n",
    "This game is an example of a general class of games called [Nim](https://en.wikipedia.org/wiki/Nim). Check out the Wikipedia article for more ideas on how to extend the game.\n",
    "\n",
    "Remember, you can submit as many times as you like!"
   ]
  },
  {
   "cell_type": "markdown",
   "metadata": {
    "deletable": false,
    "editable": false,
    "run_control": {
     "frozen": true
    }
   },
   "source": [
    "Did you add any extra credit?  Explain what you did here:  (double click this cell to edit it)\n",
    "\n",
    "\n",
    "\n"
   ]
  },
  {
   "cell_type": "code",
   "execution_count": null,
   "metadata": {},
   "outputs": [],
   "source": []
  }
 ],
 "metadata": {
  "kernelspec": {
   "display_name": "Python 3 (ipykernel)",
   "language": "python",
   "name": "python3"
  },
  "language_info": {
   "codemirror_mode": {
    "name": "ipython",
    "version": 3
   },
   "file_extension": ".py",
   "mimetype": "text/x-python",
   "name": "python",
   "nbconvert_exporter": "python",
   "pygments_lexer": "ipython3",
   "version": "3.9.6"
  },
  "varInspector": {
   "cols": {
    "lenName": 16,
    "lenType": 16,
    "lenVar": 40
   },
   "kernels_config": {
    "python": {
     "delete_cmd_postfix": "",
     "delete_cmd_prefix": "del ",
     "library": "var_list.py",
     "varRefreshCmd": "print(var_dic_list())"
    },
    "r": {
     "delete_cmd_postfix": ") ",
     "delete_cmd_prefix": "rm(",
     "library": "var_list.r",
     "varRefreshCmd": "cat(var_dic_list()) "
    }
   },
   "types_to_exclude": [
    "module",
    "function",
    "builtin_function_or_method",
    "instance",
    "_Feature"
   ],
   "window_display": false
  }
 },
 "nbformat": 4,
 "nbformat_minor": 2
}
