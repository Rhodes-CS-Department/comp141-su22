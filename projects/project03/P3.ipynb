{
 "cells": [
  {
   "cell_type": "markdown",
   "metadata": {
    "deletable": false,
    "editable": false,
    "run_control": {
     "frozen": true
    }
   },
   "source": [
    "# Project 3: Potato Heads\n",
    "\n",
    "The [potato head toy](https://en.wikipedia.org/wiki/Mr._Potato_Head) is a children's toy (and pair of [movie](https://en.wikipedia.org/wiki/List_of_Toy_Story_characters#Mr._Potato_Head) [characters](https://en.wikipedia.org/wiki/List_of_Toy_Story_characters#Mrs._Potato_Head)) that consists of a plastic potato-shaped model to which children stick different facial features such as eyes, noses, mouth, hair, ears, etc. When [first introduced](https://www.collectorsweekly.com/stories/189413-the-original-mr-potato-head-1952-with-r), that list included a pipe, and the potato was indeed an actual potato (or any other soft fruit).\n",
    "\n",
    "In this program, we will re-create the experience of assembling such a head by designing a program that creates a potato head with eyes, hair, and a mouth. Once everyone has completed the program, we'll combine the programs together to make randomly-generated heads.\n",
    "\n",
    "All of the potatoes are represented by circles of radius 150. Your job is to write functions that draw eyes, hair, and mouth on a potato. However, your functions must be designed so that the potato can be placed anywhere on the screen--to that end, your functions should all take two parameters called `centerx` and `centery`, which represent the center of the potato-circle where the facial features should be drawn. __In other words, each of your functions must calculate the correct placement of the facial features based on the `centerx` and `centery` parameters.__\n",
    "\n",
    "## Implementing Your Potato\n",
    "\n",
    "1. First, open `potato.py`. Inside, you'll see a skeleton program[*](https://en.wikipedia.org/wiki/Skeleton_(computer_programming)) that has some functions that you'll need to fill in. The `main` function is already written for you; it is set up to draw two identical potato heads side-by-side. __Don't modify anything inside of `main`.__\n",
    "\n",
    "1. Edit the three drawing functions for eyes, mouth, and hair, so that they draw the appropriate facial features on the potato. Each function should call any drawing functions you want from the [CS1 graphics library](https://matthewlang.github.io/comp141/graphics.html) to draw the facial features.\n",
    "    * Note that the facial features can be embellished with other appropriate things in that area of the face. For instance, you may also draw a nose or facial hair in your mouth function, ears or a hat in the hair function, etc.\n",
    "    * The functions you write should only draw a single potato at a time. Even though there are two potatoes drawn, you will notice that the `main` function takes care of calling your functions twice, with different `centerx` and `centery` values.\n",
    "1. Remember that your drawing functions __should not assume the location of the circle for the face is at one fixed location!__ This means that the location of the eyes, mouth, and hair that you are drawing must be calculated from the provided `centerx` and `centery` parameter variables. This will involve doing some math; for example, if you want to draw eyes that are to the left and right of the center point, you would do something like `draw_circle(centerx - 50, centery, 10)` for the left eye and `draw_circle(centerx + 50, centery, 10)` for the right eye. This way, if the center point of the potato changes, your code will draw eyes that also shift location accordingly.\n",
    "    \n",
    "An example output might look something like this:\n",
    "<img src=\"https://storage.googleapis.com/141-files/heads-example.png\" width=500/>\n",
    "  \n",
    "To run your code and generate your potato heads, run the cell below.\n",
    "\n",
    "You will notice that the potato heads will change locations slightly every time you run your program.  This is done to help you check that your code works no matter where the potatoes are drawn.  If your facial features are *not* moving with the potatoes, then you are not correctly drawing them based off the center of the potato."
   ]
  },
  {
   "cell_type": "code",
   "execution_count": null,
   "metadata": {
    "deletable": false,
    "editable": false,
    "scrolled": false
   },
   "outputs": [],
   "source": [
    "%run potato.py"
   ]
  },
  {
   "cell_type": "markdown",
   "metadata": {
    "deletable": false,
    "editable": false,
    "run_control": {
     "frozen": true
    }
   },
   "source": [
    "### Testing Your Program\n",
    "\n",
    "Since _how_ you draw your potato is up to you, there is no exact output I expect. However, you should definitely expect to see two identical potatoes side-by-side.  (There is some randomness, so they may not be perfectly level, but that's OK.) <!--If you want to test this aspect of your code, there is a constant named `MOVE_HEADS` that you can set to `True` to make the heads be drawn in a location that is randomly offset each time the program is run (e.g., as in the example above). You should expect that when I run your program, I run it in this mode.-->\n",
    "\n",
    "### Grading\n",
    "\n",
    "You're not going to be graded by how beautiful your potato is. However, I expect that each function is non-trivial. The approximate rubric is as follows:\n",
    "* For a B, you should use at least three colors, three different drawing functions, and at least 15 lines of code.\n",
    "* For an A, you should use at least five colors, five different drawing functions, and at least 25 lines of code.\n",
    "\n",
    "Of course, complexity in one area can make up for lack of complexity in another.\n",
    "\n",
    "If you are struggling to come up with things to draw for all the colors, commands, and lines of code, you may think outside the box for the eyes, hair, and mouth by including other common things people wear in those general facial areas. For hair you may include a hat or something else people wear on their head or in their hair. For eyes, you can include glasses, eyebrows, eyelashes, or something else people wear near their eyes. For the mouth, you can draw facial hair, teeth, lips, or other similar things (such as the cheek blush in the example above)."
   ]
  },
  {
   "cell_type": "code",
   "execution_count": null,
   "metadata": {},
   "outputs": [],
   "source": [
    "# Run this cell to submit.\n",
    "# Submit as frequently as you like; I will only grade the last submission.\n",
    "from cs1.notebooks import *\n",
    "ok_submit('p3.ok')"
   ]
  },
  {
   "cell_type": "markdown",
   "metadata": {
    "deletable": false,
    "editable": false,
    "run_control": {
     "frozen": true
    }
   },
   "source": [
    "<font color=red size=+1>After submitting, make sure the message you get says \"100% complete\" and \"Submission successful for user: your email address.  Check the URL given to make sure your notebook is there.  If you see anything about not being able to save the notebook, you should restart your notebook and re-submit.</font>"
   ]
  },
  {
   "cell_type": "code",
   "execution_count": null,
   "metadata": {},
   "outputs": [],
   "source": []
  }
 ],
 "metadata": {
  "kernelspec": {
   "display_name": "Python 3 (ipykernel)",
   "language": "python",
   "name": "python3"
  },
  "language_info": {
   "codemirror_mode": {
    "name": "ipython",
    "version": 3
   },
   "file_extension": ".py",
   "mimetype": "text/x-python",
   "name": "python",
   "nbconvert_exporter": "python",
   "pygments_lexer": "ipython3",
   "version": "3.9.6"
  },
  "varInspector": {
   "cols": {
    "lenName": 16,
    "lenType": 16,
    "lenVar": 40
   },
   "kernels_config": {
    "python": {
     "delete_cmd_postfix": "",
     "delete_cmd_prefix": "del ",
     "library": "var_list.py",
     "varRefreshCmd": "print(var_dic_list())"
    },
    "r": {
     "delete_cmd_postfix": ") ",
     "delete_cmd_prefix": "rm(",
     "library": "var_list.r",
     "varRefreshCmd": "cat(var_dic_list()) "
    }
   },
   "types_to_exclude": [
    "module",
    "function",
    "builtin_function_or_method",
    "instance",
    "_Feature"
   ],
   "window_display": false
  }
 },
 "nbformat": 4,
 "nbformat_minor": 2
}
