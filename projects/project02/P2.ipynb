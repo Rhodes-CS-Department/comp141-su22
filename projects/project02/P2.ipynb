{
 "cells": [
  {
   "cell_type": "code",
   "execution_count": null,
   "metadata": {},
   "outputs": [],
   "source": [
    "# Run this cell to log in to okpy.org so that you can submit\n",
    "# at the end of the project.\n",
    "from cs1.notebooks import *\n",
    "ok_login('p2.ok')"
   ]
  },
  {
   "cell_type": "markdown",
   "metadata": {},
   "source": [
    "# Project 2: Payday Loans\n",
    "\n",
    "## Instructions\n",
    "\n",
    "Please read this document in its entirety __before__ writing any code. There are hints and guidelines toward the end of the document that will help you, and reading the whole assignment will give you a better idea for the algorithms you will need to implement.\n",
    "\n",
    "\n",
    "## Computing for the social good\n",
    "\n",
    "Understanding technology's potential for good (and harm) is one of the learning goals for this class.   We should understand the role that computing plays in responding to social, ecological, political, and other challenges.  As you use computer science in the future, we hope you’ll analyze each situation with an eye for the ethics and potential consequences. \n",
    "\n",
    "\n",
    "## Payday loans\n",
    "\n",
    "With *annual percentage rates* (APRs) of 400-600 percent, payday loans carry some of the highest interest rates available on credit products.\n",
    "\n",
    "This is an order of magnitude higher than a credit card (_e.g.,_ a typical credit card carries a 15-20% APR), and failure to pay off a payday loan on time is a common-enough occurrence that interest charges can be _much more_ than the actual amount borrowed.\n",
    "\n",
    "These lending percentage rates are not advertised and are not made readily available.  About 10 million American households borrow money through payday loans each year, and payday lenders have more storefronts in the United States than McDonald's and Starbucks combined (Pew Charitable Trusts 2012; Lusardi and de Bassa Scheresberg 2013).  Google `payday loans Memphis` to see what I mean.\n",
    "\n",
    "\n",
    "__How do payday loans work?__   A payday loan is a short-term loan that can help someone cover immediate cash needs until they receive their next paycheck. These loans are usually small-dollar, high-cost loans that charge a fee that is typically due within two weeks --- or close to the borrower's next payday.   Many people resort to payday loans because they're easy to get.  Borrowers who resort to obtaining payday loans may have poor credit or no credit, which can prevent them from getting a personal loan with better terms, for instance, from a bank.  Another reason may be a lack of knowledge about or fear of alternatives.  There are some alternatives but they are less profitable _for the lenders_ and therefore are less heavily advertised.\n",
    "\n",
    "Payday lenders have few requirements for approving the loans they give out. Most don't run a credit check or even require that the borrower have the means to repay the loan. All someone typically needs is identification, a bank account in relatively good standing, and a steady paycheck.   \n",
    "\n",
    "Unfortunately, many payday loan borrowers can't repay the debt by the due date. In fact, the Consumer Financial Protection Bureau found that 20% of payday borrowers default on their loans (can't pay them back), and more than 80% of payday loans taken out by borrowers were rolled over or reborrowed within 30 days, perpetuating the cycle of debt.\n",
    "\n",
    "Here's a news story about these loans:\n",
    "\n",
    "https://www.wmcactionnews5.com/2020/09/06/memphis-city-council-urges-state-ban-all-payday-lenders/\n",
    "\n",
    "(Please watch the video.)"
   ]
  },
  {
   "cell_type": "markdown",
   "metadata": {},
   "source": [
    "To add to the story about these loans, you can do some research to see that since COVID-19 began, regulators have loosened restrictions around these small-dollar, high-interest loans, giving vulnerable people more access to loans that will cost them money they don’t have. \n",
    "\n",
    "One of the biggest obstacles in educating the public about these loans is that the annual percentage rate (APR) is not readily available.   It's difficult to understand what sort of fee the lenders are offering and if the fee is reasonable because it is __not__ shown as an APR.\n",
    "\n",
    "__We will use Python to solve the following problem: given the conditions of a payday loan, what is its APR?__\n",
    "\n",
    "## Payday loan terms and conditions\n",
    "\n",
    "Payday loan companies typically describe the terms and conditions of a loan in one of two ways:\n",
    "\n",
    "  1. The *loan amount* (the amount of cash the borrower receives), the *finance charge* (a fixed additional amount of money the borrower must repay, in addition to the loan amount), and the *repayment period* (the length of the loan in days or months, after which all the money must be repaid). \n",
    "\n",
    "-or-\n",
    "\n",
    "  2.  A *fee per every &#36;100 borrowed*, and the *repayment period*.  (Note that in this situation, we do not need the loan amount itself to calculate the APR.)\n",
    "\n",
    "Given either of these scenarios, we can compute the APR of the loan."
   ]
  },
  {
   "cell_type": "markdown",
   "metadata": {},
   "source": [
    "## APR calculation\n",
    "\n",
    "For this assignment, you will write a program that calculates the APR of a payday loan in these two scenarios.  Here's how to do it:\n",
    "\n",
    "### Scenario 1:\n",
    "\n",
    "We are given the *loan amount* (in dollars), the *finance charge* (in dollars), and the *repayment period* (either in days or months).\n",
    "\n",
    "Here's the algorithm for calculating the APR:\n",
    "\n",
    "1. Divide the *finance charge* by the *loan amount*.\n",
    "2. Multiply the answer in step 1 by the number of days in a year (365).\n",
    "3. Divide the answer in step 2 by the *repayment period* in number of days.\n",
    "4. Multiply the answer in step 3 by 100 to get the APR as a percent.\n",
    "\n",
    "In other words:\n",
    "\n",
    "$\\textit{APR} = \\dfrac{\\textit{finance charge}}{\\textit{loan amount}} \\cdot \\dfrac{365}{\\textit{repayment period}} \\cdot 100$\n",
    "\n",
    "__Note:__ This formula assumes the loan term is a duration in *days*, so you must change your code and this formula so that it works whether the repayment period is in days or months.\n",
    "\n",
    "__Hint:__ If the repayment period is in months, the 365 in the formula should change to the number of months in a year.\n",
    "\n",
    "### Scenario 2\n",
    "\n",
    "We are given a *fee* (in dollars) *per each &#36;100 borrowed*, and the *repayment period* (either in days or months).\n",
    "\n",
    "1. Multiply the *fee* by the number of days in a year (365).\n",
    "2. Divide the answer in step 2 by the *repayment period* in number of days.  This will give you the APR \n",
    "as a percent.\n",
    "\n",
    "In other words:\n",
    "\n",
    "$\\textit{APR} = \\textit{fee} \\cdot \\dfrac{365}{\\textit{repayment period}}$\n",
    "\n",
    "__Hint:__ As in scenario 1, if the repayment period is in months, the 365 in the formula should change to the number of months in a year."
   ]
  },
  {
   "cell_type": "markdown",
   "metadata": {},
   "source": [
    "## Program assignment\n",
    "\n",
    "For this assignment, you will write a program that calculates the APR of a payday loan in these two scenarios.\n",
    "\n",
    "You'll write your program in the file `payday.py` that appears in this folder.  **Do not write your program directly in this notebook; you must write it in `payday.py`.**\n",
    "\n",
    "Here are two sample interactions with the program, illustrating how the program should work for each scenario above.  What\n",
    "the program prints is in regular text, and the sample input the user types is in **bold**.\n",
    "\n",
    "### Example interaction for scenario 1\n",
    "<pre>\n",
    "Welcome to the payday loan APR calculator.\n",
    "Please have the proposed terms of your payday loan handy so we can calculate the APR.\n",
    "\n",
    "Select which one best fits your situation.\n",
    "  (1) I know the total loan amount, the finance charge, and the repayment period (in days or months).\n",
    "  (2) I know the fee in dollars for every 100 dollars borrowed and the repayment period (in days or months).\n",
    " \n",
    "How was the information given to you? Choose (1) or (2): <b>1</b>\n",
    "\n",
    "What is the total loan amount? <b>350.00</b>\n",
    "What is the finance charge for the loan? <b>50.00</b>\n",
    "Is the length of the repayment period in days or months? Enter d or m: <b>d</b>\n",
    "How many days is the repayment period? <b>14</b>\n",
    " \n",
    "Your 14 day loan has an APR of 372.45%.\n",
    "</pre>"
   ]
  },
  {
   "cell_type": "markdown",
   "metadata": {},
   "source": [
    "### Example interaction for scenario 2\n",
    "    \n",
    "<pre>\n",
    "Welcome to the payday loan APR calculator.\n",
    "Please have the proposed terms of your payday loan handy so we can calculate the APR.\n",
    " \n",
    "Select which one best fits your situation.\n",
    "  (1) I know the total loan amount, the finance charge, and the repayment period (in days or months).\n",
    "  (2) I know the fee in dollars for every 100 dollars borrowed and the repayment period (in days or months).\n",
    " \n",
    "How was the information given to you? Choose (1) or (2): <b>2</b>\n",
    " \n",
    "What is the fee for each $100 borrowed? <b>20</b>\n",
    "Is the length of the repayment period in days or months? Enter d or m: <b>d</b>\n",
    "How many days is the repayment period? <b>14</b>\n",
    " \n",
    "Your 14 day loan has an APR of 521.43%.\n",
    "</pre>\n",
    "\n",
    "## Writing your program\n",
    "\n",
    "You now have all the information necessary to write your program.  Open the `payday.py` file in the `project02`\n",
    "directory, and write your code there.  Don't forget to fill in the header information.\n",
    "\n",
    "As you are writing your program, you can test it by running the cell below.  You should test your program frequently,\n",
    "even before you reach the end of writing all the code for the assignment.  This will help you find bugs faster.  \n"
   ]
  },
  {
   "cell_type": "code",
   "execution_count": null,
   "metadata": {},
   "outputs": [],
   "source": [
    "# Run this cell to run your program.  \n",
    "# Important: Do not type your program here.  Write your program in the payday.py file.\n",
    "%run payday.py"
   ]
  },
  {
   "cell_type": "markdown",
   "metadata": {},
   "source": [
    "## Program guidelines, hints, and tips\n",
    "\n",
    "- Make sure that your code rounds the APR to two decimal places.\n",
    "  - Example: If you have a floating-point variable that you want to print rounded to two decimal places,\n",
    "  instead of using the command `print(variable)`, you can use `print(\"{:.2f}\".format(variable))`.  The \".2f\" means\n",
    "  \"round a floating-point number to two decimal places.\"\n",
    "- Your program should work whether the repayment period is given in months or days.  \n",
    "  - Furthermore, your program should change its input prompts and print statements so that the messages use the word \"month\" and \"day\" correctly when asking for the length of the repayment period, and in the final output message when the APR is specified.\n",
    "  - Additionally, your program should accept the \"m\" or \"d\" as a capital or lowercase letter in response to the question about the type of repayment period.\n",
    "- You may assume that the user enters valid input. (For example, you may assume that the user enters the string \"1\" or \"2\" at the first prompt.)\n",
    "- Run/Debug along the way. Get one scenario working before attempting the other.\n",
    "- You must use comments and make your code readable.\n",
    "- You should use constants (see below) for any numbers that are used in formulas.\n",
    "\n",
    "  \n",
    "## Testing your program\n",
    "\n",
    "When you think you are finished, you should test your program thoroughly.  You should use the two sample interactions above, and the two test cases below, as a guide.  \n",
    "\n",
    "When you think your program works in all situations, use your program to calculate the APRs asked for below, \n",
    "and copy the final percentages (without the % signs) into the spaces below.  You can then run the cell \n",
    "to validate your answers."
   ]
  },
  {
   "cell_type": "code",
   "execution_count": null,
   "metadata": {},
   "outputs": [],
   "source": [
    "# Test cases: run your program with the following inputs\n",
    "# and then run this cell to validate the results.\n",
    "\n",
    "# Note that the example interactions are test cases as well.\n",
    "# Make sure that your program generates those outputs.\n",
    "\n",
    "# Scenario 1: $1000 borrowed, $250 finance charge, 2 month repayment period\n",
    "# Change the zero below to the APR your program outputs for \n",
    "# the scenario above.  Do not include the % sign.\n",
    "scenario_1_months_rate = 0 \n",
    "\n",
    "# Scenario 2: $30 fee per $100 borrowed, 2 month repayment period\n",
    "# Change the zero below to the APR your program outputs for \n",
    "# the scenario above.  Do not include the % sign.\n",
    "scenario_2_months_rate = 0 \n",
    "\n",
    "# Run this cell to grade your two sample scenarios.\n",
    "# If you get an error message saying that name 'ok' is not defined, you need to re-run \n",
    "# the very first code cell at the top of this notebook - it will log you into okpy, then you can \n",
    "# scroll back down here and re-grade.\n",
    "ok_runtests('p2.ok', 'q1')\n",
    "ok_runtests('p2.ok', 'q2')"
   ]
  },
  {
   "cell_type": "markdown",
   "metadata": {},
   "source": [
    "## Constants\n",
    "\n",
    "Notice that I have defined a [constant](https://en.wikipedia.org/wiki/Constant_(computer_programming)) for the number of days in a year. The advantage of using `DAYS_PER_YEAR` vs. `365` in a computation is that the _meaning_ of the number is clearer in an expression. \n",
    "\n",
    "We automatically know that if we see 365, we think \"days per year\" -- but what about values like 86400 or 3600? \n",
    "\n",
    "Which one of these is more quickly understandable?\n",
    "\n",
    "`a = y * 86400 * 365`\n",
    "\n",
    "-or-\n",
    "\n",
    "`age_in_seconds = age_in_years * SECONDS_PER_DAY * DAYS_PER_YEAR`\n",
    "\n",
    "<small style=\"font-size: x-small\">(3600 is the number of seconds in an hour, by the way).</small>"
   ]
  },
  {
   "cell_type": "markdown",
   "metadata": {},
   "source": [
    "## Computing for the social good\n",
    "\n",
    "Your program has the purpose of making loan terms clearer to borrowers, and has the benefit of empowering loan consumers, rather than predatory lenders.\n",
    "\n",
    "However, not all software benefits the good of society.  Answer the following questions to explore a little bit more about payday loans and computing for the social good.  (There is space for your answers in the next cell.)\n",
    "\n",
    "  1. Use a search engine to find the average APR of a payday loan, \n",
    "and also the average APR of a \"personal loan\" (this is a loan that a bank will give you).  Do payday loans seem realistic or fair when you compare these rates?\n",
    "\n",
    "  2. Find an example of when an algorithm (a program or piece of software) went wrong, and did not benefit the social good.  Tell me what you found in a couple of sentences, including a link to an article you read."
   ]
  },
  {
   "cell_type": "markdown",
   "metadata": {},
   "source": [
    "__Put your answers here!__ Double click this cell to edit and remove this text.\n",
    "\n",
    "Question 1: \n",
    "\n",
    "Question 2:"
   ]
  },
  {
   "cell_type": "markdown",
   "metadata": {},
   "source": [
    "## Submitting your program\n",
    "\n",
    "When you are confident your program works, and you have answered the two questions above, you may submit using the cell below."
   ]
  },
  {
   "cell_type": "code",
   "execution_count": null,
   "metadata": {},
   "outputs": [],
   "source": [
    "# Run this cell to submit.\n",
    "# If you get an error message saying that name 'ok' is not defined, you need to re-run \n",
    "# the very first code cell at the top of this notebook - it will log you into okpy, then you can \n",
    "# scroll back down here and submit.\n",
    "# Submit as frequently as you like; I will only grade the last submission.\n",
    "ok_submit('p2.ok')"
   ]
  },
  {
   "cell_type": "markdown",
   "metadata": {},
   "source": [
    "## Additional challenges\n",
    "\n",
    "Doing anything additional is strictly optional but can get you a few points of extra credit, should you decide to continue experimenting with your program!\n",
    "\n",
    "Just make sure you meet the minimum requirements of the program, and be sure to tell me in the comments anything additional you added to your program.\n",
    "\n",
    "Remember, you can submit as many times as you like!"
   ]
  },
  {
   "cell_type": "code",
   "execution_count": null,
   "metadata": {},
   "outputs": [],
   "source": []
  }
 ],
 "metadata": {
  "kernelspec": {
   "display_name": "Python 3 (ipykernel)",
   "language": "python",
   "name": "python3"
  },
  "language_info": {
   "codemirror_mode": {
    "name": "ipython",
    "version": 3
   },
   "file_extension": ".py",
   "mimetype": "text/x-python",
   "name": "python",
   "nbconvert_exporter": "python",
   "pygments_lexer": "ipython3",
   "version": "3.9.6"
  },
  "varInspector": {
   "cols": {
    "lenName": 16,
    "lenType": 16,
    "lenVar": 40
   },
   "kernels_config": {
    "python": {
     "delete_cmd_postfix": "",
     "delete_cmd_prefix": "del ",
     "library": "var_list.py",
     "varRefreshCmd": "print(var_dic_list())"
    },
    "r": {
     "delete_cmd_postfix": ") ",
     "delete_cmd_prefix": "rm(",
     "library": "var_list.r",
     "varRefreshCmd": "cat(var_dic_list()) "
    }
   },
   "types_to_exclude": [
    "module",
    "function",
    "builtin_function_or_method",
    "instance",
    "_Feature"
   ],
   "window_display": false
  }
 },
 "nbformat": 4,
 "nbformat_minor": 2
}
