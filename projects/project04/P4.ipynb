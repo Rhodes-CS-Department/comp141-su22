{
 "cells": [
  {
   "cell_type": "code",
   "execution_count": null,
   "metadata": {
    "deletable": false,
    "editable": false,
    "tags": [
     "#L"
    ]
   },
   "outputs": [],
   "source": [
    "# Run this cell to log in to okpy.org so that you can submit\n",
    "# at the end of the lab.\n",
    "from cs1.notebooks import *\n",
    "ok_login('p4.ok')"
   ]
  },
  {
   "cell_type": "markdown",
   "metadata": {},
   "source": [
    "# Project 4: Perpetual Calendar\n",
    "\n",
    "A perpetual calendar is a calendar designed to be valid for many years, usually designed to look up the day of the week for a given date in the future. In this project, you will design a perpetual calendar by writing a number of functions.\n",
    "\n",
    "Follow the steps below to implement your project. There are eleven steps, but they are all relatively short, so it looks a lot more involved than it actually is.\n",
    "\n",
    "## About Functions\n",
    "\n",
    "Now that we are beginning to write longer programs, we will practice dividing our programs into functions. This is a critical habit to develop, because building a program out of functions that work together enables faster software development, because functions can be tested individually, then combined together into larger functions.\n",
    "\n",
    "When first thinking about a program, try to envision it as a set of components that all fit together like a puzzle, where each component handles a separate, distinct task. Consider making separate tasks into separate functions. Now this idea can be taken to the extreme, which is not helpful, as using too many functions, especially if these functions all need access to the same variables, ends up being very messy because you have to write functions that take, for instance, ten arguments. Try to find a balance between too many functions and too few.\n",
    "\n",
    "## Getting Started\n",
    "\n",
    "__Step 1:__ Recall that Python has a number of different data types, including ints, floats, and strings. In this project, we will learn about another data type, called a boolean. Boolean variables can only hold two values, either True or False. For a review on Booleans, check out the [notebook named `booleans`](booleans.ipynb) in this folder.\n",
    "\n",
    "__Step 2:__ Review the comment guide on Canvas. Every function you write, except main(), must have a comment before it explaining what the function does, what the parameters are, and what the return value is.\n",
    "\n",
    "__Step 3:__ Open `pcalendar.py` and fill in the missing information in the header.\n",
    "\n",
    "__Step 4 (Determining if a year is a leap year):__ Write a function called is_leap that takes a parameter called year, which will be an integer. Your function should return True if the year is a leap year, and False if it is not.\n",
    "\n",
    "The definition line of this function should look like this `def is_leap(year):`\n",
    "\n",
    "__Algorithm__:\n",
    "\n",
    "* A year is a leap year if it is divisible by 4, unless the year is divisible by 100, in which case the year must also be divisible by 400. In other words, the years 1996, 2000, 2004, 2008, 2012, 2016, and 2020 are all leap years. However, the years 1700, 1900, and 2100 are not leap years. The first set of years are all divisible by 4, and the only year that is divisible by 100 (2000) is also divisible by 400. The second set of years are all divisible by 100, but none of them are divisible by 400.\n",
    "\n",
    "* You can test a number for divisibility by using the % operator, which returns the remainder of one number divided by another. For instance 14 % 3 is 2, because 14 divided by 3 is 4 (the quotient) with 2 left over (the remainder). A number $x$ is divisible by another number $y$ if the remainder when $x$ divided by $y$ is zero. For instance, you can test whether a variable num is divisible by 2 by writing an if statement such as if x % 2 == 0.\n",
    "\n",
    "To test your function, you can run it below!"
   ]
  },
  {
   "cell_type": "code",
   "execution_count": null,
   "metadata": {
    "tags": [
     "=>L"
    ]
   },
   "outputs": [],
   "source": [
    "# This imports all the functions in your file so that they can be used in the notebook.\n",
    "#from pcalendar import *\n",
    "reload_functions('pcalendar.py')\n",
    "\n",
    "print(is_leap(2004)) #should print True\n",
    "print(is_leap(2005)) #should print False\n",
    "print(is_leap(2100)) #should print False\n",
    "print(is_leap(2400)) #should print True"
   ]
  },
  {
   "cell_type": "code",
   "execution_count": null,
   "metadata": {
    "deletable": false,
    "editable": false,
    "tags": [
     "=>L"
    ]
   },
   "outputs": [],
   "source": [
    "# Runs a set of tests against is_leap\n",
    "from cs1.notebooks import *\n",
    "reload_functions('pcalendar.py')\n",
    "ok_runtests('p4.ok', 'q1')"
   ]
  },
  {
   "cell_type": "markdown",
   "metadata": {
    "deletable": false,
    "editable": false
   },
   "source": [
    "When your function passes all of these tests, move on to __Step 5__.\n",
    "\n",
    "__Step 5 (Determining the day of the year):__ In the next two steps, we will write a function to determine the day of the year that a date falls on. For instance, January 1 is (obviously) the first day of the year. December 31 is the 365th day of the year, but the 366th day in a leap year. If you're curious, here's a website where you can see the days of the year for any year.\n",
    "\n",
    "The first step in creating this function is to create a helper function (a helper function is a function designed to be called from another function, in order to help it do its job). This helper function will be called `magic_month` and it is designed to return the number of days that have gone by in a year on the first of any month (assuming it's not a leap year). For instance, on January 1, zero days have gone by in the year so far. On February 1, 31 days have gone by (because January has 31 days). On March 1, 59 days have gone by (the 31 days of January, plus the 28 days of February, assuming it's not a leap year).\n",
    "\n",
    "Define a function called `magic_month` that takes a parameter called `month`, that will be the integer representing a month (1=January, 2=February, and so on). This function should return the number of days gone by since the beginning of the year. Here's a table of what to return:\n",
    "```\n",
    "January (Month #1):     0\n",
    "February (Month #2):   31\n",
    "March (Month #3):      59\n",
    "April (Month #4):      90\n",
    "May (Month #5):       120\n",
    "June (Month #6):      151\n",
    "July (Month #7):      181\n",
    "August (Month #8):    212\n",
    "September (Month #9): 243\n",
    "October (Month #10):  273\n",
    "November (Month #11): 304\n",
    "December (Month #12): 334\n",
    "```\n",
    "\n",
    "The definition line of this function should look like this `def magic_month(month):`\n",
    "\n",
    "Hint: No need to be clever here. Just use an if-elif-else statement with twelve branches.\n",
    "\n",
    "__Step 5A__: Test your `magic_month` function."
   ]
  },
  {
   "cell_type": "code",
   "execution_count": null,
   "metadata": {
    "tags": [
     "=>L"
    ]
   },
   "outputs": [],
   "source": [
    "# This imports all the functions in your file so that they can be used in the notebook.\n",
    "reload_functions('pcalendar.py')\n",
    "\n",
    "print(magic_month(1)) #should print 0\n",
    "print(magic_month(2)) #should print 31\n",
    "print(magic_month(9)) #should print 243"
   ]
  },
  {
   "cell_type": "code",
   "execution_count": null,
   "metadata": {
    "deletable": false,
    "editable": false,
    "tags": [
     "=>L"
    ]
   },
   "outputs": [],
   "source": [
    "# Runs a set of tests against magic_month\n",
    "from cs1.notebooks import *\n",
    "reload_functions('pcalendar.py')\n",
    "ok_runtests('p4.ok', 'q2')"
   ]
  },
  {
   "cell_type": "markdown",
   "metadata": {
    "deletable": false,
    "editable": false
   },
   "source": [
    "__Step 6 (actually writing the day-of-year function):__ Write a function called `day_of_year` that takes three integer parameters: a month (1-12), a day (1-31), and a year (any year is possible). This function should return the day of year (1-366) that this date occurs on.\n",
    "\n",
    "Here's how you do it. You need to two pieces of information: first, figure out whether the year is a leap year or not (hint---call your is_leap function on the year and capture the return value). Next, get the appropriate `magic_month` value for the month (hint---call your `magic_month` function on the month and capture the return value). The formula for finding the day of the year is quite simple:\n",
    "\n",
    "__The day of the year is the `magic_month` number plus the day of the month. If this year is a leap year and the month is March or later, add one to this result.__\n",
    "\n",
    "The definition line of this function should look like this `def day_of_year(month, day, year):`\n",
    "\n",
    "Example: Suppose we call `day_of_year(7, 29, 2019)` to calculate the day of the year for July 29, 2019. 2019 is not a leap year, and the magic_month number for July (month #7) is 181. So the day of the year here is 181 + 29, which is 210.\n",
    "\n",
    "Example 2: Suppose we call `day_of_year(4, 11, 2016)` to calculate the day of the year for April 11, 2016. 2016 is a leap year, and the magic_month number for April (month #4) is 90. So the day of the year here is 90 + 11 + 1, which is 102.\n",
    "\n",
    "__Step 6A:__ Test your day_of_year function."
   ]
  },
  {
   "cell_type": "code",
   "execution_count": null,
   "metadata": {
    "tags": [
     "=>L"
    ]
   },
   "outputs": [],
   "source": [
    "#This imports all the functions in your file so that they can be used in the notebook.\n",
    "from pcalendar import *\n",
    "\n",
    "print(day_of_year(7, 29, 2019)) #should print 210\n",
    "print(day_of_year(4, 11, 2016)) #should print 102\n",
    "print(day_of_year(12, 31, 2100)) #should print 365"
   ]
  },
  {
   "cell_type": "code",
   "execution_count": null,
   "metadata": {
    "deletable": false,
    "editable": false,
    "tags": [
     "=>L"
    ]
   },
   "outputs": [],
   "source": [
    "# Runs a set of tests against day_of_year\n",
    "from cs1.notebooks import *\n",
    "reload_functions('pcalendar.py')\n",
    "ok_runtests('p4.ok', 'q3')"
   ]
  },
  {
   "cell_type": "markdown",
   "metadata": {
    "deletable": false,
    "editable": false
   },
   "source": [
    "__Step 7__: Over the next three steps you will write three more functions that will help you compute the day of the week for any given day in history. In order to do this, we will associate a number with every day of the week. Here's the pattern:\n",
    "```\n",
    "Sunday: 0\n",
    "Monday: 1\n",
    "Tuesday: 2\n",
    "Wednesday: 3\n",
    "Thursday: 4\n",
    "Friday: 5\n",
    "Saturday: 6\n",
    "```\n",
    "\n",
    "The first function we will write, called `new_years_day`, will calculate the day of the week number (from the table above) for any January 1 in history. Here's how it works. The steps are:\n",
    "\n",
    "* Start with the year in question.\n",
    "* Add the quotient that results from dividing the year by 4. (Quotient means the whole-number portion of division, which can be obtained with the double-slash operator: //. Example: 20 / 8 is 2.5, but 20 // 8 is 2.)\n",
    "* Subtract the quotient that results from dividing the year by 100.\n",
    "* Add the quotient that results from dividing the year by 400.\n",
    "* If your year is a leap year (call your `is_leap` function!) subtract 1.\n",
    "* Divide this number by 7 and take the remainder (use the percent/modulus operator). This final number is your day of the week number (the value to return).\n",
    "\n",
    "Let's do an example. Suppose we want to find the day of the week for New Year's Day 2019.\n",
    "* Begin with 2019.\n",
    "* Add in 2019 // 4, which is 504. 2019 + 504 = 2523.\n",
    "* Subtract 2019 // 100, which is 20. 2523 - 20 = 2503.\n",
    "* Add in 2019 // 400, which is 5. 2503 + 5 = 2508.\n",
    "* 2019 is not a leap year (so the number doesn't change).\n",
    "* 2508 % 7 is 2, which means 2019 began on a Tuesday (you can verify this on a calendar!).\n",
    "\n",
    "Write this function called `new_years_day`, which takes an integer parameter called year, and returns an integer interpreted as a day of the week.\n",
    "\n",
    "The definition line should be `def new_years_day(year):`\n",
    "\n",
    "__Step 7A:__ Test your `new_years_day` function. Here are some examples:"
   ]
  },
  {
   "cell_type": "code",
   "execution_count": null,
   "metadata": {
    "tags": [
     "=>L"
    ]
   },
   "outputs": [],
   "source": [
    "#This imports all the functions in your file so that they can be used in the notebook.\n",
    "reload_functions('pcalendar.py')\n",
    "\n",
    "print(new_years_day(2019)) #should print 2\n",
    "print(new_years_day(2020)) #should print 3"
   ]
  },
  {
   "cell_type": "code",
   "execution_count": null,
   "metadata": {
    "deletable": false,
    "editable": false,
    "tags": [
     "=>L"
    ]
   },
   "outputs": [],
   "source": [
    "# Runs a set of tests against new_years_day\n",
    "from cs1.notebooks import *\n",
    "reload_functions('pcalendar.py')\n",
    "ok_runtests('p4.ok', 'q4')"
   ]
  },
  {
   "cell_type": "markdown",
   "metadata": {
    "deletable": false,
    "editable": false
   },
   "source": [
    "__Step 8__: You will now write a function called `day_of_week`. This function takes three parameters: the month (1-12), the day of the month (1-31), and the year. This function will finally compute the day of the week for any day of any year! Here's how it works. All you have to do is call your `day_of_year` function, passing in the month, day, and year parameters; and your `new_years_day` function, passing in the year parameter. If you add those values together, subtract one, divide the result by 7, and take the remainder, you will have your day of the week (as an integer!). Return this integer value.\n",
    "\n",
    "Here's an example. Let's find the day of the week for July 29, 2019. We already know that `day_of_year(7, 29, 2019)` returns 210, and `new_years_day(2019)` returns 2. If we add these together and subtract 1, we get 210 + 2 - 1 = 211. 211 % 7 is 1, which means July 29, 2019 falls on a Monday (check it on a calendar if you want!).\n",
    "\n",
    "Write this function in Python now. The definition line is `def day_of_week(month, day, year):`\n",
    "\n",
    "__Step 8A__: Test your day_of_week function. Here are some examples:"
   ]
  },
  {
   "cell_type": "code",
   "execution_count": null,
   "metadata": {
    "tags": [
     "=>L"
    ]
   },
   "outputs": [],
   "source": [
    "#This imports all the functions in your file so that they can be used in the notebook.\n",
    "reload_functions('pcalendar.py')\n",
    "\n",
    "print(day_of_week(7, 29, 2019))  #should print 1\n",
    "print(day_of_week(7, 4, 1900))   #should print 3\n",
    "print(day_of_week(2, 14, 2000))  #should print 1\n",
    "print(day_of_week(12, 25, 2020)) #should print 5"
   ]
  },
  {
   "cell_type": "code",
   "execution_count": null,
   "metadata": {
    "deletable": false,
    "editable": false,
    "tags": [
     "=>L"
    ]
   },
   "outputs": [],
   "source": [
    "# Runs a set of tests against day_of_week\n",
    "from cs1.notebooks import *\n",
    "reload_functions('pcalendar.py')\n",
    "ok_runtests('p4.ok', 'q5')"
   ]
  },
  {
   "cell_type": "markdown",
   "metadata": {
    "deletable": false,
    "editable": false
   },
   "source": [
    "__Step 9:__ You're almost done. You're going to write one more function, called `day_of_week_str`, that does the same operation as `day_of_week`, except the answer is returned as a string (like \"Sunday\", \"Monday\", etc). This function takes three parameters: the month (1-12), the day of the month (1-31), and the year. Here's how it works. Simply call day_of_week, passing in the same three parameters you are given here.\n",
    "\n",
    "Hint: After capturing the return value from `day_of_week`, use a 7-branching if-elif-else statement to determine the appropriate day of the week string and return it.\n",
    "\n",
    "The definition line is `def day_of_week_str(month, day, year):`\n",
    "\n",
    "__Step 9A:__ Test your `day_of_week_str` function. Here are some examples:"
   ]
  },
  {
   "cell_type": "code",
   "execution_count": null,
   "metadata": {
    "tags": [
     "=>L"
    ]
   },
   "outputs": [],
   "source": [
    "#This imports all the functions in your file so that they can be used in the notebook.\n",
    "reload_functions('pcalendar.py')\n",
    "\n",
    "print(day_of_week_str(7, 29, 2019))  #should print Monday\n",
    "print(day_of_week_str(12, 25, 2020)) #should print Friday\n",
    "print(day_of_week_str(10, 31, 2056)) #should print Tuesday"
   ]
  },
  {
   "cell_type": "code",
   "execution_count": null,
   "metadata": {
    "deletable": false,
    "editable": false,
    "tags": [
     "=>L"
    ]
   },
   "outputs": [],
   "source": [
    "# Runs a set of tests against day_of_week_str\n",
    "from cs1.notebooks import *\n",
    "reload_functions('pcalendar.py')\n",
    "ok_runtests('p4.ok', 'q6')"
   ]
  },
  {
   "cell_type": "markdown",
   "metadata": {
    "deletable": false,
    "editable": false
   },
   "source": [
    "__Once you have written these functions, tested them, and they all work, you can move on to Step 10, which is writing the main function.__\n",
    "\n",
    "__Remember:__ Your functions should be calling other functions as follows:\n",
    "* `day_of_year` should call `is_leap` and `magic_month`.\n",
    "* `new_years_day` should call `is_leap`.\n",
    "* `day_of_week` should call `day_of_year` and `new_years_day`.\n",
    "* `day_of_week_str` should call `day_of_week`.\n",
    "\n",
    "__Step 10: Write main()__\n",
    "\n",
    "Write a main function to do the following:\n",
    "* Ask the user for three integers: the month, day of the month, and year. (This can be any month/day/year combination the user wants.)\n",
    "* Compute and print the day of the year for this month/day/year. Do this by calling your `day_of_year` function.\n",
    "* Compute and print the day of the week for this month/day/year. Do this by calling your `day_of_week_str` function.\n",
    "* Compute and print the day of the week for user's month and day, but for the year 2020. Do this by calling your `day_of_week_str` function.\n",
    "* Compute and print the day of the week for New Year's Day on the user's year. Do this by calling your `day_of_week_str` function.\n",
    "* Add the call to main() to your program. Test your program using the examples below.\n",
    "\n",
    "Here's a sample run:\n",
    "```\n",
    "Pick a date, any date (such as your birthday!)\n",
    "What is the month? (1-12)? 11\n",
    "What is the day? 21\n",
    "What is the year? 1981\n",
    "This is day number 325 of the year.\n",
    "This date falls on a Saturday.\n",
    "In 2020, this date falls on a Saturday.\n",
    "In 1981, New Year's Day falls on a Thursday.\n",
    "```"
   ]
  },
  {
   "cell_type": "code",
   "execution_count": null,
   "metadata": {
    "deletable": false,
    "editable": false
   },
   "outputs": [],
   "source": [
    "# Run your full program. Test it against the above example.\n",
    "%run pcalendar.py"
   ]
  },
  {
   "cell_type": "markdown",
   "metadata": {
    "deletable": false,
    "editable": false
   },
   "source": [
    "__Step 11: Add keep going loop to main()__\n",
    "\n",
    "Once main() is working as required, add a simple keep going loop so that after each run you ask the user if they would like to run your program again. If they say yes, they should be prompted to enter another date.\n",
    "\n",
    "__Example run__\n",
    "```\n",
    "Pick a date, any date (such as your birthday!)\n",
    "What is the month? (1-12)? 7\n",
    "What is the day? 29\n",
    "What is the year? 1982\n",
    "This is day number 210 of the year.\n",
    "This date falls on a Thursday.\n",
    "In 2020, this date falls on a Wednesday.\n",
    "In 1982, New Year's Day falls on a Friday.\n",
    "Would you like to pick another date? (y for yes): y\n",
    "\n",
    "Pick a date, any date (such as your birthday!)\n",
    "What is the month? (1-12)? 11\n",
    "What is the day? 21\n",
    "What is the year? 1981\n",
    "This is day number 325 of the year.\n",
    "This date falls on a Saturday.\n",
    "In 2020, this date falls on a Saturday.\n",
    "In 1981, New Year's Day falls on a Thursday.\n",
    "Would you like to pick another date? (y for yes): y\n",
    "\n",
    "Pick a date, any date (such as your birthday!)\n",
    "What is the month? (1-12)? 2\n",
    "What is the day? 14\n",
    "What is the year? 2019\n",
    "This is day number 45 of the year.\n",
    "This date falls on a Thursday.\n",
    "In 2020, this date falls on a Friday.\n",
    "In 2019, New Year's Day falls on a Tuesday.\n",
    "Would you like to pick another date? (y for yes): n\n",
    "```"
   ]
  },
  {
   "cell_type": "code",
   "execution_count": null,
   "metadata": {
    "deletable": false,
    "editable": false
   },
   "outputs": [],
   "source": [
    "# Re-run your full program, and test your keep going loop. \n",
    "#Test it against the above example, as well as any others you'd like to try.\n",
    "%run pcalendar.py"
   ]
  },
  {
   "cell_type": "code",
   "execution_count": null,
   "metadata": {
    "deletable": false,
    "editable": false,
    "tags": [
     "=>L"
    ]
   },
   "outputs": [],
   "source": [
    "# Run this cell to submit.\n",
    "# Submit as frequently as you like; I will only grade the last submission.\n",
    "from cs1.notebooks import *\n",
    "ok_submit('p4.ok')"
   ]
  },
  {
   "cell_type": "markdown",
   "metadata": {
    "deletable": false,
    "editable": false
   },
   "source": [
    "__Important:__ After submitting, make sure the message you get says \"100% complete\" and \"Submission successful for user: your email address. Check the URL given to make sure your notebook is there. If you see anything about not being able to save the notebook, you should restart your notebook and re-submit."
   ]
  },
  {
   "cell_type": "markdown",
   "metadata": {
    "deletable": false,
    "editable": false
   },
   "source": [
    "## Grading\n",
    "\n",
    "Your program will be graded according to the standard grading guidelines, including commenting your code.\n",
    "You should make sure you've written all the functions above, and they work as indicated, including using arguments/parameters, and return values appropriately.\n",
    "You should make sure your output matches mine, including printing all the information in the same order as shown, and with correct formatting (that is, label the outputs so I know what I'm looking at). That said, you have room to be creative in your output. Test your program on lots of inputs, not just the ones shown.\n",
    "\n",
    "\n",
    "## Additional Challenges\n",
    "Write a function called `find_thanksgiving` that takes a year as an integer argument. This function should return the day of the month (1--31) that Thanksgiving falls on in the year given. Thanksgiving (in the US, anyway) always falls on the fourth Thursday of November.\n",
    "\n",
    "After writing this function, add more code to your main() that computes and prints out the day that Thanksgiving falls on in the year supplied by the user at the beginning of the program. Test your function yourself.\n",
    "\n",
    "Here are a few samples:\n",
    "\n",
    "```\n",
    "find_thanksgiving(2019) #should return 28\n",
    "find_thanksgiving(2020) #should return 26\n",
    "find_thanksgiving(2021) #should return 25\n",
    "find_thanksgiving(2000) #should return 23\n",
    "```\n",
    "\n",
    "Remember, you can submit as many times as you like!"
   ]
  },
  {
   "cell_type": "code",
   "execution_count": null,
   "metadata": {},
   "outputs": [],
   "source": []
  }
 ],
 "metadata": {
  "kernelspec": {
   "display_name": "Python 3 (ipykernel)",
   "language": "python",
   "name": "python3"
  },
  "language_info": {
   "codemirror_mode": {
    "name": "ipython",
    "version": 3
   },
   "file_extension": ".py",
   "mimetype": "text/x-python",
   "name": "python",
   "nbconvert_exporter": "python",
   "pygments_lexer": "ipython3",
   "version": "3.9.6"
  },
  "varInspector": {
   "cols": {
    "lenName": 16,
    "lenType": 16,
    "lenVar": 40
   },
   "kernels_config": {
    "python": {
     "delete_cmd_postfix": "",
     "delete_cmd_prefix": "del ",
     "library": "var_list.py",
     "varRefreshCmd": "print(var_dic_list())"
    },
    "r": {
     "delete_cmd_postfix": ") ",
     "delete_cmd_prefix": "rm(",
     "library": "var_list.r",
     "varRefreshCmd": "cat(var_dic_list()) "
    }
   },
   "types_to_exclude": [
    "module",
    "function",
    "builtin_function_or_method",
    "instance",
    "_Feature"
   ],
   "window_display": false
  }
 },
 "nbformat": 4,
 "nbformat_minor": 2
}
