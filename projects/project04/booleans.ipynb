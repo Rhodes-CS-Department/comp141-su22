{
 "cells": [
  {
   "cell_type": "markdown",
   "id": "essential-egypt",
   "metadata": {
    "deletable": false,
    "editable": false
   },
   "source": [
    "# Boolean Variables in Python\n",
    "\n",
    "Previously, we have learned about three Python data types: ints, floats, and strings. Recall that a data type is a\n",
    "piece of information attached to a value or variable that tells the programming language how to interpret that\n",
    "variable or value:\n",
    "\n",
    "```\n",
    "x = 42 # x is an integer (int) variable (b/c 42 is an integer value.)\n",
    "y = 42.7 # y is a floating-point (float) variable (because 42.7 is a floating-point value.)\n",
    "z = \"hello\" # z is a string (str) variable (b/c \"hello\" is a string value.)\n",
    "```\n",
    "\n",
    "Python has many other data types to represent other types of information. One important type is the Boolean\n",
    "data type.\n",
    "\n",
    "There are only two possible values for that a Boolean can be, `True` or `False`. This might seem\n",
    "strange because `int`s, `float`s, and `string`s have potentially an infinite number of possible values, but Booleans\n",
    "have only two! They are used normally used situations where you need to represent the truth of something.\n",
    "\n",
    "To create and use Boolean variables in Python, you can just use the special Python keywords `True` and `False`\n",
    "(they must be capitalized). These are the only two values that may be stored in a Boolean variable.\n",
    "\n",
    "```\n",
    "game_over = True # game_over is a Boolean variable holding the value True\n",
    "ac_broken = False # ac_broken is a Boolean variable holding the value False\n",
    "```\n",
    "\n",
    "Note: it is very tempting to put quotes around the values True and False, however, this will create string\n",
    "variables, not Boolean variables! `\"True\"` and `\"False\"` are not the same thing as `True` and `False`!"
   ]
  },
  {
   "cell_type": "code",
   "execution_count": null,
   "id": "collective-louis",
   "metadata": {},
   "outputs": [],
   "source": [
    "# Run this cell to see how Python evaluates the keyword True\n",
    "True"
   ]
  },
  {
   "cell_type": "code",
   "execution_count": null,
   "id": "infectious-probe",
   "metadata": {},
   "outputs": [],
   "source": [
    "# Run this cell to see how Python evaluates the string \"True\"\n",
    "\"True\""
   ]
  },
  {
   "cell_type": "markdown",
   "id": "colored-short",
   "metadata": {
    "deletable": false,
    "editable": false
   },
   "source": [
    "## What are Boolean variables good for?\n",
    "\n",
    "Boolean variables can be used in the condition part of an if statement:\n",
    "\n",
    "```\n",
    "if game_over:\n",
    "    print(\"Thanks for playing!\")\n",
    "```\n",
    "\n",
    "Note that the following works, but is considered poor practice:\n",
    "\n",
    "```\n",
    "if game_over == True: # the == True part is superfluous.\n",
    "    print(\"Thanks for playing!\")\n",
    "```\n",
    "\n",
    "This idea is handy when there are might be many conditions that could end the game, each happening in a\n",
    "different part of your code. Imagine a game that could be won or lost in many different ways, each requiring a\n",
    "different section of code. Each section could test the appropriate condition and set the game_over variable to\n",
    "True if the user happens to win or lose. \n",
    "\n",
    "## Can it be used for other things?\n",
    "\n",
    "Boolean variables are also commonly used as the return value of a function that is designed to determine\n",
    "whether something is true or not. For instance, consider a function that is designed to test whether a number\n",
    "is even or odd. This can be done by dividing the number by 2 and examining the remainder. An even number, \n",
    "when divided by 2, has a remainder of 0, whereas an odd number has a remainder of one. \n",
    "\n",
    "In the following cell, the function `is_even` returns `True` when the number it is passed as a parameter is even.\n",
    "\n",
    "Run the cell to see the output of the function."
   ]
  },
  {
   "cell_type": "code",
   "execution_count": null,
   "id": "employed-oxford",
   "metadata": {},
   "outputs": [],
   "source": [
    "def is_even(num):\n",
    "    if num % 2 == 0:\n",
    "        return True\n",
    "    else:\n",
    "        return False\n",
    "\n",
    "print(42, 'is even?', is_even(42))\n",
    "print(11, 'is even?', is_even(11))"
   ]
  },
  {
   "cell_type": "code",
   "execution_count": null,
   "id": "turned-nightmare",
   "metadata": {},
   "outputs": [],
   "source": [
    "# Now the function can be used elsewhere...\n",
    "n = int(input(\"Enter an integer: \"))\n",
    "even = is_even(n) # Capture the Boolean return value.\n",
    "if even: # Test the value of the variable even.\n",
    "    print(\"Your number is even.\")\n",
    "else:\n",
    "    print(\"Your number is odd.\")"
   ]
  },
  {
   "cell_type": "code",
   "execution_count": null,
   "id": "english-chambers",
   "metadata": {},
   "outputs": [],
   "source": [
    "# Actually, capturing the return value in a variable is not necessary...\n",
    "n = int(input(\"Enter an integer: \"))\n",
    "if is_even(n): # Call is_even and run the test together!\n",
    "    print(\"Your number is even.\")\n",
    "else:\n",
    "    print(\"Your number is odd.\")"
   ]
  },
  {
   "cell_type": "markdown",
   "id": "sound-division",
   "metadata": {
    "deletable": false,
    "editable": false
   },
   "source": [
    "Notice the line of code: `if is_even(n):`. When you call a function in the condition part of an if statement,\n",
    "Python calls the function, then uses the return value of the function call as the if-condition. In other words,\n",
    "that single line of code acts as if you called the `is_even` function, passing `n` as the argument, then captured\n",
    "the return value, saved it in a Boolean variable, and used that variable as the condition in the if statement."
   ]
  },
  {
   "cell_type": "code",
   "execution_count": null,
   "id": "civilian-hungarian",
   "metadata": {},
   "outputs": [],
   "source": []
  }
 ],
 "metadata": {
  "kernelspec": {
   "display_name": "Python 3",
   "language": "python",
   "name": "python3"
  },
  "language_info": {
   "codemirror_mode": {
    "name": "ipython",
    "version": 3
   },
   "file_extension": ".py",
   "mimetype": "text/x-python",
   "name": "python",
   "nbconvert_exporter": "python",
   "pygments_lexer": "ipython3",
   "version": "3.8.6"
  },
  "varInspector": {
   "cols": {
    "lenName": 16,
    "lenType": 16,
    "lenVar": 40
   },
   "kernels_config": {
    "python": {
     "delete_cmd_postfix": "",
     "delete_cmd_prefix": "del ",
     "library": "var_list.py",
     "varRefreshCmd": "print(var_dic_list())"
    },
    "r": {
     "delete_cmd_postfix": ") ",
     "delete_cmd_prefix": "rm(",
     "library": "var_list.r",
     "varRefreshCmd": "cat(var_dic_list()) "
    }
   },
   "types_to_exclude": [
    "module",
    "function",
    "builtin_function_or_method",
    "instance",
    "_Feature"
   ],
   "window_display": false
  }
 },
 "nbformat": 4,
 "nbformat_minor": 5
}
