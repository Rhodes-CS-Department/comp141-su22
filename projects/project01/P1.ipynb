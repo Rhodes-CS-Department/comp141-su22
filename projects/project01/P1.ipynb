{
 "cells": [
  {
   "cell_type": "code",
   "execution_count": null,
   "metadata": {},
   "outputs": [],
   "source": [
    "# Run this cell to log in to okpy.org so that you can submit\n",
    "# at the end of the lab.  If you come back later, you may need to \n",
    "# re-run this cell.\n",
    "from cs1.notebooks import *\n",
    "ok_login('project01.ok')"
   ]
  },
  {
   "cell_type": "markdown",
   "metadata": {},
   "source": [
    "# Program 1: Let's Go to the Moon\n",
    "\n",
    "Just over 50 years ago, on July 21, 1969, the first person in human history set\n",
    "food on a planetary body other than our own. The Apollo 11 mission carried three\n",
    "humans 238,856 miles from Earth, and, while Michael Collins orbited above, Neil\n",
    "Armstrong and Buzz Aldrin landed upon and walked on the Moon.\n",
    "\n",
    "Nearly everything that went into achieving this feat required novel,\n",
    "groundbreaking work. For instance, all Apollo missions were almost entirely flown\n",
    "by autopilot: the [Apollo Guidance\n",
    "Computer](https://en.wikipedia.org/wiki/Apollo_Guidance_Computer). The AGC had a\n",
    "2.048 MHz processor, 4096 bytes of RAM, and ~72 KB of storage--the numbers are\n",
    "unimportant. Your phone is thousands of times more powerful.\n",
    "\n",
    "The lead engineer responsible for developing \n",
    "the flight control systems that flew the Apollo spacecraft was [Dr. Margaret\n",
    "Hamilton](https://en.wikipedia.org/wiki/Margaret_Hamilton_(software_engineer)),\n",
    "one of the most important computer scientists in the history of our field.\n",
    "The picture below is her standing next to the listings of her code that ran the AGC.\n",
    "\n",
    "<img src=\"https://storage.googleapis.com/141-files/margaret-hamilton-code.jpg\" width=600/>\n",
    "<!--\n",
    "<img src=\"https://storage.googleapis.com/141-files/margaret-hamilton-module.jpg\" width=600/>\n",
    "-->\n",
    "\n",
    "The Apollo program was one of humankinds most impressive technical achivements.\n",
    "But, beyond this, it also provided us with an opportunity for humility--an opportunity to see,\n",
    "from a distance, how very, very small our planet is--the place where every single\n",
    "human being lived and called home.\n",
    "\n",
    "<img src=\"https://storage.googleapis.com/141-files/apollo11-earth.jpg\" width=400/>\n",
    "\n",
    "This lab, however, is not about the guidance systems or reflection on the\n",
    "smallness of the Earth. Instead, we will examine\n",
    "an experiment that was conducted during the Apollo 15 mission.\n",
    "\n",
    "# The Apollo 15 Physics Experiment\n",
    "\n",
    "In the late 1500's, the Italian mathematician Galileo Galilei demonstrated that\n",
    "acceleration due to gravity was independent of an object's mass...by\n",
    "repeatedly [dropping metal balls from the Leaning Tower of\n",
    "Pisa](https://en.wikipedia.org/wiki/Galileo%27s_Leaning_Tower_of_Pisa_experiment).\n",
    "\n",
    "Testing Galileo's Law of Free Fall breaks down somewhat when the objects aren't\n",
    "metal spheres. If you drop a hammer and a feather at the same time, they'll\n",
    "arrive at the ground at different times due to air resistence--the feather will\n",
    "float on the air, whereas the hammer will fall straight through it. \n",
    "\n",
    "On the moon, though, there is very little atmosphere to provide resistence...\n",
    "\n",
    "And so, on the Apollo 15 mission in 1971, astronaut David Scott dropped a\n",
    "feather and a hammer. The results are recorded below."
   ]
  },
  {
   "cell_type": "code",
   "execution_count": null,
   "metadata": {},
   "outputs": [],
   "source": [
    "# You can run this cell to load the video and watch it here.\n",
    "\n",
    "from IPython.display import YouTubeVideo\n",
    "# The original URL is:\n",
    "#   https://www.youtube.com/watch?v=U7db6ZeLR5s\n",
    "YouTubeVideo(\"U7db6ZeLR5s\")"
   ]
  },
  {
   "cell_type": "markdown",
   "metadata": {},
   "source": [
    "If that was difficult to hear, the transcript is as follows:\n",
    "\n",
    "> _Scott:_ Well, in my left hand, I have a feather; in my right hand, a hammer.\n",
    "And I guess one of the reasons we got here today was because of a gentleman\n",
    "named Galileo, a long time ago, who made a rather significant discovery about\n",
    "falling objects in gravity fields. And we thought where would be a better place\n",
    "to confirm his findings than on the Moon. And so we thought we'd try it here for\n",
    "you. The feather happens to be, appropriately, a falcon feather for our Falcon.\n",
    "And I'll drop the two of them here and, hopefully, they'll hit the ground at the\n",
    "same time.\n",
    ">\n",
    "> _Scott:_ How about that!\n",
    ">\n",
    "> _Allen:_ How about that! (Applause in Houston)\n",
    ">\n",
    "> _Scott:_ Which proves that Mr. Galileo was correct in his findings.\n",
    "\n",
    "## Analyzing the Footage\n",
    "\n",
    "Using this footage, we can confirm the hammer/feather drop did indeed take place\n",
    "on the moon, using Newton's law.\n",
    "\n",
    "Newton's law of universal gravitation predicts that any object dropped near the\n",
    "surface of a planet should, after $t$ seconds, fall\n",
    "\n",
    "$$ \\frac{1}{2} G \\frac{M}{R^2} t^2 \\text{ meters}$$\n",
    "\n",
    "where $G$ is the universal gravitational constant, $M$ is the mass of the planet in kilograms,\n",
    "and $R$ is the radius of the planet in meters.\n",
    "\n",
    "If we know $G$, $M$, and $R$, then we can predict how far an object will fall\n",
    "over any period of time.\n",
    "\n",
    "This film has been analyzed and, using the relative size of objects, it has been\n",
    "calculated that the hammer was dropped 113cm from the surface. Using frames as a\n",
    "measure of time, the hammer falls for 1.2 seconds (36 frames).\n",
    "\n",
    "In the following cells, let's calculate whether this video was filmed on the\n",
    "Moon, and validate the estimated height from which the hammer drops."
   ]
  },
  {
   "cell_type": "code",
   "execution_count": null,
   "metadata": {},
   "outputs": [],
   "source": [
    "# Run this cell to assign variables that represent the estimated values from the video. \n",
    "\n",
    "estimated_distance_m = 113 / 100   # height of the hammer: 113 cm = 1.13 meters\n",
    "fall_time_s = 1.2                  # fall time of the hammer in seconds"
   ]
  },
  {
   "cell_type": "code",
   "execution_count": null,
   "metadata": {},
   "outputs": [],
   "source": [
    "# Run this cell to assign variables that represent the constants that we know.\n",
    "\n",
    "gravity_constant = 6.674e-11  # scientific notation; means 6.674 x 10 raised to the -11 power.\n",
    "moon_mass_kg = 7.34767309e22\n",
    "moon_radius_m = 1.737e6"
   ]
  },
  {
   "cell_type": "code",
   "execution_count": null,
   "metadata": {},
   "outputs": [],
   "source": [
    "# In this cell, change the zero below to a Python math expression that will predict the distance the \n",
    "# hammer should've fallen.  Use the formula above for the law of universal gravitation, and convert\n",
    "# it into Python code, using the Python variables.\n",
    "# Don't forget to run the cell when you're done.\n",
    "\n",
    "predicted_distance_m = 0 # CHANGE ME"
   ]
  },
  {
   "cell_type": "code",
   "execution_count": null,
   "metadata": {},
   "outputs": [],
   "source": [
    "# In this cell, change the zero below to a Python math expression that will calculate the difference\n",
    "# between the predicted and actual (estimated) distance.  Use the variables already defined.\n",
    "# Run the cell when you are done.\n",
    "\n",
    "difference = 0 # CHANGE ME\n",
    "\n",
    "print(\"The difference is\", difference, \"meters.\")"
   ]
  },
  {
   "cell_type": "code",
   "execution_count": null,
   "metadata": {},
   "outputs": [],
   "source": [
    "# Run this cell to check your answer.\n",
    "ok_runtests('project01.ok', 'q1')"
   ]
  },
  {
   "cell_type": "markdown",
   "metadata": {},
   "source": [
    "## Computing Velocity\n",
    "\n",
    "In the equation above, the $G\\frac{M}{R^2}$ term is computing the acceleration due to\n",
    "gravity per second. We can also use this value to compute the velocity at which the\n",
    "objects were traveling when they hit the surface of the moon, since we know how long\n",
    "they were falling for:\n",
    "$$ G\\frac{M}{R^2}t \\text{ meters/second} $$\n",
    "\n",
    "In the cell below, compute the velocity of the hammer when it struck the surface. Make sure to use the variables defined above."
   ]
  },
  {
   "cell_type": "code",
   "execution_count": null,
   "metadata": {},
   "outputs": [],
   "source": [
    "hammer_v = 0 # CHANGE ME\n",
    "\n",
    "print(\"The velocity of the hammer when it hit the moon was\", hammer_v, \"m/s.\")"
   ]
  },
  {
   "cell_type": "code",
   "execution_count": null,
   "metadata": {},
   "outputs": [],
   "source": [
    "# Run this cell to check your answer.\n",
    "ok_runtests('project01.ok', 'q2')"
   ]
  },
  {
   "cell_type": "markdown",
   "metadata": {},
   "source": [
    "## Program Assignment\n",
    "\n",
    "For this assignment, you will write a program that computes the freefall time\n",
    "and impact velocity of an object dropped from planets of varying characteristics.\n",
    "\n",
    "You will do this by writing a separate Python program from the notebook.  This is the way\n",
    "most Python programs are written in practice.  Separate Python programs are stored\n",
    "in files with a `.py` extension, and work just as if you had directly written the code in a\n",
    "single notebook cell.\n",
    "\n",
    "To begin, edit the file named `time_to_drop.py` in this folder.\n",
    "\n",
    "Your program should accept the following inputs:\n",
    "  * `distance` the distance the object will be dropped.\n",
    "  * `planet_radius` the radius of the planet on which the object is dropped.\n",
    "  * `planet_mass` the mass of the planet on which the object is dropped.\n",
    "  \n",
    "The output of your program should be amount of time required for the object\n",
    "to drop on the given planet and distance, and the velocity at which the\n",
    "object impacts the surface.\n",
    "\n",
    "Example interaction, for dropping a hammer from 100yds (91.44 meters) on Earth:\n",
    "```\n",
    "Distance to drop (meters): 91.44\n",
    "Radius of planet (meters): 6.371e6\n",
    "Mass of planet (kilograms): 5.9722e24\n",
    "It will take 4.315493222302034 seconds for the object to drop 91.44 meters.\n",
    "The object will be traveling 42.377543094007095 meters per second at impact.\n",
    "```\n",
    "\n",
    "__Hints/advice:__\n",
    "* Solving for $t$ in the equation above, we have: $t = \\sqrt{\\frac{D}{\\frac{1}{2}G\\frac{M}{R^2}}}$ where $D$ is the distance/height from which an object drops.\n",
    "* You can take the square root of a variable `x` using the Python function `math.sqrt(x)`. Your program already has an _import_ statement (`import math`) that lets you do this.\n",
    "* You have already seen how to compute velocity.\n",
    "* You can always email me, direct message me on Slack, or set up an appointment if you get stuck or need help!"
   ]
  },
  {
   "cell_type": "code",
   "execution_count": null,
   "metadata": {},
   "outputs": [],
   "source": [
    "# Run this cell to run your program.\n",
    "%run time_to_drop.py"
   ]
  },
  {
   "cell_type": "markdown",
   "metadata": {},
   "source": [
    "## Try your program!\n",
    "\n",
    "Using your program, you can answer questions like the following (this [table of planetary data](https://en.wikipedia.org/wiki/List_of_gravitationally_rounded_objects_of_the_Solar_System#Planets) is helpful):\n",
    "  * How long would it take you to fall from a 3 story building on Pluto?\n",
    "  * How long would it take to drop a football field's distance on Jupiter?\n",
    "  \n",
    "### Test your output\n",
    "\n",
    "You can validate that your sample output matches mine, and additionally test your program by using the cell below to enter the result of dropping a hammer from 100yds (91.44 meters) on Neptune.\n",
    "```\n",
    "Distance to drop (meters): 91.44\n",
    "Radius of planet (meters): 24.622e6\n",
    "Mass of planet (kilograms): 1.024e26\n",
    "```"
   ]
  },
  {
   "cell_type": "code",
   "execution_count": null,
   "metadata": {},
   "outputs": [],
   "source": [
    "# Run your time_to_drop program on the numbers above and copy the answers in place of the \n",
    "# zeroes below.  Then run this cell to verify your answers are correct.\n",
    "\n",
    "neptune_100yds_t = 0 # CHANGE ME\n",
    "neptune_100yds_v = 0 # CHANGE ME\n",
    "ok_runtests('project01.ok', 'q3')"
   ]
  },
  {
   "cell_type": "markdown",
   "metadata": {},
   "source": [
    "Are these results surprising (given the previously-computed value for Earth)? \n",
    "Why or why not? In the cell below, answer these questions."
   ]
  },
  {
   "cell_type": "markdown",
   "metadata": {},
   "source": [
    "__Answer here:__"
   ]
  },
  {
   "cell_type": "markdown",
   "metadata": {},
   "source": [
    "## Feedback Questions\n",
    "\n",
    "__In the cell below, please answer the following questions about the program.__\n",
    "1. What did you struggle with the most?\n",
    "2. What did you enjoy most about writing the program?\n",
    "3. Please estimate about how long you spent working on this assignment.\n",
    "4. Any other questions, concerns, comments about the program or material we have covered so far?"
   ]
  },
  {
   "cell_type": "markdown",
   "metadata": {},
   "source": [
    "__Answer feedback questions here:__"
   ]
  },
  {
   "cell_type": "code",
   "execution_count": null,
   "metadata": {},
   "outputs": [],
   "source": [
    "# Run this cell to submit.\n",
    "# If you get an error message saying that name 'ok' is not defined, you need to re-run \n",
    "# the very first code cell at the top of this notebook - it will log you into okpy, then you can \n",
    "# scroll back down here and submit.\n",
    "# Submit as frequently as you like; I will only grade the last submission.\n",
    "ok_submit('project01.ok')"
   ]
  },
  {
   "cell_type": "markdown",
   "metadata": {},
   "source": [
    "## Additional Challenges\n",
    "\n",
    "Doing anything additional is strictly optional but can get you a few points of extra credit, should you decide to continue experimenting with your program!\n",
    "\n",
    "These are just ideas, but feel free to follow whatever direction you find interesting or exciting!\n",
    "\n",
    "* Read [how to format strings in a print statement](http://interactivepython.org/runestone/static/pythonds/Introduction/InputandOutput.html)\n",
    "  Use the ideas to make your output be printed with a fixed number of decimal\n",
    "  places.\n",
    "* Also compute the force (in kinetic energy) with which the object strikes the \n",
    "  surface. This will require an additional input to your program. Now how do\n",
    "  the hammer and feather differ?\n",
    "\n",
    "Remember, you can submit as many times as you like!"
   ]
  }
 ],
 "metadata": {
  "kernelspec": {
   "display_name": "Python 3",
   "language": "python",
   "name": "python3"
  },
  "language_info": {
   "codemirror_mode": {
    "name": "ipython",
    "version": 3
   },
   "file_extension": ".py",
   "mimetype": "text/x-python",
   "name": "python",
   "nbconvert_exporter": "python",
   "pygments_lexer": "ipython3",
   "version": "3.9.2"
  },
  "varInspector": {
   "cols": {
    "lenName": 16,
    "lenType": 16,
    "lenVar": 40
   },
   "kernels_config": {
    "python": {
     "delete_cmd_postfix": "",
     "delete_cmd_prefix": "del ",
     "library": "var_list.py",
     "varRefreshCmd": "print(var_dic_list())"
    },
    "r": {
     "delete_cmd_postfix": ") ",
     "delete_cmd_prefix": "rm(",
     "library": "var_list.r",
     "varRefreshCmd": "cat(var_dic_list()) "
    }
   },
   "types_to_exclude": [
    "module",
    "function",
    "builtin_function_or_method",
    "instance",
    "_Feature"
   ],
   "window_display": false
  }
 },
 "nbformat": 4,
 "nbformat_minor": 2
}
