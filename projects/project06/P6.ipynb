{
 "cells": [
  {
   "cell_type": "markdown",
   "metadata": {},
   "source": [
    "# Project 6: Connect the Dots\n",
    "\n",
    "In this program you will be creating a program that draws images from a sequence of $x$ and $y$ coordinates that will be read from an input file.\n",
    "\n",
    "__Note:__ Unlike previous programs, this project will require you to start your Python program from scratch. _You_ will decide what functions should be in your program, and how it should be organized. I have provided a simple start to your program, what it does next is up to you.\n",
    "\n",
    "### Overview of program\n",
    "\n",
    "At a high level, your program should function as follows:\n",
    "\n",
    "1. Ask the user for a file name to get coordinates from.\n",
    "1. Open a canvas with the dimensions given in the file.\n",
    "1. Read the in the rest of the file and parse and run the commands in the file.\n",
    "1. After all of the commands have been read and executed, display the canvas.\n",
    "\n",
    "### The picture file format\n",
    "\n",
    "The files that you read in are regular text files, but they will have a specific format. Each line in the file will be a command that your Python code should interpret and run. These commands will specify where and how to draw lines on the canvas; the end result of executing these commands will be an image that can be displayed.\n",
    "\n",
    "\n",
    "#### Commands\n",
    "\n",
    "* `canvas`: This command specifies the size of the drawing canvas that should be used and is __always__ going to be the very first line of the file and will appear only once.\n",
    "\n",
    "* `lineto` (line to): This command should draw a line from the _current point_ to the _next point._\n",
    "\n",
    "* `dlineto` (dotted line to): This command should draw a dotted line from the _current point_ to the _next point._\n",
    "\n",
    "* `jumpto` (jump to): This command should result in the _current point_ changing to the specified point, with no line drawn between them.\n",
    "\n",
    "The lines should be drawn with a thickness of 2.\n",
    "\n",
    "_Note that you always need to open the canvas before calling many of the functions to set the color or line thickness._"
   ]
  },
  {
   "cell_type": "markdown",
   "metadata": {},
   "source": [
    "#### Example\n",
    "\n",
    "As an example, here is the contents of the file `picture1.txt`:\n",
    "\n",
    "```\n",
    "canvas 200 300\n",
    "jumpto 50 50\n",
    "lineto 90 90\n",
    "jumpto 50 90\n",
    "lineto 90 50\n",
    "jumpto 100 200\n",
    "lineto 100 250\n",
    "lineto 150 250\n",
    "lineto 150 200\n",
    "lineto 100 200\n",
    "```\n",
    "\n",
    "These commands tell us to:\n",
    "\n",
    "1. Open a canvas that is 200 pixels wide by 300 pixels tall.\n",
    "1. Set the current point as $(50, 50)$.\n",
    "1. Draw a line from the current point to $(90, 90)$ and set the current point as $(90, 90)$.\n",
    "1. Set the current point as $(50, 90)$.\n",
    "1. Draw a line from the current point to $(90, 50)$ and set the current point as $(90, 50)$.\n",
    "1. Set the current point as $(100, 200)$.\n",
    "1. Draw a line from the current point to $(100, 250)$ and set the current point as $(100, 250)$\n",
    "1. Draw a line from the current point to $(150, 250)$ and set the current point as $(150, 250)$\n",
    "1. Draw a line from the current point to $(150, 200)$ and set the current point as $(150, 200)$\n",
    "1. Draw a line from the current point to $(100, 200)$ and set the current point as $(100, 200)$\n",
    "\n",
    "The result of doing this will be the following image:\n",
    "\n",
    "<img src=\"https://storage.googleapis.com/141-files/picture1.png\"/>"
   ]
  },
  {
   "cell_type": "markdown",
   "metadata": {},
   "source": [
    "#### Executing instructions\n",
    "\n",
    "You don't have to draw the entire picture all at once. Rather, you should read the file line-by-line and, for each instruction:\n",
    "* Draw a line (for `lineto` and `dlineto`).\n",
    "* Update the current point.\n",
    "\n",
    "#### Sample files\n",
    "\n",
    "You should test your program with each of the following files to make sure they draw the pictures correctly. Each of the files is in the same folder as this notebook and you can open them to look at their contents.\n",
    "\n",
    "The output for each of these should be:\n",
    "* [picture1.txt](https://storage.googleapis.com/141-files/picture1.png)\n",
    "* [picture2.txt](https://storage.googleapis.com/141-files/picture2.png)\n",
    "* [homer.txt](https://storage.googleapis.com/141-files/homer.png)\n",
    "* [panda.txt](https://storage.googleapis.com/141-files/panda.png)\n",
    "* [lynx.txt](https://storage.googleapis.com/141-files/lynx.png)"
   ]
  },
  {
   "cell_type": "markdown",
   "metadata": {},
   "source": [
    "## Writing your program\n",
    "\n",
    "The file `draw.py` is in the same folder as this notebook.\n",
    "\n",
    "Your `main()` function should:\n",
    "* Prompt the user for the name of a file to open.\n",
    "* Open the file and read the size of the canvas to open.\n",
    "* Using a loop, read and execute the commands, calling `draw_line` from the graphics library ([reference](https://matthewlang.github.io/comp141/graphics.html)) and `draw_dotted_line` (you will have to write this function).\n",
    "\n",
    "One approach to this project is to get this program basically working before you implement the `draw_dotted_line` function (for example, you might have a \"placeholder\" version of the function that just draws a line:\n",
    "\n",
    "```\n",
    "def draw_dotted_line(x1, y1, x2, y2):\n",
    "    # Just draws a solid line, for now.\n",
    "    draw_line(x1, y1, x2, y2)\n",
    "```\n",
    "\n",
    "If you do this, you can test with the cell below, and then proceed with the next section that describes the algorithm for drawing a dotted line.\n",
    "\n",
    "Again, remember that you always need to open the canvas before calling `set_line_thickness`."
   ]
  },
  {
   "cell_type": "code",
   "execution_count": null,
   "metadata": {},
   "outputs": [],
   "source": [
    "%run draw.py"
   ]
  },
  {
   "cell_type": "markdown",
   "metadata": {},
   "source": [
    "## Drawing dotted lines\n",
    "\n",
    "Your dotted lines should look like this:\n",
    "\n",
    "<img src=\"https://storage.googleapis.com/141-files/dots.png\"/>\n",
    "\n",
    "In order to draw these types of lines, we will need to design and implement an algorithm.\n",
    "\n",
    "### Deciding where the dots go\n",
    "\n",
    "First, let's look at the problem: we are given $(x1, y1)$ and $(x2, y2)$. We want to draw a sequence of dots between them. The dots are going to be spaced apart by 10 pixels.\n",
    "\n",
    "<img src=\"https://storage.googleapis.com/141-files/dots-step1.png\"/>\n",
    "\n",
    "If we know the distance between the points, that tells us how many points are required in total.\n",
    "\n",
    "<img src=\"https://storage.googleapis.com/141-files/dots-step2.png\"/>\n",
    "\n",
    "Once we know the number of points, we can compute their positions. In order to do that, we need to know the change in x and y between the points (we'll call these x-step and y-step).\n",
    "\n",
    "<img src=\"https://storage.googleapis.com/141-files/dots-step3.png\"/>\n",
    "\n",
    "The first point will be at $(x1, y1)$. Then, the next point (moving from left to right) will be at $(x1 + xstep, y1 + ystep)$. The third point can be found by adding the x-step and y-step to the second point, and so on. The last point is at $(x2, y2)$.\n",
    "\n",
    "\n",
    "### The algorithm\n",
    "\n",
    "First, calculate the number of gaps in the line, and the x and y steps.\n",
    "* Calculate the distance from the starting point to the ending point.\n",
    "* Divide this distance by 10 and convert it to an integer. The resulting value is the number of gaps in the line.\n",
    "* Calculate the total change in the x and y directions.\n",
    "* Divide these by the number of gaps to get the `x_step` and `y_step`.\n",
    "\n",
    "Then, draw the line:\n",
    "* Draw a dot at the starting point (circle of radius 2).\n",
    "* Use a loop to draw the intermediate dots between the starting point and the ending point. With each iteration of the loop, calculate the location of the next dot by adding `x_step` and `y_step` to the current x and y coordinates. Draw a circle at each point.\n",
    "* If necessary, draw the ending point.\n",
    "\n",
    "Your function should have four parameters: `draw_dotted_line(x1, y1, x2, y2)`. $(x1, y1)$ and $(x2, y2)$ will be the starting and ending points of the line.\n",
    "\n",
    "It will be helpful to use the notebook to design and test your function. The cell below is set up to do exactly that."
   ]
  },
  {
   "cell_type": "code",
   "execution_count": null,
   "metadata": {},
   "outputs": [],
   "source": [
    "from cs1.graphics import *\n",
    "from math import sqrt\n",
    "\n",
    "\n",
    "# YOUR FUNCTION HERE\n",
    "\n",
    "# Open a canvas\n",
    "open_canvas(200, 200)\n",
    "\n",
    "# Draw a few lines\n",
    "draw_dotted_line(100, 150, 150, 100)\n",
    "draw_dotted_line(50, 100, 50, 150)\n",
    "draw_dotted_line(0, 0, 200, 200)"
   ]
  },
  {
   "cell_type": "markdown",
   "metadata": {},
   "source": [
    "Your result should look like the example above.\n",
    "\n",
    "Once you have completed your function, you can copy it into `draw.py` and complete the project. You can run your program by running the following cell. Remember to use a thickness of 2 for drawing lines. Also remember to add import statements."
   ]
  },
  {
   "cell_type": "code",
   "execution_count": null,
   "metadata": {},
   "outputs": [],
   "source": [
    "# Run this cell to run your program.\n",
    "%run draw.py"
   ]
  },
  {
   "cell_type": "markdown",
   "metadata": {},
   "source": [
    "### Submitting\n",
    "\n",
    "Run the following cell to submit. You can submit as many times as you like. Make sure that you click the link returned to you by okpy to verify that your notebook and program were both uploaded correctly."
   ]
  },
  {
   "cell_type": "code",
   "execution_count": null,
   "metadata": {
    "deletable": false,
    "editable": false
   },
   "outputs": [],
   "source": [
    "# Run this cell to log in to okpy.org so that you can submit\n",
    "# at the end of the project.\n",
    "from cs1.notebooks import *\n",
    "ok_submit('p6.ok')"
   ]
  },
  {
   "cell_type": "markdown",
   "metadata": {},
   "source": [
    "## Additional Challenges\n",
    "\n",
    "* Allow the user to enter a scaling factor that changes the size of the image (zooms in or out).\n",
    "* Try adding different commands to the image file. If you do this, modify the file picture_submit.txt (anything in this file will be submitted with the project).\n",
    "\n",
    "Remember, you can submit as many times as you like!"
   ]
  },
  {
   "cell_type": "code",
   "execution_count": null,
   "metadata": {},
   "outputs": [],
   "source": []
  }
 ],
 "metadata": {
  "kernelspec": {
   "display_name": "Python 3 (ipykernel)",
   "language": "python",
   "name": "python3"
  },
  "language_info": {
   "codemirror_mode": {
    "name": "ipython",
    "version": 3
   },
   "file_extension": ".py",
   "mimetype": "text/x-python",
   "name": "python",
   "nbconvert_exporter": "python",
   "pygments_lexer": "ipython3",
   "version": "3.9.6"
  },
  "varInspector": {
   "cols": {
    "lenName": 16,
    "lenType": 16,
    "lenVar": 40
   },
   "kernels_config": {
    "python": {
     "delete_cmd_postfix": "",
     "delete_cmd_prefix": "del ",
     "library": "var_list.py",
     "varRefreshCmd": "print(var_dic_list())"
    },
    "r": {
     "delete_cmd_postfix": ") ",
     "delete_cmd_prefix": "rm(",
     "library": "var_list.r",
     "varRefreshCmd": "cat(var_dic_list()) "
    }
   },
   "types_to_exclude": [
    "module",
    "function",
    "builtin_function_or_method",
    "instance",
    "_Feature"
   ],
   "window_display": false
  }
 },
 "nbformat": 4,
 "nbformat_minor": 2
}
